{
 "cells": [
  {
   "cell_type": "markdown",
   "id": "fc212f45-d2da-4382-b25f-a7546fb35490",
   "metadata": {
    "id": "fc212f45-d2da-4382-b25f-a7546fb35490"
   },
   "source": [
    "# De Novo Drug Design with AI\n",
    "\n",
    "In this last section of the tutorial, we will show how we can generate new compounds with artificial intelligence (AI). Historically, [there have been many attempts](https://doi.org/10.3390/ijms22041676) to develop an algorithm that can generate chemical entities with desirable properties. Many of the early methods relied on evolutionary aglorithms, but today deep neural networks have become very popular for this task. It is still not clear if one approach works better than the other, but in this tutorial we will use the [DrugEx package](https://github.com/CDDLeiden/DrugEx), which integrates multiple generative deep learning models and provides a framework to train them with multiple objectives. However, there are many similar models and packages out there each with its own caveats and benefits. Therefore, it is generally a good idea to combine multiple approaches in real world applications because the overlap of the generated compounds between different methodlogies is usually very small.\n",
    "\n",
    "\n",
    "## Transfer Learning (Pretrained & Finetuned Model)\n",
    "\n",
    "We will not be training a generative model from scratch in this tutorial, but instead we will use a common technique called *transfer learning*. In transfer learning, we use an already pretrained model for one task as a starting point to finetune a second model for another task. The workflow is illustrated below:\n",
    "\n",
    "\n",
    "\n",
    "In the context of this tutorial, the pretrained model will be a large model trained on a large data set ([Papyrus](https://zenodo.org/record/7096859)). The task of this model was to observe the entirety of Papyrus data set and learn what a chemical structure looks like and be able to generate chemically valid molecules that resemble known chemistry. For this tutorial, we chose the model based on recurrent neural netoworks (RNNs). These are ususally easier to train so you can run these experiments on a regular GPU that you might have at home without too much waiting. This choice will also affect all other choices we will make in this tutorial so note that for a different model, slightly different workflow would be necessary.\n",
    "\n",
    "This global pretrained model is not very useful for our task, however, because it will likely only be able to generate very small percentage of molecules that might have some activity on the A2A receptor. Therefore, we will use the concept of transfer learning to obtain a finetuned model that can both generate valid molecules, but make those molecules much more similar to those that we extracted previously and should be relevant to the A2A receptor. \n",
    "\n",
    "### Preatrained Model\n",
    "\n",
    "First, let us start by loading and testing the pretrained model. This model is [archived on the Zenodo service](https://zenodo.org/record/7096859). There are many files archived along with the model, but at this point we only care about the `.vocab` and `.pkg` files:"
   ]
  },
  {
   "cell_type": "code",
   "execution_count": 1,
   "id": "9Nl_o4tMpXPg",
   "metadata": {
    "colab": {
     "base_uri": "https://localhost:8080/",
     "height": 1000
    },
    "id": "9Nl_o4tMpXPg",
    "outputId": "50dd0798-8f4a-4bdd-e730-c45528976126"
   },
   "outputs": [
    {
     "name": "stdout",
     "output_type": "stream",
     "text": [
      "Drive already mounted at /content/drive; to attempt to forcibly remount, call drive.mount(\"/content/drive\", force_remount=True).\n",
      "File ‘./data/drugex/models/pretrained/DrugEx_v2_PT_Papyrus05.5.zip’ already there; not retrieving.\n",
      "\n",
      "Archive:  ./data/drugex/models/pretrained/DrugEx_v2_PT_Papyrus05.5.zip\n",
      "fatal: destination path 'drugex-demo' already exists and is not an empty directory.\n",
      "Looking in indexes: https://pypi.org/simple, https://us-python.pkg.dev/colab-wheels/public/simple/\n",
      "Collecting drugex@ git+https://github.com/martin-sicho/DrugEx-CDDG.git@master\n",
      "  Cloning https://github.com/martin-sicho/DrugEx-CDDG.git (to revision master) to /tmp/pip-install-g3flc1tj/drugex_3b9f226b32954426901cf19f001a9b84\n",
      "  Running command git clone -q https://github.com/martin-sicho/DrugEx-CDDG.git /tmp/pip-install-g3flc1tj/drugex_3b9f226b32954426901cf19f001a9b84\n",
      "Collecting papyrus-scaffold-visualizer@ git+https://github.com/martin-sicho/papyrus-scaffold-visualizer.git@v0.2.0\n",
      "  Cloning https://github.com/martin-sicho/papyrus-scaffold-visualizer.git (to revision v0.2.0) to /tmp/pip-install-g3flc1tj/papyrus-scaffold-visualizer_ac59482e583e4ba6926edf705a9ac36e\n",
      "  Running command git clone -q https://github.com/martin-sicho/papyrus-scaffold-visualizer.git /tmp/pip-install-g3flc1tj/papyrus-scaffold-visualizer_ac59482e583e4ba6926edf705a9ac36e\n",
      "  Running command git checkout -q ff4f2e885a3973f90a0d9864dfa00abed493f78d\n",
      "Requirement already satisfied: molplotly==1.1.4 in /usr/local/lib/python3.7/dist-packages (from -r drugex-demo/requirements.txt (line 2)) (1.1.4)\n",
      "Requirement already satisfied: mols2grid==1.0.0 in /usr/local/lib/python3.7/dist-packages (from -r drugex-demo/requirements.txt (line 3)) (1.0.0)\n",
      "Requirement already satisfied: numpy>=1.19 in /usr/local/lib/python3.7/dist-packages (from drugex@ git+https://github.com/martin-sicho/DrugEx-CDDG.git@master->-r drugex-demo/requirements.txt (line 1)) (1.21.6)\n",
      "Requirement already satisfied: scikit-learn>=1.0.2 in /usr/local/lib/python3.7/dist-packages (from drugex@ git+https://github.com/martin-sicho/DrugEx-CDDG.git@master->-r drugex-demo/requirements.txt (line 1)) (1.0.2)\n",
      "Requirement already satisfied: pandas>=1.2.2 in /usr/local/lib/python3.7/dist-packages (from drugex@ git+https://github.com/martin-sicho/DrugEx-CDDG.git@master->-r drugex-demo/requirements.txt (line 1)) (1.3.5)\n",
      "Requirement already satisfied: torch>=1.7.0 in /usr/local/lib/python3.7/dist-packages (from drugex@ git+https://github.com/martin-sicho/DrugEx-CDDG.git@master->-r drugex-demo/requirements.txt (line 1)) (1.12.1+cu113)\n",
      "Requirement already satisfied: matplotlib>=2.0 in /usr/local/lib/python3.7/dist-packages (from drugex@ git+https://github.com/martin-sicho/DrugEx-CDDG.git@master->-r drugex-demo/requirements.txt (line 1)) (3.2.2)\n",
      "Requirement already satisfied: tqdm in /usr/local/lib/python3.7/dist-packages (from drugex@ git+https://github.com/martin-sicho/DrugEx-CDDG.git@master->-r drugex-demo/requirements.txt (line 1)) (4.64.1)\n",
      "Requirement already satisfied: rdkit-pypi in /usr/local/lib/python3.7/dist-packages (from drugex@ git+https://github.com/martin-sicho/DrugEx-CDDG.git@master->-r drugex-demo/requirements.txt (line 1)) (2022.9.1)\n",
      "Requirement already satisfied: joblib in /usr/local/lib/python3.7/dist-packages (from drugex@ git+https://github.com/martin-sicho/DrugEx-CDDG.git@master->-r drugex-demo/requirements.txt (line 1)) (1.2.0)\n",
      "Requirement already satisfied: optuna in /usr/local/lib/python3.7/dist-packages (from drugex@ git+https://github.com/martin-sicho/DrugEx-CDDG.git@master->-r drugex-demo/requirements.txt (line 1)) (3.0.3)\n",
      "Requirement already satisfied: gitpython in /usr/local/lib/python3.7/dist-packages (from drugex@ git+https://github.com/martin-sicho/DrugEx-CDDG.git@master->-r drugex-demo/requirements.txt (line 1)) (3.1.29)\n",
      "Requirement already satisfied: xgboost in /usr/local/lib/python3.7/dist-packages (from drugex@ git+https://github.com/martin-sicho/DrugEx-CDDG.git@master->-r drugex-demo/requirements.txt (line 1)) (0.90)\n",
      "Collecting papyrus_scripts@ git+https://github.com/OlivierBeq/Papyrus-scripts.git@master\n",
      "  Cloning https://github.com/OlivierBeq/Papyrus-scripts.git (to revision master) to /tmp/pip-install-g3flc1tj/papyrus-scripts_b70c1fd39f1246ba8c72e5349b53ef3e\n",
      "  Running command git clone -q https://github.com/OlivierBeq/Papyrus-scripts.git /tmp/pip-install-g3flc1tj/papyrus-scripts_b70c1fd39f1246ba8c72e5349b53ef3e\n",
      "Requirement already satisfied: sklearn in /usr/local/lib/python3.7/dist-packages (from papyrus-scaffold-visualizer@ git+https://github.com/martin-sicho/papyrus-scaffold-visualizer.git@v0.2.0->-r drugex-demo/requirements.txt (line 4)) (0.0)\n",
      "Collecting prodec@ https://github.com/OlivierBeq/ProDEC/tarball/master\n",
      "  Using cached https://github.com/OlivierBeq/ProDEC/tarball/master\n",
      "  Installing build dependencies ... \u001b[?25l\u001b[?25hdone\n",
      "  Getting requirements to build wheel ... \u001b[?25l\u001b[?25hdone\n",
      "    Preparing wheel metadata ... \u001b[?25l\u001b[?25hdone\n",
      "Collecting upsetplot@ https://github.com/OlivierBeq/UpSetPlot/tarball/master\n",
      "  Using cached https://github.com/OlivierBeq/UpSetPlot/tarball/master\n",
      "Requirement already satisfied: requests in /usr/local/lib/python3.7/dist-packages (from papyrus_scripts@ git+https://github.com/OlivierBeq/Papyrus-scripts.git@master->papyrus-scaffold-visualizer@ git+https://github.com/martin-sicho/papyrus-scaffold-visualizer.git@v0.2.0->-r drugex-demo/requirements.txt (line 4)) (2.23.0)\n",
      "Requirement already satisfied: natsort in /usr/local/lib/python3.7/dist-packages (from papyrus_scripts@ git+https://github.com/OlivierBeq/Papyrus-scripts.git@master->papyrus-scaffold-visualizer@ git+https://github.com/martin-sicho/papyrus-scaffold-visualizer.git@v0.2.0->-r drugex-demo/requirements.txt (line 4)) (5.5.0)\n",
      "Requirement already satisfied: mordred in /usr/local/lib/python3.7/dist-packages (from papyrus_scripts@ git+https://github.com/OlivierBeq/Papyrus-scripts.git@master->papyrus-scaffold-visualizer@ git+https://github.com/martin-sicho/papyrus-scaffold-visualizer.git@v0.2.0->-r drugex-demo/requirements.txt (line 4)) (1.2.0)\n",
      "Requirement already satisfied: swifter in /usr/local/lib/python3.7/dist-packages (from papyrus_scripts@ git+https://github.com/OlivierBeq/Papyrus-scripts.git@master->papyrus-scaffold-visualizer@ git+https://github.com/martin-sicho/papyrus-scaffold-visualizer.git@v0.2.0->-r drugex-demo/requirements.txt (line 4)) (1.3.4)\n",
      "Requirement already satisfied: pystow in /usr/local/lib/python3.7/dist-packages (from papyrus_scripts@ git+https://github.com/OlivierBeq/Papyrus-scripts.git@master->papyrus-scaffold-visualizer@ git+https://github.com/martin-sicho/papyrus-scaffold-visualizer.git@v0.2.0->-r drugex-demo/requirements.txt (line 4)) (0.4.6)\n",
      "Requirement already satisfied: tabulate in /usr/local/lib/python3.7/dist-packages (from papyrus_scripts@ git+https://github.com/OlivierBeq/Papyrus-scripts.git@master->papyrus-scaffold-visualizer@ git+https://github.com/martin-sicho/papyrus-scaffold-visualizer.git@v0.2.0->-r drugex-demo/requirements.txt (line 4)) (0.8.10)\n",
      "Requirement already satisfied: orjson in /usr/local/lib/python3.7/dist-packages (from prodec@ https://github.com/OlivierBeq/ProDEC/tarball/master->papyrus_scripts@ git+https://github.com/OlivierBeq/Papyrus-scripts.git@master->papyrus-scaffold-visualizer@ git+https://github.com/martin-sicho/papyrus-scaffold-visualizer.git@v0.2.0->-r drugex-demo/requirements.txt (line 4)) (3.8.1)\n",
      "Requirement already satisfied: psutil in /usr/local/lib/python3.7/dist-packages (from prodec@ https://github.com/OlivierBeq/ProDEC/tarball/master->papyrus_scripts@ git+https://github.com/OlivierBeq/Papyrus-scripts.git@master->papyrus-scaffold-visualizer@ git+https://github.com/martin-sicho/papyrus-scaffold-visualizer.git@v0.2.0->-r drugex-demo/requirements.txt (line 4)) (5.9.3)\n",
      "Requirement already satisfied: plotly>=5.0.0 in /usr/local/lib/python3.7/dist-packages (from molplotly==1.1.4->-r drugex-demo/requirements.txt (line 2)) (5.5.0)\n",
      "Requirement already satisfied: ipykernel in /usr/local/lib/python3.7/dist-packages (from molplotly==1.1.4->-r drugex-demo/requirements.txt (line 2)) (5.3.4)\n",
      "Requirement already satisfied: jupyter-dash>=0.4.2 in /usr/local/lib/python3.7/dist-packages (from molplotly==1.1.4->-r drugex-demo/requirements.txt (line 2)) (0.4.2)\n",
      "Requirement already satisfied: nbformat in /usr/local/lib/python3.7/dist-packages (from molplotly==1.1.4->-r drugex-demo/requirements.txt (line 2)) (5.7.0)\n",
      "Requirement already satisfied: dash>=2.0.0 in /usr/local/lib/python3.7/dist-packages (from molplotly==1.1.4->-r drugex-demo/requirements.txt (line 2)) (2.6.2)\n",
      "Requirement already satisfied: werkzeug>=2.0.0 in /usr/local/lib/python3.7/dist-packages (from molplotly==1.1.4->-r drugex-demo/requirements.txt (line 2)) (2.2.2)\n",
      "Requirement already satisfied: jinja2>=2.11.0 in /usr/local/lib/python3.7/dist-packages (from mols2grid==1.0.0->-r drugex-demo/requirements.txt (line 3)) (3.1.2)\n",
      "Requirement already satisfied: ipywidgets<8,>=7 in /usr/local/lib/python3.7/dist-packages (from mols2grid==1.0.0->-r drugex-demo/requirements.txt (line 3)) (7.7.1)\n",
      "Requirement already satisfied: dash-core-components==2.0.0 in /usr/local/lib/python3.7/dist-packages (from dash>=2.0.0->molplotly==1.1.4->-r drugex-demo/requirements.txt (line 2)) (2.0.0)\n",
      "Requirement already satisfied: dash-html-components==2.0.0 in /usr/local/lib/python3.7/dist-packages (from dash>=2.0.0->molplotly==1.1.4->-r drugex-demo/requirements.txt (line 2)) (2.0.0)\n",
      "Requirement already satisfied: flask-compress in /usr/local/lib/python3.7/dist-packages (from dash>=2.0.0->molplotly==1.1.4->-r drugex-demo/requirements.txt (line 2)) (1.13)\n",
      "Requirement already satisfied: Flask>=1.0.4 in /usr/local/lib/python3.7/dist-packages (from dash>=2.0.0->molplotly==1.1.4->-r drugex-demo/requirements.txt (line 2)) (2.2.2)\n",
      "Requirement already satisfied: dash-table==5.0.0 in /usr/local/lib/python3.7/dist-packages (from dash>=2.0.0->molplotly==1.1.4->-r drugex-demo/requirements.txt (line 2)) (5.0.0)\n",
      "Requirement already satisfied: click>=8.0 in /usr/local/lib/python3.7/dist-packages (from Flask>=1.0.4->dash>=2.0.0->molplotly==1.1.4->-r drugex-demo/requirements.txt (line 2)) (8.1.3)\n",
      "Requirement already satisfied: importlib-metadata>=3.6.0 in /usr/local/lib/python3.7/dist-packages (from Flask>=1.0.4->dash>=2.0.0->molplotly==1.1.4->-r drugex-demo/requirements.txt (line 2)) (4.13.0)\n",
      "Requirement already satisfied: itsdangerous>=2.0 in /usr/local/lib/python3.7/dist-packages (from Flask>=1.0.4->dash>=2.0.0->molplotly==1.1.4->-r drugex-demo/requirements.txt (line 2)) (2.1.2)\n",
      "Requirement already satisfied: zipp>=0.5 in /usr/local/lib/python3.7/dist-packages (from importlib-metadata>=3.6.0->Flask>=1.0.4->dash>=2.0.0->molplotly==1.1.4->-r drugex-demo/requirements.txt (line 2)) (3.9.0)\n",
      "Requirement already satisfied: typing-extensions>=3.6.4 in /usr/local/lib/python3.7/dist-packages (from importlib-metadata>=3.6.0->Flask>=1.0.4->dash>=2.0.0->molplotly==1.1.4->-r drugex-demo/requirements.txt (line 2)) (4.1.1)\n",
      "Requirement already satisfied: ipython-genutils~=0.2.0 in /usr/local/lib/python3.7/dist-packages (from ipywidgets<8,>=7->mols2grid==1.0.0->-r drugex-demo/requirements.txt (line 3)) (0.2.0)\n",
      "Requirement already satisfied: ipython>=4.0.0 in /usr/local/lib/python3.7/dist-packages (from ipywidgets<8,>=7->mols2grid==1.0.0->-r drugex-demo/requirements.txt (line 3)) (7.9.0)\n",
      "Requirement already satisfied: traitlets>=4.3.1 in /usr/local/lib/python3.7/dist-packages (from ipywidgets<8,>=7->mols2grid==1.0.0->-r drugex-demo/requirements.txt (line 3)) (5.1.1)\n",
      "Requirement already satisfied: jupyterlab-widgets>=1.0.0 in /usr/local/lib/python3.7/dist-packages (from ipywidgets<8,>=7->mols2grid==1.0.0->-r drugex-demo/requirements.txt (line 3)) (3.0.3)\n",
      "Requirement already satisfied: widgetsnbextension~=3.6.0 in /usr/local/lib/python3.7/dist-packages (from ipywidgets<8,>=7->mols2grid==1.0.0->-r drugex-demo/requirements.txt (line 3)) (3.6.1)\n",
      "Requirement already satisfied: tornado>=4.2 in /usr/local/lib/python3.7/dist-packages (from ipykernel->molplotly==1.1.4->-r drugex-demo/requirements.txt (line 2)) (5.1.1)\n",
      "Requirement already satisfied: jupyter-client in /usr/local/lib/python3.7/dist-packages (from ipykernel->molplotly==1.1.4->-r drugex-demo/requirements.txt (line 2)) (6.1.12)\n",
      "Requirement already satisfied: pickleshare in /usr/local/lib/python3.7/dist-packages (from ipython>=4.0.0->ipywidgets<8,>=7->mols2grid==1.0.0->-r drugex-demo/requirements.txt (line 3)) (0.7.5)\n",
      "Requirement already satisfied: decorator in /usr/local/lib/python3.7/dist-packages (from ipython>=4.0.0->ipywidgets<8,>=7->mols2grid==1.0.0->-r drugex-demo/requirements.txt (line 3)) (4.4.2)\n",
      "Requirement already satisfied: setuptools>=18.5 in /usr/local/lib/python3.7/dist-packages (from ipython>=4.0.0->ipywidgets<8,>=7->mols2grid==1.0.0->-r drugex-demo/requirements.txt (line 3)) (57.4.0)\n",
      "Requirement already satisfied: prompt-toolkit<2.1.0,>=2.0.0 in /usr/local/lib/python3.7/dist-packages (from ipython>=4.0.0->ipywidgets<8,>=7->mols2grid==1.0.0->-r drugex-demo/requirements.txt (line 3)) (2.0.10)\n",
      "Requirement already satisfied: pygments in /usr/local/lib/python3.7/dist-packages (from ipython>=4.0.0->ipywidgets<8,>=7->mols2grid==1.0.0->-r drugex-demo/requirements.txt (line 3)) (2.6.1)\n",
      "Requirement already satisfied: pexpect in /usr/local/lib/python3.7/dist-packages (from ipython>=4.0.0->ipywidgets<8,>=7->mols2grid==1.0.0->-r drugex-demo/requirements.txt (line 3)) (4.8.0)\n",
      "Requirement already satisfied: jedi>=0.10 in /usr/local/lib/python3.7/dist-packages (from ipython>=4.0.0->ipywidgets<8,>=7->mols2grid==1.0.0->-r drugex-demo/requirements.txt (line 3)) (0.18.1)\n",
      "Requirement already satisfied: backcall in /usr/local/lib/python3.7/dist-packages (from ipython>=4.0.0->ipywidgets<8,>=7->mols2grid==1.0.0->-r drugex-demo/requirements.txt (line 3)) (0.2.0)\n",
      "Requirement already satisfied: parso<0.9.0,>=0.8.0 in /usr/local/lib/python3.7/dist-packages (from jedi>=0.10->ipython>=4.0.0->ipywidgets<8,>=7->mols2grid==1.0.0->-r drugex-demo/requirements.txt (line 3)) (0.8.3)\n",
      "Requirement already satisfied: MarkupSafe>=2.0 in /usr/local/lib/python3.7/dist-packages (from jinja2>=2.11.0->mols2grid==1.0.0->-r drugex-demo/requirements.txt (line 3)) (2.1.1)\n",
      "Requirement already satisfied: retrying in /usr/local/lib/python3.7/dist-packages (from jupyter-dash>=0.4.2->molplotly==1.1.4->-r drugex-demo/requirements.txt (line 2)) (1.3.3)\n",
      "Requirement already satisfied: ansi2html in /usr/local/lib/python3.7/dist-packages (from jupyter-dash>=0.4.2->molplotly==1.1.4->-r drugex-demo/requirements.txt (line 2)) (1.8.0)\n",
      "Requirement already satisfied: nest-asyncio in /usr/local/lib/python3.7/dist-packages (from jupyter-dash>=0.4.2->molplotly==1.1.4->-r drugex-demo/requirements.txt (line 2)) (1.5.6)\n",
      "Requirement already satisfied: cycler>=0.10 in /usr/local/lib/python3.7/dist-packages (from matplotlib>=2.0->drugex@ git+https://github.com/martin-sicho/DrugEx-CDDG.git@master->-r drugex-demo/requirements.txt (line 1)) (0.11.0)\n",
      "Requirement already satisfied: kiwisolver>=1.0.1 in /usr/local/lib/python3.7/dist-packages (from matplotlib>=2.0->drugex@ git+https://github.com/martin-sicho/DrugEx-CDDG.git@master->-r drugex-demo/requirements.txt (line 1)) (1.4.4)\n",
      "Requirement already satisfied: python-dateutil>=2.1 in /usr/local/lib/python3.7/dist-packages (from matplotlib>=2.0->drugex@ git+https://github.com/martin-sicho/DrugEx-CDDG.git@master->-r drugex-demo/requirements.txt (line 1)) (2.8.2)\n",
      "Requirement already satisfied: pyparsing!=2.0.4,!=2.1.2,!=2.1.6,>=2.0.1 in /usr/local/lib/python3.7/dist-packages (from matplotlib>=2.0->drugex@ git+https://github.com/martin-sicho/DrugEx-CDDG.git@master->-r drugex-demo/requirements.txt (line 1)) (3.0.9)\n",
      "Requirement already satisfied: pytz>=2017.3 in /usr/local/lib/python3.7/dist-packages (from pandas>=1.2.2->drugex@ git+https://github.com/martin-sicho/DrugEx-CDDG.git@master->-r drugex-demo/requirements.txt (line 1)) (2022.5)\n",
      "Requirement already satisfied: tenacity>=6.2.0 in /usr/local/lib/python3.7/dist-packages (from plotly>=5.0.0->molplotly==1.1.4->-r drugex-demo/requirements.txt (line 2)) (8.1.0)\n",
      "Requirement already satisfied: six in /usr/local/lib/python3.7/dist-packages (from plotly>=5.0.0->molplotly==1.1.4->-r drugex-demo/requirements.txt (line 2)) (1.15.0)\n",
      "Requirement already satisfied: wcwidth in /usr/local/lib/python3.7/dist-packages (from prompt-toolkit<2.1.0,>=2.0.0->ipython>=4.0.0->ipywidgets<8,>=7->mols2grid==1.0.0->-r drugex-demo/requirements.txt (line 3)) (0.2.5)\n",
      "Requirement already satisfied: threadpoolctl>=2.0.0 in /usr/local/lib/python3.7/dist-packages (from scikit-learn>=1.0.2->drugex@ git+https://github.com/martin-sicho/DrugEx-CDDG.git@master->-r drugex-demo/requirements.txt (line 1)) (3.1.0)\n",
      "Requirement already satisfied: scipy>=1.1.0 in /usr/local/lib/python3.7/dist-packages (from scikit-learn>=1.0.2->drugex@ git+https://github.com/martin-sicho/DrugEx-CDDG.git@master->-r drugex-demo/requirements.txt (line 1)) (1.7.3)\n",
      "Requirement already satisfied: notebook>=4.4.1 in /usr/local/lib/python3.7/dist-packages (from widgetsnbextension~=3.6.0->ipywidgets<8,>=7->mols2grid==1.0.0->-r drugex-demo/requirements.txt (line 3)) (5.5.0)\n",
      "Requirement already satisfied: jupyter-core>=4.4.0 in /usr/local/lib/python3.7/dist-packages (from notebook>=4.4.1->widgetsnbextension~=3.6.0->ipywidgets<8,>=7->mols2grid==1.0.0->-r drugex-demo/requirements.txt (line 3)) (4.11.2)\n",
      "Requirement already satisfied: Send2Trash in /usr/local/lib/python3.7/dist-packages (from notebook>=4.4.1->widgetsnbextension~=3.6.0->ipywidgets<8,>=7->mols2grid==1.0.0->-r drugex-demo/requirements.txt (line 3)) (1.8.0)\n",
      "Requirement already satisfied: pyzmq>=17 in /usr/local/lib/python3.7/dist-packages (from notebook>=4.4.1->widgetsnbextension~=3.6.0->ipywidgets<8,>=7->mols2grid==1.0.0->-r drugex-demo/requirements.txt (line 3)) (23.2.1)\n",
      "Requirement already satisfied: nbconvert in /usr/local/lib/python3.7/dist-packages (from notebook>=4.4.1->widgetsnbextension~=3.6.0->ipywidgets<8,>=7->mols2grid==1.0.0->-r drugex-demo/requirements.txt (line 3)) (5.6.1)\n",
      "Requirement already satisfied: terminado>=0.8.1 in /usr/local/lib/python3.7/dist-packages (from notebook>=4.4.1->widgetsnbextension~=3.6.0->ipywidgets<8,>=7->mols2grid==1.0.0->-r drugex-demo/requirements.txt (line 3)) (0.13.3)\n",
      "Requirement already satisfied: ptyprocess in /usr/local/lib/python3.7/dist-packages (from terminado>=0.8.1->notebook>=4.4.1->widgetsnbextension~=3.6.0->ipywidgets<8,>=7->mols2grid==1.0.0->-r drugex-demo/requirements.txt (line 3)) (0.7.0)\n",
      "Requirement already satisfied: brotli in /usr/local/lib/python3.7/dist-packages (from flask-compress->dash>=2.0.0->molplotly==1.1.4->-r drugex-demo/requirements.txt (line 2)) (1.0.9)\n",
      "Requirement already satisfied: gitdb<5,>=4.0.1 in /usr/local/lib/python3.7/dist-packages (from gitpython->drugex@ git+https://github.com/martin-sicho/DrugEx-CDDG.git@master->-r drugex-demo/requirements.txt (line 1)) (4.0.9)\n",
      "Requirement already satisfied: smmap<6,>=3.0.1 in /usr/local/lib/python3.7/dist-packages (from gitdb<5,>=4.0.1->gitpython->drugex@ git+https://github.com/martin-sicho/DrugEx-CDDG.git@master->-r drugex-demo/requirements.txt (line 1)) (5.0.0)\n",
      "Requirement already satisfied: networkx==2.* in /usr/local/lib/python3.7/dist-packages (from mordred->papyrus_scripts@ git+https://github.com/OlivierBeq/Papyrus-scripts.git@master->papyrus-scaffold-visualizer@ git+https://github.com/martin-sicho/papyrus-scaffold-visualizer.git@v0.2.0->-r drugex-demo/requirements.txt (line 4)) (2.6.3)\n",
      "Requirement already satisfied: testpath in /usr/local/lib/python3.7/dist-packages (from nbconvert->notebook>=4.4.1->widgetsnbextension~=3.6.0->ipywidgets<8,>=7->mols2grid==1.0.0->-r drugex-demo/requirements.txt (line 3)) (0.6.0)\n",
      "Requirement already satisfied: entrypoints>=0.2.2 in /usr/local/lib/python3.7/dist-packages (from nbconvert->notebook>=4.4.1->widgetsnbextension~=3.6.0->ipywidgets<8,>=7->mols2grid==1.0.0->-r drugex-demo/requirements.txt (line 3)) (0.4)\n",
      "Requirement already satisfied: pandocfilters>=1.4.1 in /usr/local/lib/python3.7/dist-packages (from nbconvert->notebook>=4.4.1->widgetsnbextension~=3.6.0->ipywidgets<8,>=7->mols2grid==1.0.0->-r drugex-demo/requirements.txt (line 3)) (1.5.0)\n",
      "Requirement already satisfied: bleach in /usr/local/lib/python3.7/dist-packages (from nbconvert->notebook>=4.4.1->widgetsnbextension~=3.6.0->ipywidgets<8,>=7->mols2grid==1.0.0->-r drugex-demo/requirements.txt (line 3)) (5.0.1)\n",
      "Requirement already satisfied: mistune<2,>=0.8.1 in /usr/local/lib/python3.7/dist-packages (from nbconvert->notebook>=4.4.1->widgetsnbextension~=3.6.0->ipywidgets<8,>=7->mols2grid==1.0.0->-r drugex-demo/requirements.txt (line 3)) (0.8.4)\n",
      "Requirement already satisfied: defusedxml in /usr/local/lib/python3.7/dist-packages (from nbconvert->notebook>=4.4.1->widgetsnbextension~=3.6.0->ipywidgets<8,>=7->mols2grid==1.0.0->-r drugex-demo/requirements.txt (line 3)) (0.7.1)\n",
      "Requirement already satisfied: jsonschema>=2.6 in /usr/local/lib/python3.7/dist-packages (from nbformat->molplotly==1.1.4->-r drugex-demo/requirements.txt (line 2)) (4.3.3)\n",
      "Requirement already satisfied: fastjsonschema in /usr/local/lib/python3.7/dist-packages (from nbformat->molplotly==1.1.4->-r drugex-demo/requirements.txt (line 2)) (2.16.2)\n",
      "Requirement already satisfied: importlib-resources>=1.4.0 in /usr/local/lib/python3.7/dist-packages (from jsonschema>=2.6->nbformat->molplotly==1.1.4->-r drugex-demo/requirements.txt (line 2)) (5.10.0)\n",
      "Requirement already satisfied: attrs>=17.4.0 in /usr/local/lib/python3.7/dist-packages (from jsonschema>=2.6->nbformat->molplotly==1.1.4->-r drugex-demo/requirements.txt (line 2)) (22.1.0)\n",
      "Requirement already satisfied: pyrsistent!=0.17.0,!=0.17.1,!=0.17.2,>=0.14.0 in /usr/local/lib/python3.7/dist-packages (from jsonschema>=2.6->nbformat->molplotly==1.1.4->-r drugex-demo/requirements.txt (line 2)) (0.18.1)\n",
      "Requirement already satisfied: webencodings in /usr/local/lib/python3.7/dist-packages (from bleach->nbconvert->notebook>=4.4.1->widgetsnbextension~=3.6.0->ipywidgets<8,>=7->mols2grid==1.0.0->-r drugex-demo/requirements.txt (line 3)) (0.5.1)\n",
      "Requirement already satisfied: packaging>=20.0 in /usr/local/lib/python3.7/dist-packages (from optuna->drugex@ git+https://github.com/martin-sicho/DrugEx-CDDG.git@master->-r drugex-demo/requirements.txt (line 1)) (21.3)\n",
      "Requirement already satisfied: colorlog in /usr/local/lib/python3.7/dist-packages (from optuna->drugex@ git+https://github.com/martin-sicho/DrugEx-CDDG.git@master->-r drugex-demo/requirements.txt (line 1)) (6.7.0)\n",
      "Requirement already satisfied: PyYAML in /usr/local/lib/python3.7/dist-packages (from optuna->drugex@ git+https://github.com/martin-sicho/DrugEx-CDDG.git@master->-r drugex-demo/requirements.txt (line 1)) (6.0)\n",
      "Requirement already satisfied: cmaes>=0.8.2 in /usr/local/lib/python3.7/dist-packages (from optuna->drugex@ git+https://github.com/martin-sicho/DrugEx-CDDG.git@master->-r drugex-demo/requirements.txt (line 1)) (0.8.2)\n",
      "Requirement already satisfied: sqlalchemy>=1.3.0 in /usr/local/lib/python3.7/dist-packages (from optuna->drugex@ git+https://github.com/martin-sicho/DrugEx-CDDG.git@master->-r drugex-demo/requirements.txt (line 1)) (1.4.42)\n",
      "Requirement already satisfied: alembic>=1.5.0 in /usr/local/lib/python3.7/dist-packages (from optuna->drugex@ git+https://github.com/martin-sicho/DrugEx-CDDG.git@master->-r drugex-demo/requirements.txt (line 1)) (1.8.1)\n",
      "Requirement already satisfied: cliff in /usr/local/lib/python3.7/dist-packages (from optuna->drugex@ git+https://github.com/martin-sicho/DrugEx-CDDG.git@master->-r drugex-demo/requirements.txt (line 1)) (3.10.1)\n",
      "Requirement already satisfied: Mako in /usr/local/lib/python3.7/dist-packages (from alembic>=1.5.0->optuna->drugex@ git+https://github.com/martin-sicho/DrugEx-CDDG.git@master->-r drugex-demo/requirements.txt (line 1)) (1.2.3)\n",
      "Requirement already satisfied: greenlet!=0.4.17 in /usr/local/lib/python3.7/dist-packages (from sqlalchemy>=1.3.0->optuna->drugex@ git+https://github.com/martin-sicho/DrugEx-CDDG.git@master->-r drugex-demo/requirements.txt (line 1)) (1.1.3.post0)\n",
      "Requirement already satisfied: cmd2>=1.0.0 in /usr/local/lib/python3.7/dist-packages (from cliff->optuna->drugex@ git+https://github.com/martin-sicho/DrugEx-CDDG.git@master->-r drugex-demo/requirements.txt (line 1)) (2.4.2)\n",
      "Requirement already satisfied: stevedore>=2.0.1 in /usr/local/lib/python3.7/dist-packages (from cliff->optuna->drugex@ git+https://github.com/martin-sicho/DrugEx-CDDG.git@master->-r drugex-demo/requirements.txt (line 1)) (3.5.2)\n",
      "Requirement already satisfied: autopage>=0.4.0 in /usr/local/lib/python3.7/dist-packages (from cliff->optuna->drugex@ git+https://github.com/martin-sicho/DrugEx-CDDG.git@master->-r drugex-demo/requirements.txt (line 1)) (0.5.1)\n",
      "Requirement already satisfied: PrettyTable>=0.7.2 in /usr/local/lib/python3.7/dist-packages (from cliff->optuna->drugex@ git+https://github.com/martin-sicho/DrugEx-CDDG.git@master->-r drugex-demo/requirements.txt (line 1)) (3.4.1)\n",
      "Requirement already satisfied: pbr!=2.1.0,>=2.0.0 in /usr/local/lib/python3.7/dist-packages (from cliff->optuna->drugex@ git+https://github.com/martin-sicho/DrugEx-CDDG.git@master->-r drugex-demo/requirements.txt (line 1)) (5.11.0)\n",
      "Requirement already satisfied: pyperclip>=1.6 in /usr/local/lib/python3.7/dist-packages (from cmd2>=1.0.0->cliff->optuna->drugex@ git+https://github.com/martin-sicho/DrugEx-CDDG.git@master->-r drugex-demo/requirements.txt (line 1)) (1.8.2)\n",
      "Requirement already satisfied: pickle5 in /usr/local/lib/python3.7/dist-packages (from pystow->papyrus_scripts@ git+https://github.com/OlivierBeq/Papyrus-scripts.git@master->papyrus-scaffold-visualizer@ git+https://github.com/martin-sicho/papyrus-scaffold-visualizer.git@v0.2.0->-r drugex-demo/requirements.txt (line 4)) (0.0.12)\n",
      "Requirement already satisfied: Pillow in /usr/local/lib/python3.7/dist-packages (from rdkit-pypi->drugex@ git+https://github.com/martin-sicho/DrugEx-CDDG.git@master->-r drugex-demo/requirements.txt (line 1)) (7.1.2)\n",
      "Requirement already satisfied: chardet<4,>=3.0.2 in /usr/local/lib/python3.7/dist-packages (from requests->papyrus_scripts@ git+https://github.com/OlivierBeq/Papyrus-scripts.git@master->papyrus-scaffold-visualizer@ git+https://github.com/martin-sicho/papyrus-scaffold-visualizer.git@v0.2.0->-r drugex-demo/requirements.txt (line 4)) (3.0.4)\n",
      "Requirement already satisfied: urllib3!=1.25.0,!=1.25.1,<1.26,>=1.21.1 in /usr/local/lib/python3.7/dist-packages (from requests->papyrus_scripts@ git+https://github.com/OlivierBeq/Papyrus-scripts.git@master->papyrus-scaffold-visualizer@ git+https://github.com/martin-sicho/papyrus-scaffold-visualizer.git@v0.2.0->-r drugex-demo/requirements.txt (line 4)) (1.24.3)\n",
      "Requirement already satisfied: idna<3,>=2.5 in /usr/local/lib/python3.7/dist-packages (from requests->papyrus_scripts@ git+https://github.com/OlivierBeq/Papyrus-scripts.git@master->papyrus-scaffold-visualizer@ git+https://github.com/martin-sicho/papyrus-scaffold-visualizer.git@v0.2.0->-r drugex-demo/requirements.txt (line 4)) (2.10)\n",
      "Requirement already satisfied: certifi>=2017.4.17 in /usr/local/lib/python3.7/dist-packages (from requests->papyrus_scripts@ git+https://github.com/OlivierBeq/Papyrus-scripts.git@master->papyrus-scaffold-visualizer@ git+https://github.com/martin-sicho/papyrus-scaffold-visualizer.git@v0.2.0->-r drugex-demo/requirements.txt (line 4)) (2022.9.24)\n",
      "Requirement already satisfied: dask[dataframe]>=2.10.0 in /usr/local/lib/python3.7/dist-packages (from swifter->papyrus_scripts@ git+https://github.com/OlivierBeq/Papyrus-scripts.git@master->papyrus-scaffold-visualizer@ git+https://github.com/martin-sicho/papyrus-scaffold-visualizer.git@v0.2.0->-r drugex-demo/requirements.txt (line 4)) (2022.2.0)\n",
      "Requirement already satisfied: cloudpickle>=0.2.2 in /usr/local/lib/python3.7/dist-packages (from swifter->papyrus_scripts@ git+https://github.com/OlivierBeq/Papyrus-scripts.git@master->papyrus-scaffold-visualizer@ git+https://github.com/martin-sicho/papyrus-scaffold-visualizer.git@v0.2.0->-r drugex-demo/requirements.txt (line 4)) (1.5.0)\n",
      "Requirement already satisfied: partd>=0.3.10 in /usr/local/lib/python3.7/dist-packages (from dask[dataframe]>=2.10.0->swifter->papyrus_scripts@ git+https://github.com/OlivierBeq/Papyrus-scripts.git@master->papyrus-scaffold-visualizer@ git+https://github.com/martin-sicho/papyrus-scaffold-visualizer.git@v0.2.0->-r drugex-demo/requirements.txt (line 4)) (1.3.0)\n",
      "Requirement already satisfied: toolz>=0.8.2 in /usr/local/lib/python3.7/dist-packages (from dask[dataframe]>=2.10.0->swifter->papyrus_scripts@ git+https://github.com/OlivierBeq/Papyrus-scripts.git@master->papyrus-scaffold-visualizer@ git+https://github.com/martin-sicho/papyrus-scaffold-visualizer.git@v0.2.0->-r drugex-demo/requirements.txt (line 4)) (0.12.0)\n",
      "Requirement already satisfied: fsspec>=0.6.0 in /usr/local/lib/python3.7/dist-packages (from dask[dataframe]>=2.10.0->swifter->papyrus_scripts@ git+https://github.com/OlivierBeq/Papyrus-scripts.git@master->papyrus-scaffold-visualizer@ git+https://github.com/martin-sicho/papyrus-scaffold-visualizer.git@v0.2.0->-r drugex-demo/requirements.txt (line 4)) (2022.10.0)\n",
      "Requirement already satisfied: locket in /usr/local/lib/python3.7/dist-packages (from partd>=0.3.10->dask[dataframe]>=2.10.0->swifter->papyrus_scripts@ git+https://github.com/OlivierBeq/Papyrus-scripts.git@master->papyrus-scaffold-visualizer@ git+https://github.com/martin-sicho/papyrus-scaffold-visualizer.git@v0.2.0->-r drugex-demo/requirements.txt (line 4)) (1.0.0)\n"
     ]
    },
    {
     "data": {
      "application/vnd.google.colaboratory.intrinsic+json": {
       "type": "string"
      },
      "text/plain": [
       "'/content/drive/MyDrive/DrugExDemo'"
      ]
     },
     "execution_count": 1,
     "metadata": {},
     "output_type": "execute_result"
    }
   ],
   "source": [
    "# mount google drive\n",
    "from google.colab import drive\n",
    "drive.mount('/content/drive')\n",
    "\n",
    "# define work directory to store data\n",
    "DATA_ROOT = '/content/drive/MyDrive/DrugExDemo/' # or wherever you want the generated files to live on your GoogleDrive\n",
    "import os\n",
    "os.makedirs(DATA_ROOT, exist_ok=True)\n",
    "os.chdir(DATA_ROOT) \n",
    "\n",
    "# fetch pretrained model\n",
    "os.makedirs(\"./data/drugex/models/pretrained/\", exist_ok=True)\n",
    "! wget -nc -P './data/drugex/models/pretrained/' 'https://zenodo.org/record/7096859/files/DrugEx_v2_PT_Papyrus05.5.zip'\n",
    "! unzip -n './data/drugex/models/pretrained/DrugEx_v2_PT_Papyrus05.5.zip' -d './data/drugex/models/pretrained/DrugEx_v2_PT_Papyrus05.5'\n",
    "\n",
    "# install dependencies\n",
    "! git clone https://github.com/martin-sicho/drugex-demo\n",
    "! pip install -r drugex-demo/requirements.txt\n",
    "\n",
    "# verify where we are working\n",
    "os.getcwd()"
   ]
  },
  {
   "cell_type": "code",
   "execution_count": 2,
   "id": "70a859d9-a55e-4a64-8c87-8995d43f676b",
   "metadata": {
    "id": "70a859d9-a55e-4a64-8c87-8995d43f676b"
   },
   "outputs": [],
   "source": [
    "import os\n",
    "from drugex.training.models import RNN\n",
    "from drugex.data.corpus.vocabulary import VocSmiles\n",
    "\n",
    "PT_MODEL_FOLDER = \"data/drugex/models/pretrained/DrugEx_v2_PT_Papyrus05.5/\"\n",
    "GPUS = [0] # we will use only one GPU with ID=0, but if you have more, you can list more GPU IDs here\n",
    "\n",
    "voc = VocSmiles.fromFile(os.path.join(PT_MODEL_FOLDER, \"Papyrus05.5_smiles_rnn_PT.vocab\"))\n",
    "pretrained = RNN(voc, is_lstm=True, use_gpus=GPUS)\n",
    "pretrained.loadStatesFromFile(os.path.join(PT_MODEL_FOLDER, \"Papyrus05.5_smiles_rnn_PT.pkg\"))"
   ]
  },
  {
   "cell_type": "markdown",
   "id": "f495c430-c5f6-4d28-a6d8-caf24f4fa6ad",
   "metadata": {
    "id": "f495c430-c5f6-4d28-a6d8-caf24f4fa6ad"
   },
   "source": [
    "The `RNN` model requires a vocabulary of tokens to be provided. You can open this file and see the tokens defined in it. These are the words of the SMILES language that we use to define structures of molecules. What the model learned is how to combine these words into viable sentences (chemical structures) in the SMILES language. The data saved in the `.pkg` file are the weights (learned states) of the model that define the learned parameters and tell the model how to combine the tokens in the vocabulary in the correct way to generate a random compound that resembles known chemistry.\n",
    "\n",
    "At this point, we should have the pretrained model loaded and be ready to generate some molecules with it. We can validate that the model functions as expected by sampling a small number of molecules from it:"
   ]
  },
  {
   "cell_type": "code",
   "execution_count": 3,
   "id": "e2c64ef2-e7b4-4d3e-8376-fa1782bfb5ee",
   "metadata": {
    "colab": {
     "base_uri": "https://localhost:8080/"
    },
    "id": "e2c64ef2-e7b4-4d3e-8376-fa1782bfb5ee",
    "outputId": "bf3ec6c5-e010-4f60-d4a6-27f1d7d12169"
   },
   "outputs": [
    {
     "name": "stdout",
     "output_type": "stream",
     "text": [
      "['OCc1nc(Cc2ccc(O)c3nc(O)c(O)nc23)n(-c2ccc(F)cc2)c1C(O)F', 'C#Cc1ccc(-c2nc(O)c3ccc4c(c3n2)C(C)(C)CC4)c(C)c1', 'CCC(=O)c1c(O)cccc1OC', 'CC(C)CC(N)c1csc(Nc2ccc(S(N)(=O)=O)cc2)n1', 'COc1ccc(-c2csc(NC(=O)C3CCCCN3C(=O)c3ccc(C(=O)NO)cc3)n2)cc1', 'Cc1ccc(C(=O)c2c(O)c(O)n(Cc3cccnc3)c2-c2cccs2)cc1', 'Nc1ncnc2c1c(-c1ccc(Oc3ccccc3)cc1)nn2C1CCC1', 'CCOc1cc(CNCc2cccnc2)ccc1OCC(=O)NC(C)(C)C', 'CCc1cccc(C)c1NS(=O)(=O)c1cc2c(cc1C)N(C)CCO2', 'CC(C)(C)c1[nH]nc2c1C(c1ccccc1OCCO)N(c1ccc(-c3ccsc3)cc1)C2=O']\n"
     ]
    }
   ],
   "source": [
    "from drugex.utils import canonicalize_list\n",
    "from drugex.training.scorers.smiles import SmilesChecker\n",
    "import numpy as np\n",
    "\n",
    "def sample_smiles(self, num_smiles, batch_size=100, drop_duplicates=True, drop_invalid=True):\n",
    "    smiles = []\n",
    "    while len(smiles) < num_smiles:\n",
    "        # sample SMILES\n",
    "        sequences = self.sample(batch_size)\n",
    "        # decode according to vocabulary\n",
    "        new_smiles = canonicalize_list([self.voc.decode(s, is_tk = False) for s in sequences])\n",
    "        # drop duplicates\n",
    "        if drop_duplicates:\n",
    "            new_smiles = np.array(new_smiles)\n",
    "            new_smiles = new_smiles[np.logical_not(np.isin(new_smiles, smiles))]\n",
    "            new_smiles = new_smiles.tolist()\n",
    "        # drop invalid smiles\n",
    "        if drop_invalid:\n",
    "            scores = SmilesChecker.checkSmiles(new_smiles, frags=None).ravel()\n",
    "            new_smiles = np.array(new_smiles)[scores > 0].tolist()\n",
    "        smiles += new_smiles\n",
    "    return smiles[:num_smiles]\n",
    "\n",
    "smiles_pretrained = sample_smiles(pretrained, 1000)\n",
    "print(smiles_pretrained[0:10])"
   ]
  },
  {
   "cell_type": "markdown",
   "id": "28f05f05-4a16-4f35-8976-c671fbc37f8b",
   "metadata": {
    "id": "28f05f05-4a16-4f35-8976-c671fbc37f8b"
   },
   "source": [
    "These are the first ten SMILES strings from the 1000 requested. It is a little hard to read into the structures from the SMILES strings so let's convert them to the `scaffviz` data set, which we can use to make a visualization:"
   ]
  },
  {
   "cell_type": "code",
   "execution_count": 4,
   "id": "4ab32fa0-a0c8-4f76-8a4f-0960ce3d0abf",
   "metadata": {
    "colab": {
     "base_uri": "https://localhost:8080/",
     "height": 143
    },
    "id": "4ab32fa0-a0c8-4f76-8a4f-0960ce3d0abf",
    "outputId": "613582b2-4b84-4b79-e5ec-a71dc771c503"
   },
   "outputs": [
    {
     "data": {
      "text/html": [
       "\n",
       "  <div id=\"df-5f594e1e-9683-4bcb-a761-4ff12cf690f0\">\n",
       "    <div class=\"colab-df-container\">\n",
       "      <div>\n",
       "<style scoped>\n",
       "    .dataframe tbody tr th:only-of-type {\n",
       "        vertical-align: middle;\n",
       "    }\n",
       "\n",
       "    .dataframe tbody tr th {\n",
       "        vertical-align: top;\n",
       "    }\n",
       "\n",
       "    .dataframe thead th {\n",
       "        text-align: right;\n",
       "    }\n",
       "</style>\n",
       "<table border=\"1\" class=\"dataframe\">\n",
       "  <thead>\n",
       "    <tr style=\"text-align: right;\">\n",
       "      <th></th>\n",
       "      <th>SMILES</th>\n",
       "      <th>RDMol</th>\n",
       "    </tr>\n",
       "  </thead>\n",
       "  <tbody>\n",
       "    <tr>\n",
       "      <th>0</th>\n",
       "      <td>OCc1nc(Cc2ccc(O)c3nc(O)c(O)nc23)n(-c2ccc(F)cc2...</td>\n",
       "      <td>&lt;rdkit.Chem.rdchem.Mol object at 0x7f3c4b02ba30&gt;</td>\n",
       "    </tr>\n",
       "    <tr>\n",
       "      <th>1</th>\n",
       "      <td>C#Cc1ccc(-c2nc(O)c3ccc4c(c3n2)C(C)(C)CC4)c(C)c1</td>\n",
       "      <td>&lt;rdkit.Chem.rdchem.Mol object at 0x7f3c4b02bb20&gt;</td>\n",
       "    </tr>\n",
       "    <tr>\n",
       "      <th>2</th>\n",
       "      <td>CCC(=O)c1c(O)cccc1OC</td>\n",
       "      <td>&lt;rdkit.Chem.rdchem.Mol object at 0x7f3c4b02bb70&gt;</td>\n",
       "    </tr>\n",
       "  </tbody>\n",
       "</table>\n",
       "</div>\n",
       "      <button class=\"colab-df-convert\" onclick=\"convertToInteractive('df-5f594e1e-9683-4bcb-a761-4ff12cf690f0')\"\n",
       "              title=\"Convert this dataframe to an interactive table.\"\n",
       "              style=\"display:none;\">\n",
       "        \n",
       "  <svg xmlns=\"http://www.w3.org/2000/svg\" height=\"24px\"viewBox=\"0 0 24 24\"\n",
       "       width=\"24px\">\n",
       "    <path d=\"M0 0h24v24H0V0z\" fill=\"none\"/>\n",
       "    <path d=\"M18.56 5.44l.94 2.06.94-2.06 2.06-.94-2.06-.94-.94-2.06-.94 2.06-2.06.94zm-11 1L8.5 8.5l.94-2.06 2.06-.94-2.06-.94L8.5 2.5l-.94 2.06-2.06.94zm10 10l.94 2.06.94-2.06 2.06-.94-2.06-.94-.94-2.06-.94 2.06-2.06.94z\"/><path d=\"M17.41 7.96l-1.37-1.37c-.4-.4-.92-.59-1.43-.59-.52 0-1.04.2-1.43.59L10.3 9.45l-7.72 7.72c-.78.78-.78 2.05 0 2.83L4 21.41c.39.39.9.59 1.41.59.51 0 1.02-.2 1.41-.59l7.78-7.78 2.81-2.81c.8-.78.8-2.07 0-2.86zM5.41 20L4 18.59l7.72-7.72 1.47 1.35L5.41 20z\"/>\n",
       "  </svg>\n",
       "      </button>\n",
       "      \n",
       "  <style>\n",
       "    .colab-df-container {\n",
       "      display:flex;\n",
       "      flex-wrap:wrap;\n",
       "      gap: 12px;\n",
       "    }\n",
       "\n",
       "    .colab-df-convert {\n",
       "      background-color: #E8F0FE;\n",
       "      border: none;\n",
       "      border-radius: 50%;\n",
       "      cursor: pointer;\n",
       "      display: none;\n",
       "      fill: #1967D2;\n",
       "      height: 32px;\n",
       "      padding: 0 0 0 0;\n",
       "      width: 32px;\n",
       "    }\n",
       "\n",
       "    .colab-df-convert:hover {\n",
       "      background-color: #E2EBFA;\n",
       "      box-shadow: 0px 1px 2px rgba(60, 64, 67, 0.3), 0px 1px 3px 1px rgba(60, 64, 67, 0.15);\n",
       "      fill: #174EA6;\n",
       "    }\n",
       "\n",
       "    [theme=dark] .colab-df-convert {\n",
       "      background-color: #3B4455;\n",
       "      fill: #D2E3FC;\n",
       "    }\n",
       "\n",
       "    [theme=dark] .colab-df-convert:hover {\n",
       "      background-color: #434B5C;\n",
       "      box-shadow: 0px 1px 3px 1px rgba(0, 0, 0, 0.15);\n",
       "      filter: drop-shadow(0px 1px 2px rgba(0, 0, 0, 0.3));\n",
       "      fill: #FFFFFF;\n",
       "    }\n",
       "  </style>\n",
       "\n",
       "      <script>\n",
       "        const buttonEl =\n",
       "          document.querySelector('#df-5f594e1e-9683-4bcb-a761-4ff12cf690f0 button.colab-df-convert');\n",
       "        buttonEl.style.display =\n",
       "          google.colab.kernel.accessAllowed ? 'block' : 'none';\n",
       "\n",
       "        async function convertToInteractive(key) {\n",
       "          const element = document.querySelector('#df-5f594e1e-9683-4bcb-a761-4ff12cf690f0');\n",
       "          const dataTable =\n",
       "            await google.colab.kernel.invokeFunction('convertToInteractive',\n",
       "                                                     [key], {});\n",
       "          if (!dataTable) return;\n",
       "\n",
       "          const docLinkHtml = 'Like what you see? Visit the ' +\n",
       "            '<a target=\"_blank\" href=https://colab.research.google.com/notebooks/data_table.ipynb>data table notebook</a>'\n",
       "            + ' to learn more about interactive tables.';\n",
       "          element.innerHTML = '';\n",
       "          dataTable['output_type'] = 'display_data';\n",
       "          await google.colab.output.renderOutput(dataTable, element);\n",
       "          const docLink = document.createElement('div');\n",
       "          docLink.innerHTML = docLinkHtml;\n",
       "          element.appendChild(docLink);\n",
       "        }\n",
       "      </script>\n",
       "    </div>\n",
       "  </div>\n",
       "  "
      ],
      "text/plain": [
       "                                              SMILES  \\\n",
       "0  OCc1nc(Cc2ccc(O)c3nc(O)c(O)nc23)n(-c2ccc(F)cc2...   \n",
       "1    C#Cc1ccc(-c2nc(O)c3ccc4c(c3n2)C(C)(C)CC4)c(C)c1   \n",
       "2                               CCC(=O)c1c(O)cccc1OC   \n",
       "\n",
       "                                              RDMol  \n",
       "0  <rdkit.Chem.rdchem.Mol object at 0x7f3c4b02ba30>  \n",
       "1  <rdkit.Chem.rdchem.Mol object at 0x7f3c4b02bb20>  \n",
       "2  <rdkit.Chem.rdchem.Mol object at 0x7f3c4b02bb70>  "
      ]
     },
     "execution_count": 4,
     "metadata": {},
     "output_type": "execute_result"
    }
   ],
   "source": [
    "from scaffviz.data.dataset import DataSetSMILES\n",
    "\n",
    "dataset = DataSetSMILES(\"data/pretrained_sampled.tsv\", smiles=smiles_pretrained, use_existing=False)\n",
    "dataset.asDataFrame().head(3)"
   ]
  },
  {
   "cell_type": "markdown",
   "id": "5961abff-792c-4ae5-bd6b-8d0d919a0369",
   "metadata": {
    "id": "5961abff-792c-4ae5-bd6b-8d0d919a0369"
   },
   "source": [
    "You can see that the generated `DataFrame` also includes a picture of the structure, but plotting the full chemical space plot is easy so let's do that too:"
   ]
  },
  {
   "cell_type": "code",
   "execution_count": 5,
   "id": "50960900-3142-4ba7-9389-b37d293df6ef",
   "metadata": {
    "colab": {
     "base_uri": "https://localhost:8080/",
     "height": 911
    },
    "id": "50960900-3142-4ba7-9389-b37d293df6ef",
    "outputId": "ae77fff7-9034-4c68-ef74-08dea9163cc9"
   },
   "outputs": [
    {
     "name": "stderr",
     "output_type": "stream",
     "text": [
      "/usr/local/lib/python3.7/dist-packages/sklearn/manifold/_t_sne.py:783: FutureWarning: The default initialization in TSNE will change from 'random' to 'pca' in 1.2.\n",
      "  FutureWarning,\n",
      "/usr/local/lib/python3.7/dist-packages/sklearn/manifold/_t_sne.py:793: FutureWarning: The default learning rate in TSNE will change from 200.0 to 'auto' in 1.2.\n",
      "  FutureWarning,\n"
     ]
    },
    {
     "data": {
      "application/javascript": [
       "(async (port, path, width, height, cache, element) => {\n",
       "    if (!google.colab.kernel.accessAllowed && !cache) {\n",
       "      return;\n",
       "    }\n",
       "    element.appendChild(document.createTextNode(''));\n",
       "    const url = await google.colab.kernel.proxyPort(port, {cache});\n",
       "    const iframe = document.createElement('iframe');\n",
       "    iframe.src = new URL(path, url).toString();\n",
       "    iframe.height = height;\n",
       "    iframe.width = width;\n",
       "    iframe.style.border = 0;\n",
       "    element.appendChild(iframe);\n",
       "  })(9292, \"/\", \"100%\", 800, false, window.element)"
      ],
      "text/plain": [
       "<IPython.core.display.Javascript object>"
      ]
     },
     "metadata": {},
     "output_type": "display_data"
    }
   ],
   "source": [
    "from scaffviz.depiction.plot import Plot\n",
    "from scaffviz.clustering.manifold import TSNE\n",
    "from scaffviz.clustering.descriptors import MorganFP\n",
    "\n",
    "dataset.addDescriptors([MorganFP(radius=2, nBits=1024)], recalculate=False) \n",
    "\n",
    "# make an interactive plot that will use t-SNE to embed the data set in 2D (all current descriptors in the data set will be used)\n",
    "plt = Plot(dataset, TSNE())\n",
    "\n",
    "# start the server, you can open the plot in the browser\n",
    "plt.plot(\n",
    "    recalculate=False,\n",
    "    viewport_height=800,\n",
    "    port=9292\n",
    ")"
   ]
  },
  {
   "cell_type": "markdown",
   "id": "8ff001ff-5bfd-40c8-bc45-a6eec035e44c",
   "metadata": {
    "id": "8ff001ff-5bfd-40c8-bc45-a6eec035e44c"
   },
   "source": [
    "If we compare this plot to the plots generated in previous tutorials, we will notice that there are no clusters of points here. The compounds are spread out more or less evenly around the center of the plot. This is to be expected because the pretrained model is designed to make generally drug-like chemistry and should not be biased towards a particular group of compounds. \n",
    "\n",
    "### Finetuned Model\n",
    "\n",
    "Generating more concrete and more defined chemical space will be the task for the finetuned model, which we will train with transfer learning. The task will be to generate structures that resemble more the structures in our A2A data set introduced previously:"
   ]
  },
  {
   "cell_type": "code",
   "execution_count": 6,
   "id": "b42b4b0c-996c-46c2-8917-006c47e73419",
   "metadata": {
    "colab": {
     "base_uri": "https://localhost:8080/",
     "height": 661
    },
    "id": "b42b4b0c-996c-46c2-8917-006c47e73419",
    "outputId": "7b992a46-09a7-468e-855f-927627b60f0e"
   },
   "outputs": [
    {
     "data": {
      "text/html": [
       "\n",
       "  <div id=\"df-83e31549-bff0-49ec-9333-34d36d9cb70b\">\n",
       "    <div class=\"colab-df-container\">\n",
       "      <div>\n",
       "<style scoped>\n",
       "    .dataframe tbody tr th:only-of-type {\n",
       "        vertical-align: middle;\n",
       "    }\n",
       "\n",
       "    .dataframe tbody tr th {\n",
       "        vertical-align: top;\n",
       "    }\n",
       "\n",
       "    .dataframe thead th {\n",
       "        text-align: right;\n",
       "    }\n",
       "</style>\n",
       "<table border=\"1\" class=\"dataframe\">\n",
       "  <thead>\n",
       "    <tr style=\"text-align: right;\">\n",
       "      <th></th>\n",
       "      <th>Activity_ID</th>\n",
       "      <th>Quality</th>\n",
       "      <th>source</th>\n",
       "      <th>CID</th>\n",
       "      <th>SMILES</th>\n",
       "      <th>connectivity</th>\n",
       "      <th>InChIKey</th>\n",
       "      <th>InChI</th>\n",
       "      <th>InChI_AuxInfo</th>\n",
       "      <th>target_id</th>\n",
       "      <th>...</th>\n",
       "      <th>Descriptor_MorganFP_1016</th>\n",
       "      <th>Descriptor_MorganFP_1017</th>\n",
       "      <th>Descriptor_MorganFP_1018</th>\n",
       "      <th>Descriptor_MorganFP_1019</th>\n",
       "      <th>Descriptor_MorganFP_1020</th>\n",
       "      <th>Descriptor_MorganFP_1021</th>\n",
       "      <th>Descriptor_MorganFP_1022</th>\n",
       "      <th>Descriptor_MorganFP_1023</th>\n",
       "      <th>TSNE_1</th>\n",
       "      <th>TSNE_2</th>\n",
       "    </tr>\n",
       "  </thead>\n",
       "  <tbody>\n",
       "    <tr>\n",
       "      <th>0</th>\n",
       "      <td>AADVGRCQGZZZNH_on_P18031_WT</td>\n",
       "      <td>High</td>\n",
       "      <td>ChEMBL30</td>\n",
       "      <td>CHEMBL363338;44397840;CHEMBL363338;44397840;CH...</td>\n",
       "      <td>CC(C)CC(CC(=O)C(Cc1ccc(OC(F)(F)C(=O)O)cc1)NC(=...</td>\n",
       "      <td>AADVGRCQGZZZNH</td>\n",
       "      <td>AADVGRCQGZZZNH-UHFFFAOYSA-N</td>\n",
       "      <td>InChI=1S/C45H47F2N3O10/c1-27(2)22-30(41(48)53)...</td>\n",
       "      <td>\"AuxInfo=1/1/N:1,3,37,36,38,49,56,48,55,35,39,...</td>\n",
       "      <td>P18031_WT</td>\n",
       "      <td>...</td>\n",
       "      <td>0.0</td>\n",
       "      <td>0.0</td>\n",
       "      <td>1.0</td>\n",
       "      <td>1.0</td>\n",
       "      <td>0.0</td>\n",
       "      <td>0.0</td>\n",
       "      <td>0.0</td>\n",
       "      <td>0.0</td>\n",
       "      <td>29.735216</td>\n",
       "      <td>-4.313994</td>\n",
       "    </tr>\n",
       "    <tr>\n",
       "      <th>1</th>\n",
       "      <td>AAGZFGSRAZMRCS_on_P18031_WT</td>\n",
       "      <td>High</td>\n",
       "      <td>ChEMBL30</td>\n",
       "      <td>CHEMBL511000;CHEMBL511000;44563281;CHEMBL51100...</td>\n",
       "      <td>CC1(C)CCC2(C(=O)Nc3ccc(C(=O)O)cc3)CCC3(C)C(=CC...</td>\n",
       "      <td>AAGZFGSRAZMRCS</td>\n",
       "      <td>AAGZFGSRAZMRCS-UHFFFAOYSA-N</td>\n",
       "      <td>InChI=1S/C37H53NO4/c1-32(2)18-20-37(31(42)38-2...</td>\n",
       "      <td>\"AuxInfo=1/1/N:1,3,34,35,28,22,40,12,17,11,18,...</td>\n",
       "      <td>P18031_WT</td>\n",
       "      <td>...</td>\n",
       "      <td>0.0</td>\n",
       "      <td>0.0</td>\n",
       "      <td>0.0</td>\n",
       "      <td>1.0</td>\n",
       "      <td>0.0</td>\n",
       "      <td>0.0</td>\n",
       "      <td>0.0</td>\n",
       "      <td>0.0</td>\n",
       "      <td>-0.945723</td>\n",
       "      <td>55.179680</td>\n",
       "    </tr>\n",
       "    <tr>\n",
       "      <th>2</th>\n",
       "      <td>AATACZKOPAGNPL_on_P18031_WT</td>\n",
       "      <td>High</td>\n",
       "      <td>ChEMBL30</td>\n",
       "      <td>CHEMBL4160013</td>\n",
       "      <td>CCOc1ccc(OC(=O)CSc2nnc(-c3cc(O)c(O)cc3)o2)cc1</td>\n",
       "      <td>AATACZKOPAGNPL</td>\n",
       "      <td>AATACZKOPAGNPL-UHFFFAOYSA-N</td>\n",
       "      <td>InChI=1S/C18H16N2O6S/c1-2-24-12-4-6-13(7-5-12)...</td>\n",
       "      <td>\"AuxInfo=1/0/N:1,2,24,5,27,6,26,23,18,11,17,4,...</td>\n",
       "      <td>P18031_WT</td>\n",
       "      <td>...</td>\n",
       "      <td>0.0</td>\n",
       "      <td>0.0</td>\n",
       "      <td>0.0</td>\n",
       "      <td>0.0</td>\n",
       "      <td>0.0</td>\n",
       "      <td>0.0</td>\n",
       "      <td>0.0</td>\n",
       "      <td>0.0</td>\n",
       "      <td>-0.630247</td>\n",
       "      <td>-24.217190</td>\n",
       "    </tr>\n",
       "    <tr>\n",
       "      <th>3</th>\n",
       "      <td>AAWBMDOJDQKGGQ_on_P18031_WT</td>\n",
       "      <td>High</td>\n",
       "      <td>ChEMBL30</td>\n",
       "      <td>CHEMBL3759405</td>\n",
       "      <td>CCCOc1ccc(-c2cccc(-c3noc(Cc4c[nH]c5ccccc45)n3)...</td>\n",
       "      <td>AAWBMDOJDQKGGQ</td>\n",
       "      <td>AAWBMDOJDQKGGQ-UHFFFAOYSA-N</td>\n",
       "      <td>InChI=1S/C25H22N4O2/c1-2-14-30-19-12-10-17(11-...</td>\n",
       "      <td>\"AuxInfo=1/0/N:1,2,25,24,11,26,23,10,12,7,30,6...</td>\n",
       "      <td>P18031_WT</td>\n",
       "      <td>...</td>\n",
       "      <td>0.0</td>\n",
       "      <td>0.0</td>\n",
       "      <td>0.0</td>\n",
       "      <td>0.0</td>\n",
       "      <td>0.0</td>\n",
       "      <td>0.0</td>\n",
       "      <td>0.0</td>\n",
       "      <td>0.0</td>\n",
       "      <td>17.455896</td>\n",
       "      <td>-43.069510</td>\n",
       "    </tr>\n",
       "    <tr>\n",
       "      <th>4</th>\n",
       "      <td>ABDQNRCWGSGNBQ_on_P18031_WT</td>\n",
       "      <td>High</td>\n",
       "      <td>ChEMBL30</td>\n",
       "      <td>CHEMBL197929</td>\n",
       "      <td>O=C(O)COc1ccc(S(=O)(=O)N(Cc2ccc(C(F)(F)P(=O)(O...</td>\n",
       "      <td>ABDQNRCWGSGNBQ</td>\n",
       "      <td>ABDQNRCWGSGNBQ-UHFFFAOYSA-N</td>\n",
       "      <td>InChI=1S/C21H20F2NO8PS2/c22-21(23,33(27,28)29)...</td>\n",
       "      <td>\"AuxInfo=1/1/N:31,30,16,27,17,26,7,35,8,34,32,...</td>\n",
       "      <td>P18031_WT</td>\n",
       "      <td>...</td>\n",
       "      <td>0.0</td>\n",
       "      <td>0.0</td>\n",
       "      <td>0.0</td>\n",
       "      <td>0.0</td>\n",
       "      <td>0.0</td>\n",
       "      <td>0.0</td>\n",
       "      <td>0.0</td>\n",
       "      <td>0.0</td>\n",
       "      <td>37.058834</td>\n",
       "      <td>5.535724</td>\n",
       "    </tr>\n",
       "    <tr>\n",
       "      <th>...</th>\n",
       "      <td>...</td>\n",
       "      <td>...</td>\n",
       "      <td>...</td>\n",
       "      <td>...</td>\n",
       "      <td>...</td>\n",
       "      <td>...</td>\n",
       "      <td>...</td>\n",
       "      <td>...</td>\n",
       "      <td>...</td>\n",
       "      <td>...</td>\n",
       "      <td>...</td>\n",
       "      <td>...</td>\n",
       "      <td>...</td>\n",
       "      <td>...</td>\n",
       "      <td>...</td>\n",
       "      <td>...</td>\n",
       "      <td>...</td>\n",
       "      <td>...</td>\n",
       "      <td>...</td>\n",
       "      <td>...</td>\n",
       "      <td>...</td>\n",
       "    </tr>\n",
       "    <tr>\n",
       "      <th>1767</th>\n",
       "      <td>ZZLZHWBNIIKVOG_on_P18031_WT</td>\n",
       "      <td>High</td>\n",
       "      <td>ChEMBL30</td>\n",
       "      <td>CHEMBL3974642;CHEMBL3903731;CHEMBL3974642;CHEM...</td>\n",
       "      <td>CC(C)CC(c1c(O)c(C=O)c(O)c(C=O)c1O)C1CCC(C)C2(C...</td>\n",
       "      <td>ZZLZHWBNIIKVOG</td>\n",
       "      <td>ZZLZHWBNIIKVOG-UHFFFAOYSA-N</td>\n",
       "      <td>InChI=1S/C28H38O5/c1-14(2)11-17(22-24(32)18(12...</td>\n",
       "      <td>\"AuxInfo=1/0/N:1,3,23,32,33,25,21,20,27,28,4,1...</td>\n",
       "      <td>P18031_WT</td>\n",
       "      <td>...</td>\n",
       "      <td>0.0</td>\n",
       "      <td>0.0</td>\n",
       "      <td>0.0</td>\n",
       "      <td>1.0</td>\n",
       "      <td>0.0</td>\n",
       "      <td>0.0</td>\n",
       "      <td>0.0</td>\n",
       "      <td>0.0</td>\n",
       "      <td>0.197739</td>\n",
       "      <td>21.740646</td>\n",
       "    </tr>\n",
       "    <tr>\n",
       "      <th>1768</th>\n",
       "      <td>ZZQGXJVGZKQIGN_on_P18031_WT</td>\n",
       "      <td>High</td>\n",
       "      <td>ChEMBL30</td>\n",
       "      <td>CHEMBL3402418</td>\n",
       "      <td>O=C(OC1CSSC1)c1ccc(CCCCCCOC(=O)c2c(Br)ccc(Br)c...</td>\n",
       "      <td>ZZQGXJVGZKQIGN</td>\n",
       "      <td>ZZQGXJVGZKQIGN-UHFFFAOYSA-N</td>\n",
       "      <td>InChI=1S/C23H24Br2O4S2/c24-18-10-11-21(25)20(1...</td>\n",
       "      <td>\"AuxInfo=1/0/N:15,16,14,17,13,11,30,10,31,26,2...</td>\n",
       "      <td>P18031_WT</td>\n",
       "      <td>...</td>\n",
       "      <td>0.0</td>\n",
       "      <td>0.0</td>\n",
       "      <td>0.0</td>\n",
       "      <td>1.0</td>\n",
       "      <td>0.0</td>\n",
       "      <td>0.0</td>\n",
       "      <td>0.0</td>\n",
       "      <td>0.0</td>\n",
       "      <td>-11.149357</td>\n",
       "      <td>-5.444707</td>\n",
       "    </tr>\n",
       "    <tr>\n",
       "      <th>1769</th>\n",
       "      <td>ZZTBNXDDDGFULL_on_P18031_WT</td>\n",
       "      <td>High</td>\n",
       "      <td>ChEMBL30</td>\n",
       "      <td>CHEMBL1778901</td>\n",
       "      <td>CCCCOc1ccc(C(=O)C=Cc2c(OC)cc(O)c(Br)c2)cc1</td>\n",
       "      <td>ZZTBNXDDDGFULL</td>\n",
       "      <td>ZZTBNXDDDGFULL-UHFFFAOYSA-N</td>\n",
       "      <td>InChI=1S/C20H21BrO4/c1-3-4-11-25-16-8-5-14(6-9...</td>\n",
       "      <td>\"AuxInfo=1/0/N:1,17,2,3,8,24,13,7,25,12,4,23,1...</td>\n",
       "      <td>P18031_WT</td>\n",
       "      <td>...</td>\n",
       "      <td>0.0</td>\n",
       "      <td>0.0</td>\n",
       "      <td>0.0</td>\n",
       "      <td>0.0</td>\n",
       "      <td>0.0</td>\n",
       "      <td>0.0</td>\n",
       "      <td>0.0</td>\n",
       "      <td>0.0</td>\n",
       "      <td>-35.552700</td>\n",
       "      <td>-15.787386</td>\n",
       "    </tr>\n",
       "    <tr>\n",
       "      <th>1770</th>\n",
       "      <td>ZZTYPLSBNNGEIS_on_P18031_WT</td>\n",
       "      <td>High</td>\n",
       "      <td>ChEMBL30</td>\n",
       "      <td>CHEMBL486986</td>\n",
       "      <td>CC1CCC2(C(=O)O)CCC3(C)C(=CCC4C5(C)CCC(O)C(C)(C...</td>\n",
       "      <td>ZZTYPLSBNNGEIS</td>\n",
       "      <td>ZZTYPLSBNNGEIS-UHFFFAOYSA-N</td>\n",
       "      <td>InChI=1S/C30H48O4/c1-18-10-15-30(24(32)33)17-1...</td>\n",
       "      <td>\"AuxInfo=1/1/N:1,24,25,18,12,30,33,14,15,3,27,...</td>\n",
       "      <td>P18031_WT</td>\n",
       "      <td>...</td>\n",
       "      <td>0.0</td>\n",
       "      <td>0.0</td>\n",
       "      <td>0.0</td>\n",
       "      <td>1.0</td>\n",
       "      <td>0.0</td>\n",
       "      <td>0.0</td>\n",
       "      <td>0.0</td>\n",
       "      <td>0.0</td>\n",
       "      <td>1.356204</td>\n",
       "      <td>52.808704</td>\n",
       "    </tr>\n",
       "    <tr>\n",
       "      <th>1771</th>\n",
       "      <td>ZZVOLWIBVIYSBV_on_P18031_WT</td>\n",
       "      <td>High</td>\n",
       "      <td>ChEMBL30</td>\n",
       "      <td>CHEMBL58354</td>\n",
       "      <td>CC(C)(C)OC(=O)COc1ccc(CC2=C(c3ccccc3)c3ccccc3C...</td>\n",
       "      <td>ZZVOLWIBVIYSBV</td>\n",
       "      <td>ZZVOLWIBVIYSBV-UHFFFAOYSA-N</td>\n",
       "      <td>InChI=1S/C29H26O5/c1-29(2,3)34-25(30)18-33-21-...</td>\n",
       "      <td>\"AuxInfo=1/0/N:1,3,4,20,19,21,25,26,18,22,24,2...</td>\n",
       "      <td>P18031_WT</td>\n",
       "      <td>...</td>\n",
       "      <td>0.0</td>\n",
       "      <td>0.0</td>\n",
       "      <td>0.0</td>\n",
       "      <td>0.0</td>\n",
       "      <td>0.0</td>\n",
       "      <td>0.0</td>\n",
       "      <td>0.0</td>\n",
       "      <td>0.0</td>\n",
       "      <td>10.432344</td>\n",
       "      <td>-11.464129</td>\n",
       "    </tr>\n",
       "  </tbody>\n",
       "</table>\n",
       "<p>1772 rows × 1056 columns</p>\n",
       "</div>\n",
       "      <button class=\"colab-df-convert\" onclick=\"convertToInteractive('df-83e31549-bff0-49ec-9333-34d36d9cb70b')\"\n",
       "              title=\"Convert this dataframe to an interactive table.\"\n",
       "              style=\"display:none;\">\n",
       "        \n",
       "  <svg xmlns=\"http://www.w3.org/2000/svg\" height=\"24px\"viewBox=\"0 0 24 24\"\n",
       "       width=\"24px\">\n",
       "    <path d=\"M0 0h24v24H0V0z\" fill=\"none\"/>\n",
       "    <path d=\"M18.56 5.44l.94 2.06.94-2.06 2.06-.94-2.06-.94-.94-2.06-.94 2.06-2.06.94zm-11 1L8.5 8.5l.94-2.06 2.06-.94-2.06-.94L8.5 2.5l-.94 2.06-2.06.94zm10 10l.94 2.06.94-2.06 2.06-.94-2.06-.94-.94-2.06-.94 2.06-2.06.94z\"/><path d=\"M17.41 7.96l-1.37-1.37c-.4-.4-.92-.59-1.43-.59-.52 0-1.04.2-1.43.59L10.3 9.45l-7.72 7.72c-.78.78-.78 2.05 0 2.83L4 21.41c.39.39.9.59 1.41.59.51 0 1.02-.2 1.41-.59l7.78-7.78 2.81-2.81c.8-.78.8-2.07 0-2.86zM5.41 20L4 18.59l7.72-7.72 1.47 1.35L5.41 20z\"/>\n",
       "  </svg>\n",
       "      </button>\n",
       "      \n",
       "  <style>\n",
       "    .colab-df-container {\n",
       "      display:flex;\n",
       "      flex-wrap:wrap;\n",
       "      gap: 12px;\n",
       "    }\n",
       "\n",
       "    .colab-df-convert {\n",
       "      background-color: #E8F0FE;\n",
       "      border: none;\n",
       "      border-radius: 50%;\n",
       "      cursor: pointer;\n",
       "      display: none;\n",
       "      fill: #1967D2;\n",
       "      height: 32px;\n",
       "      padding: 0 0 0 0;\n",
       "      width: 32px;\n",
       "    }\n",
       "\n",
       "    .colab-df-convert:hover {\n",
       "      background-color: #E2EBFA;\n",
       "      box-shadow: 0px 1px 2px rgba(60, 64, 67, 0.3), 0px 1px 3px 1px rgba(60, 64, 67, 0.15);\n",
       "      fill: #174EA6;\n",
       "    }\n",
       "\n",
       "    [theme=dark] .colab-df-convert {\n",
       "      background-color: #3B4455;\n",
       "      fill: #D2E3FC;\n",
       "    }\n",
       "\n",
       "    [theme=dark] .colab-df-convert:hover {\n",
       "      background-color: #434B5C;\n",
       "      box-shadow: 0px 1px 3px 1px rgba(0, 0, 0, 0.15);\n",
       "      filter: drop-shadow(0px 1px 2px rgba(0, 0, 0, 0.3));\n",
       "      fill: #FFFFFF;\n",
       "    }\n",
       "  </style>\n",
       "\n",
       "      <script>\n",
       "        const buttonEl =\n",
       "          document.querySelector('#df-83e31549-bff0-49ec-9333-34d36d9cb70b button.colab-df-convert');\n",
       "        buttonEl.style.display =\n",
       "          google.colab.kernel.accessAllowed ? 'block' : 'none';\n",
       "\n",
       "        async function convertToInteractive(key) {\n",
       "          const element = document.querySelector('#df-83e31549-bff0-49ec-9333-34d36d9cb70b');\n",
       "          const dataTable =\n",
       "            await google.colab.kernel.invokeFunction('convertToInteractive',\n",
       "                                                     [key], {});\n",
       "          if (!dataTable) return;\n",
       "\n",
       "          const docLinkHtml = 'Like what you see? Visit the ' +\n",
       "            '<a target=\"_blank\" href=https://colab.research.google.com/notebooks/data_table.ipynb>data table notebook</a>'\n",
       "            + ' to learn more about interactive tables.';\n",
       "          element.innerHTML = '';\n",
       "          dataTable['output_type'] = 'display_data';\n",
       "          await google.colab.output.renderOutput(dataTable, element);\n",
       "          const docLink = document.createElement('div');\n",
       "          docLink.innerHTML = docLinkHtml;\n",
       "          element.appendChild(docLink);\n",
       "        }\n",
       "      </script>\n",
       "    </div>\n",
       "  </div>\n",
       "  "
      ],
      "text/plain": [
       "                      Activity_ID Quality    source  \\\n",
       "0     AADVGRCQGZZZNH_on_P18031_WT    High  ChEMBL30   \n",
       "1     AAGZFGSRAZMRCS_on_P18031_WT    High  ChEMBL30   \n",
       "2     AATACZKOPAGNPL_on_P18031_WT    High  ChEMBL30   \n",
       "3     AAWBMDOJDQKGGQ_on_P18031_WT    High  ChEMBL30   \n",
       "4     ABDQNRCWGSGNBQ_on_P18031_WT    High  ChEMBL30   \n",
       "...                           ...     ...       ...   \n",
       "1767  ZZLZHWBNIIKVOG_on_P18031_WT    High  ChEMBL30   \n",
       "1768  ZZQGXJVGZKQIGN_on_P18031_WT    High  ChEMBL30   \n",
       "1769  ZZTBNXDDDGFULL_on_P18031_WT    High  ChEMBL30   \n",
       "1770  ZZTYPLSBNNGEIS_on_P18031_WT    High  ChEMBL30   \n",
       "1771  ZZVOLWIBVIYSBV_on_P18031_WT    High  ChEMBL30   \n",
       "\n",
       "                                                    CID  \\\n",
       "0     CHEMBL363338;44397840;CHEMBL363338;44397840;CH...   \n",
       "1     CHEMBL511000;CHEMBL511000;44563281;CHEMBL51100...   \n",
       "2                                         CHEMBL4160013   \n",
       "3                                         CHEMBL3759405   \n",
       "4                                          CHEMBL197929   \n",
       "...                                                 ...   \n",
       "1767  CHEMBL3974642;CHEMBL3903731;CHEMBL3974642;CHEM...   \n",
       "1768                                      CHEMBL3402418   \n",
       "1769                                      CHEMBL1778901   \n",
       "1770                                       CHEMBL486986   \n",
       "1771                                        CHEMBL58354   \n",
       "\n",
       "                                                 SMILES    connectivity  \\\n",
       "0     CC(C)CC(CC(=O)C(Cc1ccc(OC(F)(F)C(=O)O)cc1)NC(=...  AADVGRCQGZZZNH   \n",
       "1     CC1(C)CCC2(C(=O)Nc3ccc(C(=O)O)cc3)CCC3(C)C(=CC...  AAGZFGSRAZMRCS   \n",
       "2         CCOc1ccc(OC(=O)CSc2nnc(-c3cc(O)c(O)cc3)o2)cc1  AATACZKOPAGNPL   \n",
       "3     CCCOc1ccc(-c2cccc(-c3noc(Cc4c[nH]c5ccccc45)n3)...  AAWBMDOJDQKGGQ   \n",
       "4     O=C(O)COc1ccc(S(=O)(=O)N(Cc2ccc(C(F)(F)P(=O)(O...  ABDQNRCWGSGNBQ   \n",
       "...                                                 ...             ...   \n",
       "1767  CC(C)CC(c1c(O)c(C=O)c(O)c(C=O)c1O)C1CCC(C)C2(C...  ZZLZHWBNIIKVOG   \n",
       "1768  O=C(OC1CSSC1)c1ccc(CCCCCCOC(=O)c2c(Br)ccc(Br)c...  ZZQGXJVGZKQIGN   \n",
       "1769         CCCCOc1ccc(C(=O)C=Cc2c(OC)cc(O)c(Br)c2)cc1  ZZTBNXDDDGFULL   \n",
       "1770  CC1CCC2(C(=O)O)CCC3(C)C(=CCC4C5(C)CCC(O)C(C)(C...  ZZTYPLSBNNGEIS   \n",
       "1771  CC(C)(C)OC(=O)COc1ccc(CC2=C(c3ccccc3)c3ccccc3C...  ZZVOLWIBVIYSBV   \n",
       "\n",
       "                         InChIKey  \\\n",
       "0     AADVGRCQGZZZNH-UHFFFAOYSA-N   \n",
       "1     AAGZFGSRAZMRCS-UHFFFAOYSA-N   \n",
       "2     AATACZKOPAGNPL-UHFFFAOYSA-N   \n",
       "3     AAWBMDOJDQKGGQ-UHFFFAOYSA-N   \n",
       "4     ABDQNRCWGSGNBQ-UHFFFAOYSA-N   \n",
       "...                           ...   \n",
       "1767  ZZLZHWBNIIKVOG-UHFFFAOYSA-N   \n",
       "1768  ZZQGXJVGZKQIGN-UHFFFAOYSA-N   \n",
       "1769  ZZTBNXDDDGFULL-UHFFFAOYSA-N   \n",
       "1770  ZZTYPLSBNNGEIS-UHFFFAOYSA-N   \n",
       "1771  ZZVOLWIBVIYSBV-UHFFFAOYSA-N   \n",
       "\n",
       "                                                  InChI  \\\n",
       "0     InChI=1S/C45H47F2N3O10/c1-27(2)22-30(41(48)53)...   \n",
       "1     InChI=1S/C37H53NO4/c1-32(2)18-20-37(31(42)38-2...   \n",
       "2     InChI=1S/C18H16N2O6S/c1-2-24-12-4-6-13(7-5-12)...   \n",
       "3     InChI=1S/C25H22N4O2/c1-2-14-30-19-12-10-17(11-...   \n",
       "4     InChI=1S/C21H20F2NO8PS2/c22-21(23,33(27,28)29)...   \n",
       "...                                                 ...   \n",
       "1767  InChI=1S/C28H38O5/c1-14(2)11-17(22-24(32)18(12...   \n",
       "1768  InChI=1S/C23H24Br2O4S2/c24-18-10-11-21(25)20(1...   \n",
       "1769  InChI=1S/C20H21BrO4/c1-3-4-11-25-16-8-5-14(6-9...   \n",
       "1770  InChI=1S/C30H48O4/c1-18-10-15-30(24(32)33)17-1...   \n",
       "1771  InChI=1S/C29H26O5/c1-29(2,3)34-25(30)18-33-21-...   \n",
       "\n",
       "                                          InChI_AuxInfo  target_id  ...  \\\n",
       "0     \"AuxInfo=1/1/N:1,3,37,36,38,49,56,48,55,35,39,...  P18031_WT  ...   \n",
       "1     \"AuxInfo=1/1/N:1,3,34,35,28,22,40,12,17,11,18,...  P18031_WT  ...   \n",
       "2     \"AuxInfo=1/0/N:1,2,24,5,27,6,26,23,18,11,17,4,...  P18031_WT  ...   \n",
       "3     \"AuxInfo=1/0/N:1,2,25,24,11,26,23,10,12,7,30,6...  P18031_WT  ...   \n",
       "4     \"AuxInfo=1/1/N:31,30,16,27,17,26,7,35,8,34,32,...  P18031_WT  ...   \n",
       "...                                                 ...        ...  ...   \n",
       "1767  \"AuxInfo=1/0/N:1,3,23,32,33,25,21,20,27,28,4,1...  P18031_WT  ...   \n",
       "1768  \"AuxInfo=1/0/N:15,16,14,17,13,11,30,10,31,26,2...  P18031_WT  ...   \n",
       "1769  \"AuxInfo=1/0/N:1,17,2,3,8,24,13,7,25,12,4,23,1...  P18031_WT  ...   \n",
       "1770  \"AuxInfo=1/1/N:1,24,25,18,12,30,33,14,15,3,27,...  P18031_WT  ...   \n",
       "1771  \"AuxInfo=1/0/N:1,3,4,20,19,21,25,26,18,22,24,2...  P18031_WT  ...   \n",
       "\n",
       "     Descriptor_MorganFP_1016 Descriptor_MorganFP_1017  \\\n",
       "0                         0.0                      0.0   \n",
       "1                         0.0                      0.0   \n",
       "2                         0.0                      0.0   \n",
       "3                         0.0                      0.0   \n",
       "4                         0.0                      0.0   \n",
       "...                       ...                      ...   \n",
       "1767                      0.0                      0.0   \n",
       "1768                      0.0                      0.0   \n",
       "1769                      0.0                      0.0   \n",
       "1770                      0.0                      0.0   \n",
       "1771                      0.0                      0.0   \n",
       "\n",
       "     Descriptor_MorganFP_1018 Descriptor_MorganFP_1019  \\\n",
       "0                         1.0                      1.0   \n",
       "1                         0.0                      1.0   \n",
       "2                         0.0                      0.0   \n",
       "3                         0.0                      0.0   \n",
       "4                         0.0                      0.0   \n",
       "...                       ...                      ...   \n",
       "1767                      0.0                      1.0   \n",
       "1768                      0.0                      1.0   \n",
       "1769                      0.0                      0.0   \n",
       "1770                      0.0                      1.0   \n",
       "1771                      0.0                      0.0   \n",
       "\n",
       "      Descriptor_MorganFP_1020 Descriptor_MorganFP_1021  \\\n",
       "0                          0.0                      0.0   \n",
       "1                          0.0                      0.0   \n",
       "2                          0.0                      0.0   \n",
       "3                          0.0                      0.0   \n",
       "4                          0.0                      0.0   \n",
       "...                        ...                      ...   \n",
       "1767                       0.0                      0.0   \n",
       "1768                       0.0                      0.0   \n",
       "1769                       0.0                      0.0   \n",
       "1770                       0.0                      0.0   \n",
       "1771                       0.0                      0.0   \n",
       "\n",
       "     Descriptor_MorganFP_1022 Descriptor_MorganFP_1023     TSNE_1     TSNE_2  \n",
       "0                         0.0                      0.0  29.735216  -4.313994  \n",
       "1                         0.0                      0.0  -0.945723  55.179680  \n",
       "2                         0.0                      0.0  -0.630247 -24.217190  \n",
       "3                         0.0                      0.0  17.455896 -43.069510  \n",
       "4                         0.0                      0.0  37.058834   5.535724  \n",
       "...                       ...                      ...        ...        ...  \n",
       "1767                      0.0                      0.0   0.197739  21.740646  \n",
       "1768                      0.0                      0.0 -11.149357  -5.444707  \n",
       "1769                      0.0                      0.0 -35.552700 -15.787386  \n",
       "1770                      0.0                      0.0   1.356204  52.808704  \n",
       "1771                      0.0                      0.0  10.432344 -11.464129  \n",
       "\n",
       "[1772 rows x 1056 columns]"
      ]
     },
     "execution_count": 6,
     "metadata": {},
     "output_type": "execute_result"
    }
   ],
   "source": [
    "import pandas as pd\n",
    "\n",
    "df_ptp1b = pd.read_table('data/PTP1B_LIGANDS.tsv')\n",
    "df_ptp1b"
   ]
  },
  {
   "cell_type": "markdown",
   "id": "9a8ec8d9-f9e3-499b-9f05-80d2a8a46aa3",
   "metadata": {
    "id": "9a8ec8d9-f9e3-499b-9f05-80d2a8a46aa3"
   },
   "source": [
    "There is a lot of data in this table, but for our transfer learning exercise only the SMILES are important:"
   ]
  },
  {
   "cell_type": "code",
   "execution_count": 7,
   "id": "80a97434-d8a4-4e14-ad5f-b513b320d26d",
   "metadata": {
    "colab": {
     "base_uri": "https://localhost:8080/"
    },
    "id": "80a97434-d8a4-4e14-ad5f-b513b320d26d",
    "outputId": "d6499d98-a253-4b06-afc9-658221f23c5c"
   },
   "outputs": [
    {
     "data": {
      "text/plain": [
       "0       CC(C)CC(CC(=O)C(Cc1ccc(OC(F)(F)C(=O)O)cc1)NC(=...\n",
       "1       CC1(C)CCC2(C(=O)Nc3ccc(C(=O)O)cc3)CCC3(C)C(=CC...\n",
       "2           CCOc1ccc(OC(=O)CSc2nnc(-c3cc(O)c(O)cc3)o2)cc1\n",
       "3       CCCOc1ccc(-c2cccc(-c3noc(Cc4c[nH]c5ccccc45)n3)...\n",
       "4       O=C(O)COc1ccc(S(=O)(=O)N(Cc2ccc(C(F)(F)P(=O)(O...\n",
       "                              ...                        \n",
       "1767    CC(C)CC(c1c(O)c(C=O)c(O)c(C=O)c1O)C1CCC(C)C2(C...\n",
       "1768    O=C(OC1CSSC1)c1ccc(CCCCCCOC(=O)c2c(Br)ccc(Br)c...\n",
       "1769           CCCCOc1ccc(C(=O)C=Cc2c(OC)cc(O)c(Br)c2)cc1\n",
       "1770    CC1CCC2(C(=O)O)CCC3(C)C(=CCC4C5(C)CCC(O)C(C)(C...\n",
       "1771    CC(C)(C)OC(=O)COc1ccc(CC2=C(c3ccccc3)c3ccccc3C...\n",
       "Name: SMILES, Length: 1772, dtype: object"
      ]
     },
     "execution_count": 7,
     "metadata": {},
     "output_type": "execute_result"
    }
   ],
   "source": [
    "smiles_train = df_ptp1b.SMILES\n",
    "smiles_train"
   ]
  },
  {
   "cell_type": "markdown",
   "id": "2331bb54-bc4b-45ca-a3e9-22c1dcff7a90",
   "metadata": {
    "id": "2331bb54-bc4b-45ca-a3e9-22c1dcff7a90"
   },
   "source": [
    "In order to train the finetuned model, we need to first standardize and prepare the SMILES strings. DrugEx has its own utility to do that for all its models:"
   ]
  },
  {
   "cell_type": "code",
   "execution_count": 8,
   "id": "d13f4c31-86db-45f3-8cd1-c98c1f22727f",
   "metadata": {
    "colab": {
     "base_uri": "https://localhost:8080/",
     "height": 223,
     "referenced_widgets": [
      "6000d313bf28465887cbfe59770a8821",
      "1ab3a9a9f2694b8c9a6165fb7a9975e8",
      "bb75218c71c6439abd9a2aa74afb6f8f",
      "07fdfb221da64e49ae376a15494b5649",
      "d7d63870502246f4bc8692bbc79d1101",
      "586e09e8744c4225b7574b4be9400031",
      "c23603f9f58341db81371b88931a9876",
      "041bd144e36f493bbcfbb6e51cacabc2",
      "117be5852ab44eb9bd75ed8ada3edb6c",
      "a1d419825dea4304abe4bf0790c1ef65",
      "f4ecc13474614566bb4609c2c99c70c2"
     ]
    },
    "id": "d13f4c31-86db-45f3-8cd1-c98c1f22727f",
    "outputId": "f012ec5b-d2db-4626-a39c-0c0811795866"
   },
   "outputs": [
    {
     "data": {
      "application/vnd.jupyter.widget-view+json": {
       "model_id": "6000d313bf28465887cbfe59770a8821",
       "version_major": 2,
       "version_minor": 0
      },
      "text/plain": [
       "Standardizing molecules (batch processing):   0%|          | 0/1 [00:00<?, ?it/s]"
      ]
     },
     "metadata": {},
     "output_type": "display_data"
    },
    {
     "data": {
      "text/plain": [
       "['CC(C)CC(CC(=O)C(Cc1ccc(OC(F)(F)C(=O)O)cc1)NC(=O)C(CCC(=O)OCc1ccccc1)NC(=O)OCC1c2ccccc2-c2ccccc21)C(N)=O',\n",
       " 'CC1(C)CCC2(C(=O)Nc3ccc(C(=O)O)cc3)CCC3(C)C(=CCC4C5(C)CCC(O)C(C)(C)C5CCC43C)C2C1',\n",
       " 'CCOc1ccc(OC(=O)CSc2nnc(-c3ccc(O)c(O)c3)o2)cc1',\n",
       " 'CCCOc1ccc(-c2cccc(-c3noc(Cc4c[nH]c5ccccc45)n3)n2)cc1',\n",
       " 'O=C(O)COc1ccc(S(=O)(=O)N(Cc2ccc(C(F)(F)P(=O)(O)O)cc2)Cc2cccs2)cc1',\n",
       " 'CCOS(=O)(=O)C=Cc1ccc(OCCCCNc2nc(-c3ccc(Br)cc3)cs2)cc1',\n",
       " 'CCOc1cc(NS(C)(=O)=O)c(OCC)cc1CNC(=O)Nc1ccc(C)cc1',\n",
       " 'O=C(O)c1ccc(N2C(=O)C(=CC=Cc3ccccc3)SC2=S)cc1',\n",
       " 'CC(C)=CCc1cc(C2CC(=O)c3ccc(O)cc3O2)cc2c1OC(C)(C)C(O)C2',\n",
       " 'O=C(O)C(Cc1ccccc1)Oc1ccc(-c2ccc(-c3c(Cc4ccccc4)sc4ccccc34)cc2)cc1Br']"
      ]
     },
     "execution_count": 8,
     "metadata": {},
     "output_type": "execute_result"
    }
   ],
   "source": [
    "from drugex.data.processing import Standardization\n",
    "\n",
    "N_PROCESSES = 12 # number of CPU cores to use\n",
    "CHUNK_SIZE = 1000 # largest chunk per CPU core (regulates RAM usage)\n",
    "\n",
    "standardizer = Standardization(n_proc=N_PROCESSES, chunk_size=CHUNK_SIZE)\n",
    "smiles_train = standardizer.apply(smiles_train)\n",
    "smiles_train[0:10]"
   ]
  },
  {
   "cell_type": "markdown",
   "id": "42b8fab3-2920-48c7-8b1f-97206cfc3000",
   "metadata": {
    "id": "42b8fab3-2920-48c7-8b1f-97206cfc3000"
   },
   "source": [
    "We write the list of SMILES back into `smiles_train` because we will not need the original SMILES anymore and proceed to generate our training data sets. In this step, the so called 'corpus' data set is generated that is nothing more than the SMILES seperated into words/tokens according to the given vocabulary. You can check out the `ligand_corpus.tsv` for yourself and see there really is nothing too special about it. The code is a little verbose, but that comes mostly from the way the data is handled by parallel processes to take advantage of multiple CPUs:"
   ]
  },
  {
   "cell_type": "code",
   "execution_count": 9,
   "id": "d53cf8e2-0f67-4ff4-8147-fd53d8f9de42",
   "metadata": {
    "colab": {
     "base_uri": "https://localhost:8080/",
     "height": 49,
     "referenced_widgets": [
      "092615160c654078b743aa2c48aab6dc",
      "e74fe94ca494428b9850515c07a68322",
      "7a56a99a8f594eaa859b86c63619400d",
      "491067877c3d432a9913d20841ed799e",
      "11b30b135c6b4bbd8e7abefd76d2a846",
      "b03d629d59af4ffb82c2e24abb7fd747",
      "7e738d58f7e446f89b54ed1f02b7da74",
      "17134523c1a743c6a6e38335a8ac7b7c",
      "2b87a8c7d9924577a54d88b2880b5126",
      "04770d8c88724176a731370b539f643c",
      "65186b39f0be42b2bd7ab0031c27b6f1"
     ]
    },
    "id": "d53cf8e2-0f67-4ff4-8147-fd53d8f9de42",
    "outputId": "d9a36ddf-587c-4996-c2e7-f826fcbce7e2"
   },
   "outputs": [
    {
     "data": {
      "application/vnd.jupyter.widget-view+json": {
       "model_id": "092615160c654078b743aa2c48aab6dc",
       "version_major": 2,
       "version_minor": 0
      },
      "text/plain": [
       "SequenceCorpus (batch processing):   0%|          | 0/1 [00:00<?, ?it/s]"
      ]
     },
     "metadata": {},
     "output_type": "display_data"
    }
   ],
   "source": [
    "from drugex.data.processing import CorpusEncoder, RandomTrainTestSplitter\n",
    "from drugex.data.corpus.corpus import SequenceCorpus\n",
    "from drugex.data.datasets import SmilesDataSet\n",
    "from drugex.logs import logger\n",
    "logger.setLevel('ERROR')\n",
    "\n",
    "DATA_DIR = \"data/drugex/sets/\"\n",
    "os.makedirs(DATA_DIR, exist_ok=True)\n",
    "\n",
    "voc = VocSmiles.fromFile(\"data/drugex/models/pretrained/DrugEx_v2_PT_Papyrus05.5/Papyrus05.5_smiles_rnn_PT.vocab\")\n",
    "encoder = CorpusEncoder( # CorpusEcoder uses the supplied corpus class to encode tokens for the new data set\n",
    "    SequenceCorpus, # The corpus class implements how each SMILES string is divided into words by the vocabulary\n",
    "    {\n",
    "        # arguments of the SequenceCorpus\n",
    "        'vocabulary': voc, # used vocabulary\n",
    "        'update_voc': False, # if False, the vocabulary stays fixed (no new tokens are added to it)\n",
    "        'throw': True # compounds containing unknown tokens are thrown out of the resulting data set\n",
    "\n",
    "    },\n",
    "    n_proc=N_PROCESSES,\n",
    "    chunk_size=CHUNK_SIZE\n",
    ")\n",
    "\n",
    "data_collector = SmilesDataSet(os.path.join(DATA_DIR, 'ligand_corpus.tsv'), rewrite=True)\n",
    "encoder.apply(smiles_train, collector=data_collector)"
   ]
  },
  {
   "cell_type": "markdown",
   "id": "0269afd3-3c9c-456a-9756-cd4d20ca54a5",
   "metadata": {
    "id": "0269afd3-3c9c-456a-9756-cd4d20ca54a5"
   },
   "source": [
    "In this scenario, we will also compile a test/validation set of compounds. This will help us identify when the model starts to loose its ability to generate diverse and/or valid chemistry and begins overfitting on the training set. While we do want the generated structures to look like those in the training data, we also do not want them to be exactly the same. The validation set will serve as an indicator of such behaviour and the model will know to stop the training once the performance starts to deteriorate. \n",
    "\n",
    "In this case, we choose to select 10% (or a maximum of 10,000) compounds to the test set. We save the training and test set to separate files and we also save the vocabulary for safe keeping (we did not modify the original vocabulary in any way, but it is a good idea to save it anyway for future reference): "
   ]
  },
  {
   "cell_type": "code",
   "execution_count": 10,
   "id": "2777c52a-952d-432c-a560-ae030e56b9d8",
   "metadata": {
    "id": "2777c52a-952d-432c-a560-ae030e56b9d8"
   },
   "outputs": [],
   "source": [
    "splitter = RandomTrainTestSplitter(0.1, 1e4)\n",
    "train, test = splitter(data_collector.getData())\n",
    "for df, name in zip([train, test], ['train', 'test']):\n",
    "    df.to_csv(os.path.join(DATA_DIR, f'ligand_{name}.tsv'), header=True, index=False, sep='\\t')\n",
    "\n",
    "voc.toFile(os.path.join(DATA_DIR, 'ligand.vocab'))"
   ]
  },
  {
   "cell_type": "markdown",
   "id": "d180d008-2fbb-4ff4-b523-9a84a17be787",
   "metadata": {
    "id": "d180d008-2fbb-4ff4-b523-9a84a17be787"
   },
   "source": [
    "Now, we wrap our training and test set to `SmilesDataSet` instances so that we can generate data loaders for training:"
   ]
  },
  {
   "cell_type": "code",
   "execution_count": 11,
   "id": "947ff14c-478e-4505-b625-ce9b2fbc6e95",
   "metadata": {
    "id": "947ff14c-478e-4505-b625-ce9b2fbc6e95"
   },
   "outputs": [],
   "source": [
    "BATCH_SIZE = 256\n",
    "\n",
    "data_set_train = SmilesDataSet(os.path.join(DATA_DIR, 'ligand_train.tsv'), voc=voc)\n",
    "data_set_train.voc = voc\n",
    "train_loader = data_set_train.asDataLoader(batch_size=BATCH_SIZE)\n",
    "\n",
    "data_set_test = SmilesDataSet(os.path.join(DATA_DIR, 'ligand_test.tsv'), voc=voc)\n",
    "data_set_test.voc = voc\n",
    "valid_loader = data_set_test.asDataLoader(batch_size=BATCH_SIZE)"
   ]
  },
  {
   "cell_type": "markdown",
   "id": "40b70e56-c5da-4b44-9a3e-7d6f19410b6c",
   "metadata": {
    "id": "40b70e56-c5da-4b44-9a3e-7d6f19410b6c"
   },
   "source": [
    "Data loaders are a data structure used by [PyTorch](https://pytorch.org/) library for deep learning, which DrugEx uses to handle data and define models. They are responsible for batching the data so that it can be offloaded to the GPU for training because the whole data set would not be able to fit. In addition, batch size is an important hyperparameter in neural networks. The training does not proceed sample by sample, but rather the model processes each batch at a time and adjusts its parameters only after passing the whole batch through the network. This helps to save computational resources, but also affects the training process because it sometimes also has influence on how often and how significantly the model parameters are adjusted. Therefore, choosing the correct batch size is someting we might want play around with during training.\n",
    "\n",
    "Another term commonly used in the language of neural networks is an 'epoch'. It is simply one iteration of training during which the model goes through all the batches and, thus, the whole data set. It is usual after each epoch that we evaluate the performance of the model and decided if it needs further training or not. In this case, we setup our training as follows:"
   ]
  },
  {
   "cell_type": "code",
   "execution_count": 12,
   "id": "a7a7087d-110c-4a20-a29a-9ea911666150",
   "metadata": {
    "id": "a7a7087d-110c-4a20-a29a-9ea911666150"
   },
   "outputs": [],
   "source": [
    "from drugex.training.monitors import FileMonitor\n",
    "\n",
    "MODEL_DIR = \"data/drugex/models/finetuned/\"\n",
    "\n",
    "ft_path = os.path.join(MODEL_DIR, 'ligand_finetune')\n",
    "finetuned = RNN(voc, is_lstm=True, use_gpus=GPUS)\n",
    "finetuned.loadStatesFromFile(os.path.join(PT_MODEL_FOLDER, 'Papyrus05.5_smiles_rnn_PT.pkg'))\n",
    "monitor = FileMonitor(ft_path, verbose=True)\n",
    "finetuned.fit(train_loader, valid_loader, epochs=10, monitor=monitor)\n",
    "\n",
    "voc.toFile(os.path.join(MODEL_DIR, 'finetune.vocab'))"
   ]
  },
  {
   "cell_type": "markdown",
   "id": "b155ce93-fb78-4edd-85cd-25195f9f908c",
   "metadata": {
    "id": "b155ce93-fb78-4edd-85cd-25195f9f908c"
   },
   "source": [
    "Facilitating transfer learning in this case is easy. We load the pretrained model just like we did above, but instead of generting smiles with it, we call the `fit` method and supply the finetuning data loaders. We set the number of epochs to 10 in this case. Training should not take more than an hour in this case even on an older GPU. On an NVIDIA RTX 2070 this took only a few minutes.\n",
    "\n",
    "We also set up a training monitor (`FileMonitor`), which saves some improtant data during training. You will find these files in the `MODEL_DIR` directory with the `ligand_finetune` perfix. The following file saves the training and validation loss (`loss_train` and `loss-valid`, respectively). In simple terms, the losses indicate how well the model is able to capture the probability distribution of tokens in either the training set or the test set with the compounds it generates at each epoch. We also get information about the percentage of valid SMILES it produces (`valid_ratio`). There are also some empty values that are not relevant at the moment, but will come into play later. We can load the table as any other data file:"
   ]
  },
  {
   "cell_type": "code",
   "execution_count": 13,
   "id": "72d6f496-96ff-4df9-a43a-afce5f63164e",
   "metadata": {
    "colab": {
     "base_uri": "https://localhost:8080/",
     "height": 206
    },
    "id": "72d6f496-96ff-4df9-a43a-afce5f63164e",
    "outputId": "fb2a5b08-e26c-45fe-94a9-1dc8468339c0"
   },
   "outputs": [
    {
     "data": {
      "text/html": [
       "\n",
       "  <div id=\"df-2f6ebe75-d6b8-477d-8033-7f6a1821fe42\">\n",
       "    <div class=\"colab-df-container\">\n",
       "      <div>\n",
       "<style scoped>\n",
       "    .dataframe tbody tr th:only-of-type {\n",
       "        vertical-align: middle;\n",
       "    }\n",
       "\n",
       "    .dataframe tbody tr th {\n",
       "        vertical-align: top;\n",
       "    }\n",
       "\n",
       "    .dataframe thead th {\n",
       "        text-align: right;\n",
       "    }\n",
       "</style>\n",
       "<table border=\"1\" class=\"dataframe\">\n",
       "  <thead>\n",
       "    <tr style=\"text-align: right;\">\n",
       "      <th></th>\n",
       "      <th>epoch</th>\n",
       "      <th>loss_train</th>\n",
       "      <th>loss_valid</th>\n",
       "      <th>valid_ratio</th>\n",
       "      <th>unique_ratio</th>\n",
       "      <th>desire_ratio</th>\n",
       "      <th>mean_train_loss</th>\n",
       "    </tr>\n",
       "  </thead>\n",
       "  <tbody>\n",
       "    <tr>\n",
       "      <th>0</th>\n",
       "      <td>1</td>\n",
       "      <td>0.150419</td>\n",
       "      <td>0.177394</td>\n",
       "      <td>1.000000</td>\n",
       "      <td>NaN</td>\n",
       "      <td>NaN</td>\n",
       "      <td>NaN</td>\n",
       "    </tr>\n",
       "    <tr>\n",
       "      <th>1</th>\n",
       "      <td>2</td>\n",
       "      <td>0.169526</td>\n",
       "      <td>0.168819</td>\n",
       "      <td>0.846154</td>\n",
       "      <td>NaN</td>\n",
       "      <td>NaN</td>\n",
       "      <td>NaN</td>\n",
       "    </tr>\n",
       "    <tr>\n",
       "      <th>2</th>\n",
       "      <td>3</td>\n",
       "      <td>0.136890</td>\n",
       "      <td>0.165448</td>\n",
       "      <td>0.923077</td>\n",
       "      <td>NaN</td>\n",
       "      <td>NaN</td>\n",
       "      <td>NaN</td>\n",
       "    </tr>\n",
       "    <tr>\n",
       "      <th>3</th>\n",
       "      <td>4</td>\n",
       "      <td>0.118591</td>\n",
       "      <td>0.164929</td>\n",
       "      <td>0.923077</td>\n",
       "      <td>NaN</td>\n",
       "      <td>NaN</td>\n",
       "      <td>NaN</td>\n",
       "    </tr>\n",
       "    <tr>\n",
       "      <th>4</th>\n",
       "      <td>5</td>\n",
       "      <td>0.112708</td>\n",
       "      <td>0.163556</td>\n",
       "      <td>1.000000</td>\n",
       "      <td>NaN</td>\n",
       "      <td>NaN</td>\n",
       "      <td>NaN</td>\n",
       "    </tr>\n",
       "  </tbody>\n",
       "</table>\n",
       "</div>\n",
       "      <button class=\"colab-df-convert\" onclick=\"convertToInteractive('df-2f6ebe75-d6b8-477d-8033-7f6a1821fe42')\"\n",
       "              title=\"Convert this dataframe to an interactive table.\"\n",
       "              style=\"display:none;\">\n",
       "        \n",
       "  <svg xmlns=\"http://www.w3.org/2000/svg\" height=\"24px\"viewBox=\"0 0 24 24\"\n",
       "       width=\"24px\">\n",
       "    <path d=\"M0 0h24v24H0V0z\" fill=\"none\"/>\n",
       "    <path d=\"M18.56 5.44l.94 2.06.94-2.06 2.06-.94-2.06-.94-.94-2.06-.94 2.06-2.06.94zm-11 1L8.5 8.5l.94-2.06 2.06-.94-2.06-.94L8.5 2.5l-.94 2.06-2.06.94zm10 10l.94 2.06.94-2.06 2.06-.94-2.06-.94-.94-2.06-.94 2.06-2.06.94z\"/><path d=\"M17.41 7.96l-1.37-1.37c-.4-.4-.92-.59-1.43-.59-.52 0-1.04.2-1.43.59L10.3 9.45l-7.72 7.72c-.78.78-.78 2.05 0 2.83L4 21.41c.39.39.9.59 1.41.59.51 0 1.02-.2 1.41-.59l7.78-7.78 2.81-2.81c.8-.78.8-2.07 0-2.86zM5.41 20L4 18.59l7.72-7.72 1.47 1.35L5.41 20z\"/>\n",
       "  </svg>\n",
       "      </button>\n",
       "      \n",
       "  <style>\n",
       "    .colab-df-container {\n",
       "      display:flex;\n",
       "      flex-wrap:wrap;\n",
       "      gap: 12px;\n",
       "    }\n",
       "\n",
       "    .colab-df-convert {\n",
       "      background-color: #E8F0FE;\n",
       "      border: none;\n",
       "      border-radius: 50%;\n",
       "      cursor: pointer;\n",
       "      display: none;\n",
       "      fill: #1967D2;\n",
       "      height: 32px;\n",
       "      padding: 0 0 0 0;\n",
       "      width: 32px;\n",
       "    }\n",
       "\n",
       "    .colab-df-convert:hover {\n",
       "      background-color: #E2EBFA;\n",
       "      box-shadow: 0px 1px 2px rgba(60, 64, 67, 0.3), 0px 1px 3px 1px rgba(60, 64, 67, 0.15);\n",
       "      fill: #174EA6;\n",
       "    }\n",
       "\n",
       "    [theme=dark] .colab-df-convert {\n",
       "      background-color: #3B4455;\n",
       "      fill: #D2E3FC;\n",
       "    }\n",
       "\n",
       "    [theme=dark] .colab-df-convert:hover {\n",
       "      background-color: #434B5C;\n",
       "      box-shadow: 0px 1px 3px 1px rgba(0, 0, 0, 0.15);\n",
       "      filter: drop-shadow(0px 1px 2px rgba(0, 0, 0, 0.3));\n",
       "      fill: #FFFFFF;\n",
       "    }\n",
       "  </style>\n",
       "\n",
       "      <script>\n",
       "        const buttonEl =\n",
       "          document.querySelector('#df-2f6ebe75-d6b8-477d-8033-7f6a1821fe42 button.colab-df-convert');\n",
       "        buttonEl.style.display =\n",
       "          google.colab.kernel.accessAllowed ? 'block' : 'none';\n",
       "\n",
       "        async function convertToInteractive(key) {\n",
       "          const element = document.querySelector('#df-2f6ebe75-d6b8-477d-8033-7f6a1821fe42');\n",
       "          const dataTable =\n",
       "            await google.colab.kernel.invokeFunction('convertToInteractive',\n",
       "                                                     [key], {});\n",
       "          if (!dataTable) return;\n",
       "\n",
       "          const docLinkHtml = 'Like what you see? Visit the ' +\n",
       "            '<a target=\"_blank\" href=https://colab.research.google.com/notebooks/data_table.ipynb>data table notebook</a>'\n",
       "            + ' to learn more about interactive tables.';\n",
       "          element.innerHTML = '';\n",
       "          dataTable['output_type'] = 'display_data';\n",
       "          await google.colab.output.renderOutput(dataTable, element);\n",
       "          const docLink = document.createElement('div');\n",
       "          docLink.innerHTML = docLinkHtml;\n",
       "          element.appendChild(docLink);\n",
       "        }\n",
       "      </script>\n",
       "    </div>\n",
       "  </div>\n",
       "  "
      ],
      "text/plain": [
       "   epoch  loss_train  loss_valid  valid_ratio  unique_ratio  desire_ratio  \\\n",
       "0      1    0.150419    0.177394     1.000000           NaN           NaN   \n",
       "1      2    0.169526    0.168819     0.846154           NaN           NaN   \n",
       "2      3    0.136890    0.165448     0.923077           NaN           NaN   \n",
       "3      4    0.118591    0.164929     0.923077           NaN           NaN   \n",
       "4      5    0.112708    0.163556     1.000000           NaN           NaN   \n",
       "\n",
       "   mean_train_loss  \n",
       "0              NaN  \n",
       "1              NaN  \n",
       "2              NaN  \n",
       "3              NaN  \n",
       "4              NaN  "
      ]
     },
     "execution_count": 13,
     "metadata": {},
     "output_type": "execute_result"
    }
   ],
   "source": [
    "df_info = pd.read_csv('data/drugex/models/finetuned/ligand_finetune_fit.tsv', sep='\\t')\n",
    "df_info.head()"
   ]
  },
  {
   "cell_type": "markdown",
   "id": "734b4fc8-4299-447b-a10a-a51310f42cec",
   "metadata": {
    "id": "734b4fc8-4299-447b-a10a-a51310f42cec"
   },
   "source": [
    "We can also plot everything quite easily:"
   ]
  },
  {
   "cell_type": "code",
   "execution_count": 14,
   "id": "d10ca1f3-4005-43be-b936-65c496c1984a",
   "metadata": {
    "colab": {
     "base_uri": "https://localhost:8080/",
     "height": 282
    },
    "id": "d10ca1f3-4005-43be-b936-65c496c1984a",
    "outputId": "85251341-b6c3-4e61-c92b-733d872434c6"
   },
   "outputs": [
    {
     "data": {
      "text/plain": [
       "<matplotlib.axes._subplots.AxesSubplot at 0x7f3b7d800f10>"
      ]
     },
     "execution_count": 14,
     "metadata": {},
     "output_type": "execute_result"
    },
    {
     "data": {
      "image/png": "[encoded data removed]",
      "text/plain": [
       "<Figure size 432x288 with 1 Axes>"
      ]
     },
     "metadata": {
      "needs_background": "light"
     },
     "output_type": "display_data"
    }
   ],
   "source": [
    "df_info[['loss_train', 'loss_valid']].plot.line()"
   ]
  },
  {
   "cell_type": "markdown",
   "id": "b57b110d-10e9-478d-a3d0-48ef40c2a6f3",
   "metadata": {
    "id": "b57b110d-10e9-478d-a3d0-48ef40c2a6f3"
   },
   "source": [
    "We can see that while the training loss is going down during training the validation loss starts to dwindle and even increases slightly. This indicates that our model is starting to overfit the training set a little so we might want to think about tweaking the parameters a little bit here. However, it is OK for the purpose of our tutorial and as we will see, even such a short round of transfer learning had an effect on our model. We can show that by sampling another set of SMILES with this model and showing the chemical space plot:"
   ]
  },
  {
   "cell_type": "code",
   "execution_count": 15,
   "id": "cbcc5ce3-c56c-43d1-8b59-d77ad59622bf",
   "metadata": {
    "colab": {
     "base_uri": "https://localhost:8080/",
     "height": 960
    },
    "id": "cbcc5ce3-c56c-43d1-8b59-d77ad59622bf",
    "outputId": "add7b082-238a-4274-bea1-bc2541d836b1"
   },
   "outputs": [
    {
     "name": "stderr",
     "output_type": "stream",
     "text": [
      "/usr/local/lib/python3.7/dist-packages/sklearn/manifold/_t_sne.py:783: FutureWarning:\n",
      "\n",
      "The default initialization in TSNE will change from 'random' to 'pca' in 1.2.\n",
      "\n",
      "/usr/local/lib/python3.7/dist-packages/sklearn/manifold/_t_sne.py:793: FutureWarning:\n",
      "\n",
      "The default learning rate in TSNE will change from 200.0 to 'auto' in 1.2.\n",
      "\n"
     ]
    },
    {
     "data": {
      "application/javascript": [
       "(async (port, path, width, height, cache, element) => {\n",
       "    if (!google.colab.kernel.accessAllowed && !cache) {\n",
       "      return;\n",
       "    }\n",
       "    element.appendChild(document.createTextNode(''));\n",
       "    const url = await google.colab.kernel.proxyPort(port, {cache});\n",
       "    const iframe = document.createElement('iframe');\n",
       "    iframe.src = new URL(path, url).toString();\n",
       "    iframe.height = height;\n",
       "    iframe.width = width;\n",
       "    iframe.style.border = 0;\n",
       "    element.appendChild(iframe);\n",
       "  })(9393, \"/\", \"100%\", 800, false, window.element)"
      ],
      "text/plain": [
       "<IPython.core.display.Javascript object>"
      ]
     },
     "metadata": {},
     "output_type": "display_data"
    }
   ],
   "source": [
    "finetuned.loadStatesFromFile('data/drugex/models/finetuned/ligand_finetune.pkg')\n",
    "\n",
    "smiles_finetuned = sample_smiles(finetuned, 1000)\n",
    "\n",
    "dataset = DataSetSMILES(\"data/finetuned_sampled.tsv\", smiles=smiles_finetuned, use_existing=False)\n",
    "dataset.addDescriptors([MorganFP(radius=2, nBits=1024)], recalculate=False) \n",
    "\n",
    "plt = Plot(dataset, TSNE())\n",
    "plt.plot(\n",
    "    recalculate=False,\n",
    "    viewport_height=800,\n",
    "    port=9393\n",
    ")"
   ]
  },
  {
   "cell_type": "markdown",
   "id": "de68bdd1-a956-4516-9ea1-0d5f01cd106e",
   "metadata": {
    "id": "de68bdd1-a956-4516-9ea1-0d5f01cd106e"
   },
   "source": [
    "When we compare this chemical space to the space generated with the pretrained model above, it is clear that these compounds are differently distributed and if we take a look at the structures we might be able to spot some patterns commonly seen in adenosine receptor ligands, which means that the transfer learning did seem to work.\n",
    "\n",
    "### Optimizing Compound Properties with Reinforcement Learning\n",
    "\n",
    "We now successfully used transfer learning to create a model that can generate new molecules that resemble known data. That is very nice, but not often useful. Consider for example a case of a pharmaceutical company that is trying to develop a new drug, which has not been published or patented, yet. It is unlikely that with this model, we will be able to find completely new scaffolds. All it can do is copy and mimick known chemical space related to adenosine receptor A2A. It also has no information about activity of the compounds. It just creates new molecule that look like the known ligands. But what if we could create a model that can generate structures that are more likely to be binders than nonbinders of the A2A receptor? We will explain how to do exactly that in this chapter.\n",
    "\n",
    "Reinforcement learning is a well-known concept in machine learning and AI and can be used to train neural networks to successfully accomplish various tasks. The most famous example is [AlphaGo](https://en.wikipedia.org/wiki/AlphaGo), a machine learning model that was trained to successfully play the borad game Go, but there are also models that learned to [walk](https://arxiv.org/pdf/1812.11103.pdf), [play computer games](https://www.theverge.com/2018/8/6/17655086/dota2-openai-bots-professional-gaming-ai) or many [other things](https://rl-book.com/applications/). This is a simple schematic that illustrates the idea of reinforcement learning:\n",
    "\n",
    "\n",
    "Regardless of whether the AI is learning to walk or generate molecules, the concept is the same. The model acts as an *agent* in the *environment*. The agent performs an *action* in the environment (i.e. generates a molecular structure). Based on the action, the agent then receives a *reward* from an *interpreter* (i.e. a QSAR model predicting activity on the A2A receptor). The obtained reward can then be used to adjust the actions made by the agant, for example by changing it's *state* (i.e. the weights of the neural network). This loop is repeated until the agent learns to walk, play a game or generates molecules interesting for us. \n",
    "\n",
    "In this tutorial, we will teach our model (*agent*) to generate more active and synthetically accessible molecules. That means we will have two *observers* in our environment that will each give feedback to our models. This is called multi-objective optimization and reflects more the way we think about 'good molecules' in drug discovery. It is not always just perceived activity that is important, but other criteria like synthetic accessibility play an important role too.\n",
    "\n",
    "#### Observer 1 (The QSAR Model)\n",
    "\n",
    "Therefore, the first of our observers (or more often scoring functions) will be the QSAR model we trained previously. It will provide the *agent* with information about the likely activity agains A2A receptor:"
   ]
  },
  {
   "cell_type": "code",
   "execution_count": 16,
   "id": "afb4fcec-3c90-4aa2-9bf2-9ad8f4600b05",
   "metadata": {
    "colab": {
     "base_uri": "https://localhost:8080/"
    },
    "id": "afb4fcec-3c90-4aa2-9bf2-9ad8f4600b05",
    "outputId": "eb959bda-b33b-46cc-c81e-7c7e9b9cb90e"
   },
   "outputs": [
    {
     "data": {
      "text/plain": [
       "ExtraTreesClassifier(n_estimators=250)"
      ]
     },
     "execution_count": 16,
     "metadata": {},
     "output_type": "execute_result"
    }
   ],
   "source": [
    "import joblib\n",
    "\n",
    "model = joblib.load('data/qsar/models/PTP1B_CLS_ET_250.pickle')\n",
    "model"
   ]
  },
  {
   "cell_type": "markdown",
   "id": "4f5f5119-1936-485b-af49-99d60f215110",
   "metadata": {
    "id": "4f5f5119-1936-485b-af49-99d60f215110"
   },
   "source": [
    "In order to feed this model to our DrugEx agent, we need to wrap it in the `Scorer` interface:"
   ]
  },
  {
   "cell_type": "code",
   "execution_count": 17,
   "id": "0480612b-780e-4b7c-bd37-551d23e1c785",
   "metadata": {
    "colab": {
     "base_uri": "https://localhost:8080/"
    },
    "id": "0480612b-780e-4b7c-bd37-551d23e1c785",
    "outputId": "23200fcf-c76f-4be2-906a-704d43fc93d0"
   },
   "outputs": [
    {
     "data": {
      "text/plain": [
       "<__main__.ModelScorer at 0x7f3bed762910>"
      ]
     },
     "execution_count": 17,
     "metadata": {},
     "output_type": "execute_result"
    }
   ],
   "source": [
    "from drugex.training.interfaces import Scorer\n",
    "\n",
    "class ModelScorer(Scorer):\n",
    "    \n",
    "    def __init__(self, model, prefix, descriptor = MorganFP(radius=2, nBits=1024)):\n",
    "        super().__init__()\n",
    "        self.model = model\n",
    "        self.prefix = prefix\n",
    "        self.descriptor = descriptor\n",
    "    \n",
    "    def getScores(self, mols, frags=None):\n",
    "        X = pd.Series(mols).apply(lambda x : pd.Series(self.descriptor(x) if x else [0] * 1024))\n",
    "        preds = self.model.predict_proba(X)[::,1]\n",
    "        return preds\n",
    "    \n",
    "    def getKey(self):\n",
    "        return f\"{self.prefix}_MS\"\n",
    "\n",
    "\n",
    "\n",
    "scorer_model = ModelScorer(model, 'PTP1B_CLS')\n",
    "scorer_model"
   ]
  },
  {
   "cell_type": "markdown",
   "id": "7b29c1e8-61e4-4272-8f7c-221861cbd6f0",
   "metadata": {
    "id": "7b29c1e8-61e4-4272-8f7c-221861cbd6f0"
   },
   "source": [
    "A scorer is a simple Python class that needs to have the `getScores` and `getKey` methods. The `getScores` method is the most important one and is used to calculate scores (model predictions) for the generated molecules at each epoch of training. The `getKey` method just gives the scorer a unique name that will appear in the outputs and will be used by the model.\n",
    "\n",
    "We can illustrate how the scorer functions by feeding it our list of smiles from the finetuned model:"
   ]
  },
  {
   "cell_type": "code",
   "execution_count": 18,
   "id": "6be660b7-e310-4292-aa67-0dc335282eaa",
   "metadata": {
    "colab": {
     "base_uri": "https://localhost:8080/"
    },
    "id": "6be660b7-e310-4292-aa67-0dc335282eaa",
    "outputId": "13380b4f-704d-487b-80b3-a43b52b68c6e"
   },
   "outputs": [
    {
     "name": "stderr",
     "output_type": "stream",
     "text": [
      "/usr/local/lib/python3.7/dist-packages/sklearn/base.py:451: UserWarning:\n",
      "\n",
      "X does not have valid feature names, but ExtraTreesClassifier was fitted with feature names\n",
      "\n"
     ]
    },
    {
     "data": {
      "text/plain": [
       "array([0.   , 0.   , 0.   , 0.   , 0.   , 0.   , 0.024, 0.02 , 0.008,\n",
       "       0.032])"
      ]
     },
     "execution_count": 18,
     "metadata": {},
     "output_type": "execute_result"
    }
   ],
   "source": [
    "predictions = scorer_model(smiles_finetuned)\n",
    "predictions[0:10]"
   ]
  },
  {
   "cell_type": "markdown",
   "id": "2d350504-8367-4397-a3b5-66370bf078b6",
   "metadata": {
    "id": "2d350504-8367-4397-a3b5-66370bf078b6"
   },
   "source": [
    "We can also calculate the percentage of molecules that would be classified as active at this point. It is just molecules for which the predicted value is more than 0.5:"
   ]
  },
  {
   "cell_type": "code",
   "execution_count": 19,
   "id": "323b5b75-817a-449c-b935-2e44297c6da7",
   "metadata": {
    "colab": {
     "base_uri": "https://localhost:8080/"
    },
    "id": "323b5b75-817a-449c-b935-2e44297c6da7",
    "outputId": "76541a4d-87da-488d-8a9d-51c99f953c21"
   },
   "outputs": [
    {
     "data": {
      "text/plain": [
       "0.023"
      ]
     },
     "execution_count": 19,
     "metadata": {},
     "output_type": "execute_result"
    }
   ],
   "source": [
    "sum(predictions > 0.5) / len(predictions)"
   ]
  },
  {
   "cell_type": "markdown",
   "id": "aac135ee-4d36-488a-a64e-87dfa450739a",
   "metadata": {
    "id": "aac135ee-4d36-488a-a64e-87dfa450739a"
   },
   "source": [
    "Therefore, almost half of the generated molecules are perceived as likely binders by our model. Not bad for such a simple model. But let's see if we can further improve this ration with reinforcement learning.\n",
    "\n",
    "#### Observer 2 (Synthetic Accessibility Score)\n",
    "\n",
    "Our second observer in this experiment will be the [Synthetic Accessibility Score](https://jcheminf.biomedcentral.com/articles/10.1186/1758-2946-1-8) (SAScore). It has been around for a long time and is generally considered as a reasonable measure of how complex (hard to synthesize) a compound structure is. It is available in DrugEx and we can easily create this scoring function as follows:"
   ]
  },
  {
   "cell_type": "code",
   "execution_count": 20,
   "id": "e65447f5-82bb-44e9-8f30-e812ceb80f1e",
   "metadata": {
    "id": "e65447f5-82bb-44e9-8f30-e812ceb80f1e"
   },
   "outputs": [],
   "source": [
    "from drugex.training.scorers.properties import Property\n",
    "\n",
    "sascore = Property(\"SA\")"
   ]
  },
  {
   "cell_type": "markdown",
   "id": "e5eadc0e-76ca-4c39-91a2-a6682f9767da",
   "metadata": {
    "id": "e5eadc0e-76ca-4c39-91a2-a6682f9767da"
   },
   "source": [
    "#### Desirability Score Modifiers\n",
    "\n",
    "Because the scorers that we created above each work on a different scale, it might be a good idea to normalize them somehow and make them work on the same scale and express to the model what values of the scores are actually desirable and what are not. For example, we want the SAScore as low as possible while we want the score from the model as close to 1 as possible (have the most confidence in the prediction that the generated compounds are active). This where the desirability modifier comes in. It helps us to keep things on one scale while telling the model what distribution of scores is good for us.\n",
    "\n",
    "For the QSAR model, we will choose the `ClippedScore` modifier:"
   ]
  },
  {
   "cell_type": "code",
   "execution_count": 21,
   "id": "d3141815-f27e-470e-89d9-31754dc2577a",
   "metadata": {
    "id": "d3141815-f27e-470e-89d9-31754dc2577a"
   },
   "outputs": [],
   "source": [
    "from drugex.training.scorers.modifiers import ClippedScore\n",
    "\n",
    "scorer_model.setModifier(ClippedScore(lower_x=0.2, upper_x=0.8))"
   ]
  },
  {
   "cell_type": "markdown",
   "id": "91e51f22-b27e-4e63-a941-294af282acae",
   "metadata": {
    "id": "91e51f22-b27e-4e63-a941-294af282acae"
   },
   "source": [
    "With this modifier we are telling the agent that molecules with scores that are less than 0.2 are no good for us while scores of more than 0.8 are good with some linear progressin in between. We can easily visualize the modifier with the following code:"
   ]
  },
  {
   "cell_type": "code",
   "execution_count": 22,
   "id": "0e345109-fc3a-482e-9176-0fca6c13da42",
   "metadata": {
    "colab": {
     "base_uri": "https://localhost:8080/",
     "height": 296
    },
    "id": "0e345109-fc3a-482e-9176-0fca6c13da42",
    "outputId": "a948950d-551d-4d89-bf83-9e32d6a9b22c"
   },
   "outputs": [
    {
     "data": {
      "text/plain": [
       "<matplotlib.axes._subplots.AxesSubplot at 0x7f3bed84d0d0>"
      ]
     },
     "execution_count": 22,
     "metadata": {},
     "output_type": "execute_result"
    },
    {
     "data": {
      "image/png": "[encoded data removed]",
      "text/plain": [
       "<Figure size 432x288 with 1 Axes>"
      ]
     },
     "metadata": {
      "needs_background": "light"
     },
     "output_type": "display_data"
    }
   ],
   "source": [
    "import numpy as np\n",
    "\n",
    "def depict_modifier(modifier, start=0, end=1, step=0.01, name = 'Clipped Score'):\n",
    "    vals = np.arange(start,end, step)\n",
    "    scores = [(x, modifier(x)) for x in vals] # get the A1R modifier for inactivity (the lower the activity, the higher the reward)\n",
    "    scores = pd.DataFrame(scores, columns=['Score', name])\n",
    "    return scores.plot.scatter(x = 'Score', y = name)\n",
    "\n",
    "depict_modifier(scorer_model.getModifier())"
   ]
  },
  {
   "cell_type": "markdown",
   "id": "6eb4cbca-a1d6-4aa0-8942-3ed527be9b3a",
   "metadata": {
    "id": "6eb4cbca-a1d6-4aa0-8942-3ed527be9b3a"
   },
   "source": [
    "As we can see the agent will be told to stay away from molecules of scores lower then 0.2 and move towards molecules of at least score 0.8. The reason for the linear progression in between is there so that the model can evaluate whether one molecule is better than the other, but not generally desired.\n",
    "\n",
    "For the SAScore we will opt for the smoothed out variant of clipped score, `SmoothClippedScore`:"
   ]
  },
  {
   "cell_type": "code",
   "execution_count": 23,
   "id": "96d2468d-f3a6-45d4-897a-108e0c7918b5",
   "metadata": {
    "id": "96d2468d-f3a6-45d4-897a-108e0c7918b5"
   },
   "outputs": [],
   "source": [
    "from drugex.training.scorers.modifiers import SmoothClippedScore\n",
    "\n",
    "sascore.setModifier(SmoothClippedScore(lower_x=5, upper_x=3))"
   ]
  },
  {
   "cell_type": "markdown",
   "id": "e48842df-d2cc-4ad0-9134-aed692de1c9a",
   "metadata": {
    "id": "e48842df-d2cc-4ad0-9134-aed692de1c9a"
   },
   "source": [
    "This funtion looks as follows:"
   ]
  },
  {
   "cell_type": "code",
   "execution_count": 24,
   "id": "e33afe7a-49cc-444c-9ce4-098bf3fce28f",
   "metadata": {
    "colab": {
     "base_uri": "https://localhost:8080/",
     "height": 296
    },
    "id": "e33afe7a-49cc-444c-9ce4-098bf3fce28f",
    "outputId": "fe811e05-e6e3-4eb4-f667-53f208f42881"
   },
   "outputs": [
    {
     "data": {
      "text/plain": [
       "<matplotlib.axes._subplots.AxesSubplot at 0x7f3bed71a2d0>"
      ]
     },
     "execution_count": 24,
     "metadata": {},
     "output_type": "execute_result"
    },
    {
     "data": {
      "image/png": "[encoded data removed]",
      "text/plain": [
       "<Figure size 432x288 with 1 Axes>"
      ]
     },
     "metadata": {
      "needs_background": "light"
     },
     "output_type": "display_data"
    }
   ],
   "source": [
    "depict_modifier(sascore.getModifier(), 0, 10, 0.1, 'Clipped Score - Smooth')"
   ]
  },
  {
   "cell_type": "markdown",
   "id": "d7427aca-d783-4878-88d4-c0be85a12bad",
   "metadata": {
    "id": "d7427aca-d783-4878-88d4-c0be85a12bad"
   },
   "source": [
    "In general, molecules with SAScore higher than 6 are considered quite complex, but can still be present in data sets so we give the distribution a more gradual decrease with a longer right tail. We will also never achieve the perfect SAScore of 1, but that is OK as long as we tell the model we want the score as close to one as possible.\n",
    "\n",
    "#### The Environment\n",
    "\n",
    "The last thing we have to do is to create the environment and to specify desirability thresholds for our scoring functions. We also need to apply a suitable multi-objective reward scheme:"
   ]
  },
  {
   "cell_type": "code",
   "execution_count": 25,
   "id": "10bb41b5-3337-45ec-88c3-e61e6943f727",
   "metadata": {
    "id": "10bb41b5-3337-45ec-88c3-e61e6943f727"
   },
   "outputs": [],
   "source": [
    "from drugex.training.environment import DrugExEnvironment\n",
    "from drugex.training.rewards import ParetoCrowdingDistance\n",
    "\n",
    "scorers = [\n",
    "    scorer_model,\n",
    "    sascore\n",
    "]\n",
    "thresholds = [\n",
    "    0.5,\n",
    "    0.1\n",
    "]\n",
    "\n",
    "environment = DrugExEnvironment(scorers, thresholds, reward_scheme=ParetoCrowdingDistance())"
   ]
  },
  {
   "cell_type": "markdown",
   "id": "93aa23e1-fd55-457d-8e83-891e6be15595",
   "metadata": {
    "id": "93aa23e1-fd55-457d-8e83-891e6be15595"
   },
   "source": [
    "The thresholds can play some role in some reward schemes (i.e. `WeightedSum`), but in this case they will just be used to deem whether a molecule is desirable or not. We can show what that means if we get the scores for our previously generated compounds with the environment: "
   ]
  },
  {
   "cell_type": "code",
   "execution_count": 26,
   "id": "78cd2a11-04bf-4473-a1d0-f9bc5dd0ca76",
   "metadata": {
    "colab": {
     "base_uri": "https://localhost:8080/",
     "height": 493
    },
    "id": "78cd2a11-04bf-4473-a1d0-f9bc5dd0ca76",
    "outputId": "0560be81-48d4-4163-f8f4-66370966b0c6"
   },
   "outputs": [
    {
     "name": "stderr",
     "output_type": "stream",
     "text": [
      "/usr/local/lib/python3.7/dist-packages/sklearn/base.py:451: UserWarning:\n",
      "\n",
      "X does not have valid feature names, but ExtraTreesClassifier was fitted with feature names\n",
      "\n"
     ]
    },
    {
     "data": {
      "text/html": [
       "\n",
       "  <div id=\"df-f5958227-face-459b-8a75-14a15766d814\">\n",
       "    <div class=\"colab-df-container\">\n",
       "      <div>\n",
       "<style scoped>\n",
       "    .dataframe tbody tr th:only-of-type {\n",
       "        vertical-align: middle;\n",
       "    }\n",
       "\n",
       "    .dataframe tbody tr th {\n",
       "        vertical-align: top;\n",
       "    }\n",
       "\n",
       "    .dataframe thead th {\n",
       "        text-align: right;\n",
       "    }\n",
       "</style>\n",
       "<table border=\"1\" class=\"dataframe\">\n",
       "  <thead>\n",
       "    <tr style=\"text-align: right;\">\n",
       "      <th></th>\n",
       "      <th>PTP1B_CLS_MS</th>\n",
       "      <th>SA</th>\n",
       "      <th>DESIRE</th>\n",
       "      <th>VALID</th>\n",
       "    </tr>\n",
       "  </thead>\n",
       "  <tbody>\n",
       "    <tr>\n",
       "      <th>0</th>\n",
       "      <td>0.0</td>\n",
       "      <td>0.164636</td>\n",
       "      <td>0</td>\n",
       "      <td>1</td>\n",
       "    </tr>\n",
       "    <tr>\n",
       "      <th>1</th>\n",
       "      <td>0.0</td>\n",
       "      <td>0.970300</td>\n",
       "      <td>0</td>\n",
       "      <td>1</td>\n",
       "    </tr>\n",
       "    <tr>\n",
       "      <th>2</th>\n",
       "      <td>0.0</td>\n",
       "      <td>0.906671</td>\n",
       "      <td>0</td>\n",
       "      <td>1</td>\n",
       "    </tr>\n",
       "    <tr>\n",
       "      <th>3</th>\n",
       "      <td>0.0</td>\n",
       "      <td>0.943109</td>\n",
       "      <td>0</td>\n",
       "      <td>1</td>\n",
       "    </tr>\n",
       "    <tr>\n",
       "      <th>4</th>\n",
       "      <td>0.0</td>\n",
       "      <td>0.688849</td>\n",
       "      <td>0</td>\n",
       "      <td>1</td>\n",
       "    </tr>\n",
       "    <tr>\n",
       "      <th>...</th>\n",
       "      <td>...</td>\n",
       "      <td>...</td>\n",
       "      <td>...</td>\n",
       "      <td>...</td>\n",
       "    </tr>\n",
       "    <tr>\n",
       "      <th>995</th>\n",
       "      <td>0.0</td>\n",
       "      <td>0.445059</td>\n",
       "      <td>0</td>\n",
       "      <td>1</td>\n",
       "    </tr>\n",
       "    <tr>\n",
       "      <th>996</th>\n",
       "      <td>0.0</td>\n",
       "      <td>0.761184</td>\n",
       "      <td>0</td>\n",
       "      <td>1</td>\n",
       "    </tr>\n",
       "    <tr>\n",
       "      <th>997</th>\n",
       "      <td>0.0</td>\n",
       "      <td>0.568844</td>\n",
       "      <td>0</td>\n",
       "      <td>1</td>\n",
       "    </tr>\n",
       "    <tr>\n",
       "      <th>998</th>\n",
       "      <td>0.0</td>\n",
       "      <td>0.755893</td>\n",
       "      <td>0</td>\n",
       "      <td>1</td>\n",
       "    </tr>\n",
       "    <tr>\n",
       "      <th>999</th>\n",
       "      <td>0.0</td>\n",
       "      <td>0.966713</td>\n",
       "      <td>0</td>\n",
       "      <td>1</td>\n",
       "    </tr>\n",
       "  </tbody>\n",
       "</table>\n",
       "<p>1000 rows × 4 columns</p>\n",
       "</div>\n",
       "      <button class=\"colab-df-convert\" onclick=\"convertToInteractive('df-f5958227-face-459b-8a75-14a15766d814')\"\n",
       "              title=\"Convert this dataframe to an interactive table.\"\n",
       "              style=\"display:none;\">\n",
       "        \n",
       "  <svg xmlns=\"http://www.w3.org/2000/svg\" height=\"24px\"viewBox=\"0 0 24 24\"\n",
       "       width=\"24px\">\n",
       "    <path d=\"M0 0h24v24H0V0z\" fill=\"none\"/>\n",
       "    <path d=\"M18.56 5.44l.94 2.06.94-2.06 2.06-.94-2.06-.94-.94-2.06-.94 2.06-2.06.94zm-11 1L8.5 8.5l.94-2.06 2.06-.94-2.06-.94L8.5 2.5l-.94 2.06-2.06.94zm10 10l.94 2.06.94-2.06 2.06-.94-2.06-.94-.94-2.06-.94 2.06-2.06.94z\"/><path d=\"M17.41 7.96l-1.37-1.37c-.4-.4-.92-.59-1.43-.59-.52 0-1.04.2-1.43.59L10.3 9.45l-7.72 7.72c-.78.78-.78 2.05 0 2.83L4 21.41c.39.39.9.59 1.41.59.51 0 1.02-.2 1.41-.59l7.78-7.78 2.81-2.81c.8-.78.8-2.07 0-2.86zM5.41 20L4 18.59l7.72-7.72 1.47 1.35L5.41 20z\"/>\n",
       "  </svg>\n",
       "      </button>\n",
       "      \n",
       "  <style>\n",
       "    .colab-df-container {\n",
       "      display:flex;\n",
       "      flex-wrap:wrap;\n",
       "      gap: 12px;\n",
       "    }\n",
       "\n",
       "    .colab-df-convert {\n",
       "      background-color: #E8F0FE;\n",
       "      border: none;\n",
       "      border-radius: 50%;\n",
       "      cursor: pointer;\n",
       "      display: none;\n",
       "      fill: #1967D2;\n",
       "      height: 32px;\n",
       "      padding: 0 0 0 0;\n",
       "      width: 32px;\n",
       "    }\n",
       "\n",
       "    .colab-df-convert:hover {\n",
       "      background-color: #E2EBFA;\n",
       "      box-shadow: 0px 1px 2px rgba(60, 64, 67, 0.3), 0px 1px 3px 1px rgba(60, 64, 67, 0.15);\n",
       "      fill: #174EA6;\n",
       "    }\n",
       "\n",
       "    [theme=dark] .colab-df-convert {\n",
       "      background-color: #3B4455;\n",
       "      fill: #D2E3FC;\n",
       "    }\n",
       "\n",
       "    [theme=dark] .colab-df-convert:hover {\n",
       "      background-color: #434B5C;\n",
       "      box-shadow: 0px 1px 3px 1px rgba(0, 0, 0, 0.15);\n",
       "      filter: drop-shadow(0px 1px 2px rgba(0, 0, 0, 0.3));\n",
       "      fill: #FFFFFF;\n",
       "    }\n",
       "  </style>\n",
       "\n",
       "      <script>\n",
       "        const buttonEl =\n",
       "          document.querySelector('#df-f5958227-face-459b-8a75-14a15766d814 button.colab-df-convert');\n",
       "        buttonEl.style.display =\n",
       "          google.colab.kernel.accessAllowed ? 'block' : 'none';\n",
       "\n",
       "        async function convertToInteractive(key) {\n",
       "          const element = document.querySelector('#df-f5958227-face-459b-8a75-14a15766d814');\n",
       "          const dataTable =\n",
       "            await google.colab.kernel.invokeFunction('convertToInteractive',\n",
       "                                                     [key], {});\n",
       "          if (!dataTable) return;\n",
       "\n",
       "          const docLinkHtml = 'Like what you see? Visit the ' +\n",
       "            '<a target=\"_blank\" href=https://colab.research.google.com/notebooks/data_table.ipynb>data table notebook</a>'\n",
       "            + ' to learn more about interactive tables.';\n",
       "          element.innerHTML = '';\n",
       "          dataTable['output_type'] = 'display_data';\n",
       "          await google.colab.output.renderOutput(dataTable, element);\n",
       "          const docLink = document.createElement('div');\n",
       "          docLink.innerHTML = docLinkHtml;\n",
       "          element.appendChild(docLink);\n",
       "        }\n",
       "      </script>\n",
       "    </div>\n",
       "  </div>\n",
       "  "
      ],
      "text/plain": [
       "     PTP1B_CLS_MS        SA  DESIRE  VALID\n",
       "0             0.0  0.164636       0      1\n",
       "1             0.0  0.970300       0      1\n",
       "2             0.0  0.906671       0      1\n",
       "3             0.0  0.943109       0      1\n",
       "4             0.0  0.688849       0      1\n",
       "..            ...       ...     ...    ...\n",
       "995           0.0  0.445059       0      1\n",
       "996           0.0  0.761184       0      1\n",
       "997           0.0  0.568844       0      1\n",
       "998           0.0  0.755893       0      1\n",
       "999           0.0  0.966713       0      1\n",
       "\n",
       "[1000 rows x 4 columns]"
      ]
     },
     "execution_count": 26,
     "metadata": {},
     "output_type": "execute_result"
    }
   ],
   "source": [
    "scores = environment.getScores(smiles_finetuned)\n",
    "scores"
   ]
  },
  {
   "cell_type": "markdown",
   "id": "bc21bb0d-ba7a-446e-86d8-a498b160f024",
   "metadata": {
    "id": "bc21bb0d-ba7a-446e-86d8-a498b160f024"
   },
   "source": [
    "The `DESIRE` column shows a 1 for all molecules that satisfy the desirability thresholds for all objectives (SAScore higher than 0.1 and the predicted active probability from QSAE of more than 0.5). Note that the thresholds relate to the modified scores and not the original values.\n",
    "\n",
    "We can now calculate how many desirable compounds there are in this initial set:"
   ]
  },
  {
   "cell_type": "code",
   "execution_count": 27,
   "id": "d1d704d0-1f29-4d13-8c7f-608d5df3276d",
   "metadata": {
    "colab": {
     "base_uri": "https://localhost:8080/"
    },
    "id": "d1d704d0-1f29-4d13-8c7f-608d5df3276d",
    "outputId": "6980cfa7-8459-4aae-d4f5-c24d42ad3b9c"
   },
   "outputs": [
    {
     "data": {
      "text/plain": [
       "0.023"
      ]
     },
     "execution_count": 27,
     "metadata": {},
     "output_type": "execute_result"
    }
   ],
   "source": [
    "sum(scores[\"DESIRE\"]) / len(scores)"
   ]
  },
  {
   "cell_type": "markdown",
   "id": "24ab0d11-fc02-45b0-b3b2-be9bba4bef40",
   "metadata": {
    "id": "24ab0d11-fc02-45b0-b3b2-be9bba4bef40"
   },
   "source": [
    "We can also analyze the distribution of the score for each objective:"
   ]
  },
  {
   "cell_type": "code",
   "execution_count": 29,
   "id": "ee583960-ff07-4be0-af08-c4072c167be4",
   "metadata": {
    "colab": {
     "base_uri": "https://localhost:8080/",
     "height": 283
    },
    "id": "ee583960-ff07-4be0-af08-c4072c167be4",
    "outputId": "c483d55f-bca6-4e8d-d502-014b7677dd66"
   },
   "outputs": [
    {
     "data": {
      "text/plain": [
       "<matplotlib.axes._subplots.AxesSubplot at 0x7f3b7d76b610>"
      ]
     },
     "execution_count": 29,
     "metadata": {},
     "output_type": "execute_result"
    },
    {
     "data": {
      "image/png": "[encoded data removed]",
      "text/plain": [
       "<Figure size 432x288 with 1 Axes>"
      ]
     },
     "metadata": {
      "needs_background": "light"
     },
     "output_type": "display_data"
    }
   ],
   "source": [
    "scores.PTP1B_CLS_MS.hist()"
   ]
  },
  {
   "cell_type": "code",
   "execution_count": 30,
   "id": "1849d53c-b824-4c4d-a368-f4bffe834ed9",
   "metadata": {
    "colab": {
     "base_uri": "https://localhost:8080/",
     "height": 282
    },
    "id": "1849d53c-b824-4c4d-a368-f4bffe834ed9",
    "outputId": "ca005b0d-deec-4446-b307-0bddfd3a1f83"
   },
   "outputs": [
    {
     "data": {
      "text/plain": [
       "<matplotlib.axes._subplots.AxesSubplot at 0x7f3be0587a10>"
      ]
     },
     "execution_count": 30,
     "metadata": {},
     "output_type": "execute_result"
    },
    {
     "data": {
      "image/png": "[encoded data removed]",
      "text/plain": [
       "<Figure size 432x288 with 1 Axes>"
      ]
     },
     "metadata": {
      "needs_background": "light"
     },
     "output_type": "display_data"
    }
   ],
   "source": [
    "scores.SA.hist()"
   ]
  },
  {
   "cell_type": "markdown",
   "id": "1b60e537-b361-40dc-8eec-6d2b95877520",
   "metadata": {
    "id": "1b60e537-b361-40dc-8eec-6d2b95877520"
   },
   "source": [
    "We can see that this is not bad for just an initial model, but we can surely do better, especially when it comes to biological activity predictions. Let's see if we can manage that with reinforcement learning. For the RNN model, the reinforcement learning framework is implemented with the `SmilesExplorerNoFrag` class:"
   ]
  },
  {
   "cell_type": "code",
   "execution_count": 31,
   "id": "784f031e-2d82-418e-97a8-73e4de4a7c17",
   "metadata": {
    "id": "784f031e-2d82-418e-97a8-73e4de4a7c17"
   },
   "outputs": [],
   "source": [
    "from drugex.training.models.explorer import SmilesExplorerNoFrag\n",
    "import warnings\n",
    "warnings.filterwarnings('ignore')\n",
    "\n",
    "pretrained = RNN(voc, is_lstm=True, use_gpus=GPUS)\n",
    "pretrained.loadStatesFromFile('data/drugex/models/pretrained/DrugEx_v2_PT_Papyrus05.5/Papyrus05.5_smiles_rnn_PT.pkg')\n",
    "\n",
    "finetuned = RNN(voc, is_lstm=True, use_gpus=GPUS)\n",
    "finetuned.loadStatesFromFile('data/drugex/models/finetuned/ligand_finetune.pkg')\n",
    "\n",
    "explorer = SmilesExplorerNoFrag(\n",
    "    agent = finetuned,\n",
    "    env = environment,\n",
    "    mutate = pretrained, # network introducing mutations to the generated structures (rate determined by epsilon)\n",
    "    epsilon = 0.01,\n",
    "    use_gpus = GPUS\n",
    ")"
   ]
  },
  {
   "cell_type": "markdown",
   "id": "34cd5576-1d47-4b33-92e9-a9d1fd1e1e2a",
   "metadata": {
    "id": "34cd5576-1d47-4b33-92e9-a9d1fd1e1e2a"
   },
   "source": [
    "There are quite a few things we can tweak about the explorer here and the way it approaches reinforcement learning. We could for example choose the pretrained network to be the agent instead of the finetuned network. Doing that could help us find more novel structures that are also active. When using the finetuned model as the agent, the structures will be more similar to known ligands. In our current scenario, we are also using a rather low exploration parameter (`epsilon`), which is another way to influence the diversity of the generated compounds. The higher the `epsilon`, the larger the influence of the mutations introduced by the pretrained model, which adds more randomness to our structures. In short, there is a lot of space for experimentation and you can read more information in the [original paper](https://doi.org/10.1186/s13321-019-0355-6). In this particular case, we just chose the easiest setup for the algorithm so that it converges more easily and we can train it faster, but at the expense of more diverse exploration of chemical space.\n",
    "\n",
    "With that said, let's get to training. Thanks to this simplified setup, 30 epochs should be enough for us to already see a result:"
   ]
  },
  {
   "cell_type": "code",
   "execution_count": 32,
   "id": "6fc9604d-9979-477c-bef7-9d7ccba7376a",
   "metadata": {
    "id": "6fc9604d-9979-477c-bef7-9d7ccba7376a"
   },
   "outputs": [],
   "source": [
    "monitor = FileMonitor(os.path.join(MODEL_DIR, 'ligand_agent_rl'), verbose=True)\n",
    "explorer.fit(train_loader, valid_loader, monitor=monitor, epochs=30)"
   ]
  },
  {
   "cell_type": "markdown",
   "id": "f1796692-07ec-4003-8409-a384c5ffb4fb",
   "metadata": {
    "id": "f1796692-07ec-4003-8409-a384c5ffb4fb"
   },
   "source": [
    "Again, we can observer the evolution of certain parameters during training. Most improtantly the validity of the generated structures and the training loss:"
   ]
  },
  {
   "cell_type": "code",
   "execution_count": 33,
   "id": "10961ed4-d2f4-4132-b3ff-d5317ee57026",
   "metadata": {
    "colab": {
     "base_uri": "https://localhost:8080/",
     "height": 206
    },
    "id": "10961ed4-d2f4-4132-b3ff-d5317ee57026",
    "outputId": "be99c2d2-c421-4d20-f831-a022e8a09866"
   },
   "outputs": [
    {
     "data": {
      "text/html": [
       "\n",
       "  <div id=\"df-2a8cccf5-9043-4aa1-b5b1-b228a20b9173\">\n",
       "    <div class=\"colab-df-container\">\n",
       "      <div>\n",
       "<style scoped>\n",
       "    .dataframe tbody tr th:only-of-type {\n",
       "        vertical-align: middle;\n",
       "    }\n",
       "\n",
       "    .dataframe tbody tr th {\n",
       "        vertical-align: top;\n",
       "    }\n",
       "\n",
       "    .dataframe thead th {\n",
       "        text-align: right;\n",
       "    }\n",
       "</style>\n",
       "<table border=\"1\" class=\"dataframe\">\n",
       "  <thead>\n",
       "    <tr style=\"text-align: right;\">\n",
       "      <th></th>\n",
       "      <th>epoch</th>\n",
       "      <th>loss_train</th>\n",
       "      <th>loss_valid</th>\n",
       "      <th>valid_ratio</th>\n",
       "      <th>unique_ratio</th>\n",
       "      <th>desire_ratio</th>\n",
       "      <th>mean_train_loss</th>\n",
       "    </tr>\n",
       "  </thead>\n",
       "  <tbody>\n",
       "    <tr>\n",
       "      <th>0</th>\n",
       "      <td>1</td>\n",
       "      <td>NaN</td>\n",
       "      <td>NaN</td>\n",
       "      <td>0.843750</td>\n",
       "      <td>NaN</td>\n",
       "      <td>0.000000</td>\n",
       "      <td>-1.399064</td>\n",
       "    </tr>\n",
       "    <tr>\n",
       "      <th>1</th>\n",
       "      <td>2</td>\n",
       "      <td>NaN</td>\n",
       "      <td>NaN</td>\n",
       "      <td>0.890625</td>\n",
       "      <td>NaN</td>\n",
       "      <td>0.015625</td>\n",
       "      <td>-0.100912</td>\n",
       "    </tr>\n",
       "    <tr>\n",
       "      <th>2</th>\n",
       "      <td>3</td>\n",
       "      <td>NaN</td>\n",
       "      <td>NaN</td>\n",
       "      <td>0.906250</td>\n",
       "      <td>NaN</td>\n",
       "      <td>0.015625</td>\n",
       "      <td>-0.096067</td>\n",
       "    </tr>\n",
       "    <tr>\n",
       "      <th>3</th>\n",
       "      <td>4</td>\n",
       "      <td>NaN</td>\n",
       "      <td>NaN</td>\n",
       "      <td>0.937500</td>\n",
       "      <td>NaN</td>\n",
       "      <td>0.015625</td>\n",
       "      <td>-0.089189</td>\n",
       "    </tr>\n",
       "    <tr>\n",
       "      <th>4</th>\n",
       "      <td>5</td>\n",
       "      <td>NaN</td>\n",
       "      <td>NaN</td>\n",
       "      <td>0.921875</td>\n",
       "      <td>NaN</td>\n",
       "      <td>0.007812</td>\n",
       "      <td>-0.090883</td>\n",
       "    </tr>\n",
       "  </tbody>\n",
       "</table>\n",
       "</div>\n",
       "      <button class=\"colab-df-convert\" onclick=\"convertToInteractive('df-2a8cccf5-9043-4aa1-b5b1-b228a20b9173')\"\n",
       "              title=\"Convert this dataframe to an interactive table.\"\n",
       "              style=\"display:none;\">\n",
       "        \n",
       "  <svg xmlns=\"http://www.w3.org/2000/svg\" height=\"24px\"viewBox=\"0 0 24 24\"\n",
       "       width=\"24px\">\n",
       "    <path d=\"M0 0h24v24H0V0z\" fill=\"none\"/>\n",
       "    <path d=\"M18.56 5.44l.94 2.06.94-2.06 2.06-.94-2.06-.94-.94-2.06-.94 2.06-2.06.94zm-11 1L8.5 8.5l.94-2.06 2.06-.94-2.06-.94L8.5 2.5l-.94 2.06-2.06.94zm10 10l.94 2.06.94-2.06 2.06-.94-2.06-.94-.94-2.06-.94 2.06-2.06.94z\"/><path d=\"M17.41 7.96l-1.37-1.37c-.4-.4-.92-.59-1.43-.59-.52 0-1.04.2-1.43.59L10.3 9.45l-7.72 7.72c-.78.78-.78 2.05 0 2.83L4 21.41c.39.39.9.59 1.41.59.51 0 1.02-.2 1.41-.59l7.78-7.78 2.81-2.81c.8-.78.8-2.07 0-2.86zM5.41 20L4 18.59l7.72-7.72 1.47 1.35L5.41 20z\"/>\n",
       "  </svg>\n",
       "      </button>\n",
       "      \n",
       "  <style>\n",
       "    .colab-df-container {\n",
       "      display:flex;\n",
       "      flex-wrap:wrap;\n",
       "      gap: 12px;\n",
       "    }\n",
       "\n",
       "    .colab-df-convert {\n",
       "      background-color: #E8F0FE;\n",
       "      border: none;\n",
       "      border-radius: 50%;\n",
       "      cursor: pointer;\n",
       "      display: none;\n",
       "      fill: #1967D2;\n",
       "      height: 32px;\n",
       "      padding: 0 0 0 0;\n",
       "      width: 32px;\n",
       "    }\n",
       "\n",
       "    .colab-df-convert:hover {\n",
       "      background-color: #E2EBFA;\n",
       "      box-shadow: 0px 1px 2px rgba(60, 64, 67, 0.3), 0px 1px 3px 1px rgba(60, 64, 67, 0.15);\n",
       "      fill: #174EA6;\n",
       "    }\n",
       "\n",
       "    [theme=dark] .colab-df-convert {\n",
       "      background-color: #3B4455;\n",
       "      fill: #D2E3FC;\n",
       "    }\n",
       "\n",
       "    [theme=dark] .colab-df-convert:hover {\n",
       "      background-color: #434B5C;\n",
       "      box-shadow: 0px 1px 3px 1px rgba(0, 0, 0, 0.15);\n",
       "      filter: drop-shadow(0px 1px 2px rgba(0, 0, 0, 0.3));\n",
       "      fill: #FFFFFF;\n",
       "    }\n",
       "  </style>\n",
       "\n",
       "      <script>\n",
       "        const buttonEl =\n",
       "          document.querySelector('#df-2a8cccf5-9043-4aa1-b5b1-b228a20b9173 button.colab-df-convert');\n",
       "        buttonEl.style.display =\n",
       "          google.colab.kernel.accessAllowed ? 'block' : 'none';\n",
       "\n",
       "        async function convertToInteractive(key) {\n",
       "          const element = document.querySelector('#df-2a8cccf5-9043-4aa1-b5b1-b228a20b9173');\n",
       "          const dataTable =\n",
       "            await google.colab.kernel.invokeFunction('convertToInteractive',\n",
       "                                                     [key], {});\n",
       "          if (!dataTable) return;\n",
       "\n",
       "          const docLinkHtml = 'Like what you see? Visit the ' +\n",
       "            '<a target=\"_blank\" href=https://colab.research.google.com/notebooks/data_table.ipynb>data table notebook</a>'\n",
       "            + ' to learn more about interactive tables.';\n",
       "          element.innerHTML = '';\n",
       "          dataTable['output_type'] = 'display_data';\n",
       "          await google.colab.output.renderOutput(dataTable, element);\n",
       "          const docLink = document.createElement('div');\n",
       "          docLink.innerHTML = docLinkHtml;\n",
       "          element.appendChild(docLink);\n",
       "        }\n",
       "      </script>\n",
       "    </div>\n",
       "  </div>\n",
       "  "
      ],
      "text/plain": [
       "   epoch  loss_train  loss_valid  valid_ratio  unique_ratio  desire_ratio  \\\n",
       "0      1         NaN         NaN     0.843750           NaN      0.000000   \n",
       "1      2         NaN         NaN     0.890625           NaN      0.015625   \n",
       "2      3         NaN         NaN     0.906250           NaN      0.015625   \n",
       "3      4         NaN         NaN     0.937500           NaN      0.015625   \n",
       "4      5         NaN         NaN     0.921875           NaN      0.007812   \n",
       "\n",
       "   mean_train_loss  \n",
       "0        -1.399064  \n",
       "1        -0.100912  \n",
       "2        -0.096067  \n",
       "3        -0.089189  \n",
       "4        -0.090883  "
      ]
     },
     "execution_count": 33,
     "metadata": {},
     "output_type": "execute_result"
    }
   ],
   "source": [
    "df_info = pd.read_csv('data/drugex/models/finetuned/ligand_agent_rl_fit.tsv', sep='\\t')\n",
    "df_info.head()"
   ]
  },
  {
   "cell_type": "code",
   "execution_count": 34,
   "id": "024f80f1-dc7d-4d64-a19a-c8660a3222a5",
   "metadata": {
    "colab": {
     "base_uri": "https://localhost:8080/",
     "height": 282
    },
    "id": "024f80f1-dc7d-4d64-a19a-c8660a3222a5",
    "outputId": "9911f7f8-f877-4338-cdb5-2bb888f019ab"
   },
   "outputs": [
    {
     "data": {
      "text/plain": [
       "<matplotlib.axes._subplots.AxesSubplot at 0x7f3b7d745110>"
      ]
     },
     "execution_count": 34,
     "metadata": {},
     "output_type": "execute_result"
    },
    {
     "data": {
      "image/png": "[encoded data removed]",
      "text/plain": [
       "<Figure size 432x288 with 1 Axes>"
      ]
     },
     "metadata": {
      "needs_background": "light"
     },
     "output_type": "display_data"
    }
   ],
   "source": [
    "df_info[['valid_ratio', 'mean_train_loss', 'desire_ratio']].plot.line()"
   ]
  },
  {
   "cell_type": "markdown",
   "id": "f31060f7-0830-437c-9bbc-e90fbae0ac7b",
   "metadata": {
    "id": "f31060f7-0830-437c-9bbc-e90fbae0ac7b"
   },
   "source": [
    "We can see that most of the compounds remain valid and the training loss also improves slightly. We also have a little drop in validity and loss after the first epoch, but the model quickly stabilizes itself. \n",
    "\n",
    "Let's test if this model is now able to produce better molecules. We just need to load it from the saved state and sample new structures:"
   ]
  },
  {
   "cell_type": "code",
   "execution_count": 35,
   "id": "7b4b51a2-f2c5-422c-a5f3-145f54bee748",
   "metadata": {
    "id": "7b4b51a2-f2c5-422c-a5f3-145f54bee748"
   },
   "outputs": [],
   "source": [
    "agent = RNN(voc, is_lstm=True, use_gpus=GPUS)\n",
    "agent.loadStatesFromFile('data/drugex/models/finetuned/ligand_agent_rl.pkg')\n",
    "\n",
    "smiles_rl = sample_smiles(agent, 1000)"
   ]
  },
  {
   "cell_type": "markdown",
   "id": "b9abc3b9-16c9-4d8f-b9c0-0c91be74a6a4",
   "metadata": {
    "id": "b9abc3b9-16c9-4d8f-b9c0-0c91be74a6a4"
   },
   "source": [
    "We can again push them through our environment and see how many of them are desirable according to our settings:"
   ]
  },
  {
   "cell_type": "code",
   "execution_count": 36,
   "id": "1a0d277c-8425-4856-88e1-9ccc2d1af161",
   "metadata": {
    "colab": {
     "base_uri": "https://localhost:8080/",
     "height": 424
    },
    "id": "1a0d277c-8425-4856-88e1-9ccc2d1af161",
    "outputId": "84d536d5-9f80-4f17-9e70-ee76f21a5ef1"
   },
   "outputs": [
    {
     "data": {
      "text/html": [
       "\n",
       "  <div id=\"df-41d3ff02-03a3-4f3c-bc4f-aff565f04bf9\">\n",
       "    <div class=\"colab-df-container\">\n",
       "      <div>\n",
       "<style scoped>\n",
       "    .dataframe tbody tr th:only-of-type {\n",
       "        vertical-align: middle;\n",
       "    }\n",
       "\n",
       "    .dataframe tbody tr th {\n",
       "        vertical-align: top;\n",
       "    }\n",
       "\n",
       "    .dataframe thead th {\n",
       "        text-align: right;\n",
       "    }\n",
       "</style>\n",
       "<table border=\"1\" class=\"dataframe\">\n",
       "  <thead>\n",
       "    <tr style=\"text-align: right;\">\n",
       "      <th></th>\n",
       "      <th>PTP1B_CLS_MS</th>\n",
       "      <th>SA</th>\n",
       "      <th>DESIRE</th>\n",
       "      <th>VALID</th>\n",
       "    </tr>\n",
       "  </thead>\n",
       "  <tbody>\n",
       "    <tr>\n",
       "      <th>0</th>\n",
       "      <td>0.0</td>\n",
       "      <td>0.989798</td>\n",
       "      <td>0</td>\n",
       "      <td>1</td>\n",
       "    </tr>\n",
       "    <tr>\n",
       "      <th>1</th>\n",
       "      <td>0.0</td>\n",
       "      <td>0.973263</td>\n",
       "      <td>0</td>\n",
       "      <td>1</td>\n",
       "    </tr>\n",
       "    <tr>\n",
       "      <th>2</th>\n",
       "      <td>0.0</td>\n",
       "      <td>0.049144</td>\n",
       "      <td>0</td>\n",
       "      <td>1</td>\n",
       "    </tr>\n",
       "    <tr>\n",
       "      <th>3</th>\n",
       "      <td>0.0</td>\n",
       "      <td>0.835429</td>\n",
       "      <td>0</td>\n",
       "      <td>1</td>\n",
       "    </tr>\n",
       "    <tr>\n",
       "      <th>4</th>\n",
       "      <td>0.0</td>\n",
       "      <td>0.981537</td>\n",
       "      <td>0</td>\n",
       "      <td>1</td>\n",
       "    </tr>\n",
       "    <tr>\n",
       "      <th>...</th>\n",
       "      <td>...</td>\n",
       "      <td>...</td>\n",
       "      <td>...</td>\n",
       "      <td>...</td>\n",
       "    </tr>\n",
       "    <tr>\n",
       "      <th>995</th>\n",
       "      <td>0.0</td>\n",
       "      <td>0.937560</td>\n",
       "      <td>0</td>\n",
       "      <td>1</td>\n",
       "    </tr>\n",
       "    <tr>\n",
       "      <th>996</th>\n",
       "      <td>0.0</td>\n",
       "      <td>0.881334</td>\n",
       "      <td>0</td>\n",
       "      <td>1</td>\n",
       "    </tr>\n",
       "    <tr>\n",
       "      <th>997</th>\n",
       "      <td>0.0</td>\n",
       "      <td>0.948062</td>\n",
       "      <td>0</td>\n",
       "      <td>1</td>\n",
       "    </tr>\n",
       "    <tr>\n",
       "      <th>998</th>\n",
       "      <td>0.0</td>\n",
       "      <td>0.808882</td>\n",
       "      <td>0</td>\n",
       "      <td>1</td>\n",
       "    </tr>\n",
       "    <tr>\n",
       "      <th>999</th>\n",
       "      <td>0.0</td>\n",
       "      <td>0.981524</td>\n",
       "      <td>0</td>\n",
       "      <td>1</td>\n",
       "    </tr>\n",
       "  </tbody>\n",
       "</table>\n",
       "<p>1000 rows × 4 columns</p>\n",
       "</div>\n",
       "      <button class=\"colab-df-convert\" onclick=\"convertToInteractive('df-41d3ff02-03a3-4f3c-bc4f-aff565f04bf9')\"\n",
       "              title=\"Convert this dataframe to an interactive table.\"\n",
       "              style=\"display:none;\">\n",
       "        \n",
       "  <svg xmlns=\"http://www.w3.org/2000/svg\" height=\"24px\"viewBox=\"0 0 24 24\"\n",
       "       width=\"24px\">\n",
       "    <path d=\"M0 0h24v24H0V0z\" fill=\"none\"/>\n",
       "    <path d=\"M18.56 5.44l.94 2.06.94-2.06 2.06-.94-2.06-.94-.94-2.06-.94 2.06-2.06.94zm-11 1L8.5 8.5l.94-2.06 2.06-.94-2.06-.94L8.5 2.5l-.94 2.06-2.06.94zm10 10l.94 2.06.94-2.06 2.06-.94-2.06-.94-.94-2.06-.94 2.06-2.06.94z\"/><path d=\"M17.41 7.96l-1.37-1.37c-.4-.4-.92-.59-1.43-.59-.52 0-1.04.2-1.43.59L10.3 9.45l-7.72 7.72c-.78.78-.78 2.05 0 2.83L4 21.41c.39.39.9.59 1.41.59.51 0 1.02-.2 1.41-.59l7.78-7.78 2.81-2.81c.8-.78.8-2.07 0-2.86zM5.41 20L4 18.59l7.72-7.72 1.47 1.35L5.41 20z\"/>\n",
       "  </svg>\n",
       "      </button>\n",
       "      \n",
       "  <style>\n",
       "    .colab-df-container {\n",
       "      display:flex;\n",
       "      flex-wrap:wrap;\n",
       "      gap: 12px;\n",
       "    }\n",
       "\n",
       "    .colab-df-convert {\n",
       "      background-color: #E8F0FE;\n",
       "      border: none;\n",
       "      border-radius: 50%;\n",
       "      cursor: pointer;\n",
       "      display: none;\n",
       "      fill: #1967D2;\n",
       "      height: 32px;\n",
       "      padding: 0 0 0 0;\n",
       "      width: 32px;\n",
       "    }\n",
       "\n",
       "    .colab-df-convert:hover {\n",
       "      background-color: #E2EBFA;\n",
       "      box-shadow: 0px 1px 2px rgba(60, 64, 67, 0.3), 0px 1px 3px 1px rgba(60, 64, 67, 0.15);\n",
       "      fill: #174EA6;\n",
       "    }\n",
       "\n",
       "    [theme=dark] .colab-df-convert {\n",
       "      background-color: #3B4455;\n",
       "      fill: #D2E3FC;\n",
       "    }\n",
       "\n",
       "    [theme=dark] .colab-df-convert:hover {\n",
       "      background-color: #434B5C;\n",
       "      box-shadow: 0px 1px 3px 1px rgba(0, 0, 0, 0.15);\n",
       "      filter: drop-shadow(0px 1px 2px rgba(0, 0, 0, 0.3));\n",
       "      fill: #FFFFFF;\n",
       "    }\n",
       "  </style>\n",
       "\n",
       "      <script>\n",
       "        const buttonEl =\n",
       "          document.querySelector('#df-41d3ff02-03a3-4f3c-bc4f-aff565f04bf9 button.colab-df-convert');\n",
       "        buttonEl.style.display =\n",
       "          google.colab.kernel.accessAllowed ? 'block' : 'none';\n",
       "\n",
       "        async function convertToInteractive(key) {\n",
       "          const element = document.querySelector('#df-41d3ff02-03a3-4f3c-bc4f-aff565f04bf9');\n",
       "          const dataTable =\n",
       "            await google.colab.kernel.invokeFunction('convertToInteractive',\n",
       "                                                     [key], {});\n",
       "          if (!dataTable) return;\n",
       "\n",
       "          const docLinkHtml = 'Like what you see? Visit the ' +\n",
       "            '<a target=\"_blank\" href=https://colab.research.google.com/notebooks/data_table.ipynb>data table notebook</a>'\n",
       "            + ' to learn more about interactive tables.';\n",
       "          element.innerHTML = '';\n",
       "          dataTable['output_type'] = 'display_data';\n",
       "          await google.colab.output.renderOutput(dataTable, element);\n",
       "          const docLink = document.createElement('div');\n",
       "          docLink.innerHTML = docLinkHtml;\n",
       "          element.appendChild(docLink);\n",
       "        }\n",
       "      </script>\n",
       "    </div>\n",
       "  </div>\n",
       "  "
      ],
      "text/plain": [
       "     PTP1B_CLS_MS        SA  DESIRE  VALID\n",
       "0             0.0  0.989798       0      1\n",
       "1             0.0  0.973263       0      1\n",
       "2             0.0  0.049144       0      1\n",
       "3             0.0  0.835429       0      1\n",
       "4             0.0  0.981537       0      1\n",
       "..            ...       ...     ...    ...\n",
       "995           0.0  0.937560       0      1\n",
       "996           0.0  0.881334       0      1\n",
       "997           0.0  0.948062       0      1\n",
       "998           0.0  0.808882       0      1\n",
       "999           0.0  0.981524       0      1\n",
       "\n",
       "[1000 rows x 4 columns]"
      ]
     },
     "execution_count": 36,
     "metadata": {},
     "output_type": "execute_result"
    }
   ],
   "source": [
    "scores = environment.getScores(smiles_rl)\n",
    "scores"
   ]
  },
  {
   "cell_type": "code",
   "execution_count": 37,
   "id": "0b152b73-e5f2-4156-ba7e-cb24459c06d5",
   "metadata": {
    "colab": {
     "base_uri": "https://localhost:8080/"
    },
    "id": "0b152b73-e5f2-4156-ba7e-cb24459c06d5",
    "outputId": "5cfb1a93-8837-4f45-fc4e-22fffe375289"
   },
   "outputs": [
    {
     "data": {
      "text/plain": [
       "0.01"
      ]
     },
     "execution_count": 37,
     "metadata": {},
     "output_type": "execute_result"
    }
   ],
   "source": [
    "sum(scores[\"DESIRE\"] > 0.5) / len(scores)"
   ]
  },
  {
   "cell_type": "code",
   "execution_count": 39,
   "id": "c695ca75-6914-4911-bd54-3ebdf2129f32",
   "metadata": {
    "colab": {
     "base_uri": "https://localhost:8080/",
     "height": 282
    },
    "id": "c695ca75-6914-4911-bd54-3ebdf2129f32",
    "outputId": "7dde3e26-6784-4dcd-ac65-52f5df0b436e"
   },
   "outputs": [
    {
     "data": {
      "text/plain": [
       "<matplotlib.axes._subplots.AxesSubplot at 0x7f3b7dc1db10>"
      ]
     },
     "execution_count": 39,
     "metadata": {},
     "output_type": "execute_result"
    },
    {
     "data": {
      "image/png": "[encoded data removed]",
      "text/plain": [
       "<Figure size 432x288 with 1 Axes>"
      ]
     },
     "metadata": {
      "needs_background": "light"
     },
     "output_type": "display_data"
    }
   ],
   "source": [
    "scores.PTP1B_CLS_MS.hist()"
   ]
  },
  {
   "cell_type": "code",
   "execution_count": 40,
   "id": "1e7d8e63-416d-48bd-ad69-aa7e2582494a",
   "metadata": {
    "colab": {
     "base_uri": "https://localhost:8080/",
     "height": 282
    },
    "id": "1e7d8e63-416d-48bd-ad69-aa7e2582494a",
    "outputId": "e163f892-113b-448f-a528-dfbd379f84c7"
   },
   "outputs": [
    {
     "data": {
      "text/plain": [
       "<matplotlib.axes._subplots.AxesSubplot at 0x7f3b7d6d3b90>"
      ]
     },
     "execution_count": 40,
     "metadata": {},
     "output_type": "execute_result"
    },
    {
     "data": {
      "image/png": "[encoded data removed]",
      "text/plain": [
       "<Figure size 432x288 with 1 Axes>"
      ]
     },
     "metadata": {
      "needs_background": "light"
     },
     "output_type": "display_data"
    }
   ],
   "source": [
    "scores.SA.hist()"
   ]
  },
  {
   "cell_type": "markdown",
   "id": "82da99c5-d9ca-4378-9b7b-f39503a1ca2a",
   "metadata": {
    "id": "82da99c5-d9ca-4378-9b7b-f39503a1ca2a"
   },
   "source": [
    "That definitely looks better than before. We now have a much higher ratio of desirable molecules. Let's take a look at the structures and use the model output to color them based on predicted activity:"
   ]
  },
  {
   "cell_type": "code",
   "execution_count": 41,
   "id": "7ed26665-bb3a-4121-be5c-4dc5b16228dd",
   "metadata": {
    "colab": {
     "base_uri": "https://localhost:8080/",
     "height": 821
    },
    "id": "7ed26665-bb3a-4121-be5c-4dc5b16228dd",
    "outputId": "9b6dca58-1318-47e3-e118-af8ef6ba00f6"
   },
   "outputs": [
    {
     "data": {
      "application/javascript": [
       "(async (port, path, width, height, cache, element) => {\n",
       "    if (!google.colab.kernel.accessAllowed && !cache) {\n",
       "      return;\n",
       "    }\n",
       "    element.appendChild(document.createTextNode(''));\n",
       "    const url = await google.colab.kernel.proxyPort(port, {cache});\n",
       "    const iframe = document.createElement('iframe');\n",
       "    iframe.src = new URL(path, url).toString();\n",
       "    iframe.height = height;\n",
       "    iframe.width = width;\n",
       "    iframe.style.border = 0;\n",
       "    element.appendChild(iframe);\n",
       "  })(9595, \"/\", \"100%\", 800, false, window.element)"
      ],
      "text/plain": [
       "<IPython.core.display.Javascript object>"
      ]
     },
     "metadata": {},
     "output_type": "display_data"
    }
   ],
   "source": [
    "dataset = DataSetSMILES(\"data/finetuned_rl_sampled.tsv\", smiles=smiles_rl, use_existing=False)\n",
    "dataset.addData('CLS', scores.PTP1B_CLS_MS)\n",
    "dataset.addDescriptors([MorganFP(radius=2, nBits=1024)], recalculate=False) \n",
    "\n",
    "plt = Plot(dataset, TSNE())\n",
    "plt.plot(\n",
    "    recalculate=False,\n",
    "    color_by='CLS',\n",
    "    color_continuous_scale=\"rdylgn\",\n",
    "    color_style='continuous',\n",
    "    viewport_height=800,\n",
    "    port=9595\n",
    ")"
   ]
  },
  {
   "cell_type": "markdown",
   "id": "34e80371-51a2-4d4c-898d-20f2f964bdca",
   "metadata": {
    "id": "34e80371-51a2-4d4c-898d-20f2f964bdca"
   },
   "source": [
    "A lot of the molecules are lit up green, which is good. It means the model is confident that these structures belong to active ligands. It seems that we were able to improve the original model's ability to produce more active and synthetically accessible compounds. Congratulations, maybe there is a new drug in there :) \n",
    "\n",
    "But before jumping into conclusions we should be critical of what we accomplished here. We merely optimized the original finetuned model so it is likely there is a big overlap between the original data set and this new set of compounds. We can easily check how our compounds compare to the original set by visualizing them together:"
   ]
  },
  {
   "cell_type": "code",
   "execution_count": 42,
   "id": "f78404ec-f232-47a3-b11f-a0a68ed59fbc",
   "metadata": {
    "colab": {
     "base_uri": "https://localhost:8080/",
     "height": 424
    },
    "id": "f78404ec-f232-47a3-b11f-a0a68ed59fbc",
    "outputId": "deb7f3f3-e499-4d03-b573-b1092c9b2a82"
   },
   "outputs": [
    {
     "data": {
      "text/html": [
       "\n",
       "  <div id=\"df-6ae79e33-4f25-4a3e-9762-dfd80a6dbf22\">\n",
       "    <div class=\"colab-df-container\">\n",
       "      <div>\n",
       "<style scoped>\n",
       "    .dataframe tbody tr th:only-of-type {\n",
       "        vertical-align: middle;\n",
       "    }\n",
       "\n",
       "    .dataframe tbody tr th {\n",
       "        vertical-align: top;\n",
       "    }\n",
       "\n",
       "    .dataframe thead th {\n",
       "        text-align: right;\n",
       "    }\n",
       "</style>\n",
       "<table border=\"1\" class=\"dataframe\">\n",
       "  <thead>\n",
       "    <tr style=\"text-align: right;\">\n",
       "      <th></th>\n",
       "      <th>SMILES</th>\n",
       "      <th>Group</th>\n",
       "    </tr>\n",
       "  </thead>\n",
       "  <tbody>\n",
       "    <tr>\n",
       "      <th>0</th>\n",
       "      <td>CC(C)CC(CC(=O)C(Cc1ccc(OC(F)(F)C(=O)O)cc1)NC(=...</td>\n",
       "      <td>PTP1B Set</td>\n",
       "    </tr>\n",
       "    <tr>\n",
       "      <th>1</th>\n",
       "      <td>CC1(C)CCC2(C(=O)Nc3ccc(C(=O)O)cc3)CCC3(C)C(=CC...</td>\n",
       "      <td>PTP1B Set</td>\n",
       "    </tr>\n",
       "    <tr>\n",
       "      <th>2</th>\n",
       "      <td>CCOc1ccc(OC(=O)CSc2nnc(-c3cc(O)c(O)cc3)o2)cc1</td>\n",
       "      <td>PTP1B Set</td>\n",
       "    </tr>\n",
       "    <tr>\n",
       "      <th>3</th>\n",
       "      <td>CCCOc1ccc(-c2cccc(-c3noc(Cc4c[nH]c5ccccc45)n3)...</td>\n",
       "      <td>PTP1B Set</td>\n",
       "    </tr>\n",
       "    <tr>\n",
       "      <th>4</th>\n",
       "      <td>O=C(O)COc1ccc(S(=O)(=O)N(Cc2ccc(C(F)(F)P(=O)(O...</td>\n",
       "      <td>PTP1B Set</td>\n",
       "    </tr>\n",
       "    <tr>\n",
       "      <th>...</th>\n",
       "      <td>...</td>\n",
       "      <td>...</td>\n",
       "    </tr>\n",
       "    <tr>\n",
       "      <th>995</th>\n",
       "      <td>O=C(c1cccc(Cl)c1)N1CCCc2cc(C(O)CN3CCCCC3)ccc21</td>\n",
       "      <td>Generated</td>\n",
       "    </tr>\n",
       "    <tr>\n",
       "      <th>996</th>\n",
       "      <td>CC(=O)N1Cc2ccccc2C(C)(C)N1O</td>\n",
       "      <td>Generated</td>\n",
       "    </tr>\n",
       "    <tr>\n",
       "      <th>997</th>\n",
       "      <td>O=C(O)c1ccc(CN2C(=O)C(=Cc3cccc(Oc4ccccc4)c3)N2...</td>\n",
       "      <td>Generated</td>\n",
       "    </tr>\n",
       "    <tr>\n",
       "      <th>998</th>\n",
       "      <td>COC(=O)COC(=O)C(C)=CC(C)=Cc1csc(C(Cc2ccc(OCc3c...</td>\n",
       "      <td>Generated</td>\n",
       "    </tr>\n",
       "    <tr>\n",
       "      <th>999</th>\n",
       "      <td>COC(=O)c1cc(-c2ccc(Nc3cccc(C)c3)cc2)cs1</td>\n",
       "      <td>Generated</td>\n",
       "    </tr>\n",
       "  </tbody>\n",
       "</table>\n",
       "<p>2772 rows × 2 columns</p>\n",
       "</div>\n",
       "      <button class=\"colab-df-convert\" onclick=\"convertToInteractive('df-6ae79e33-4f25-4a3e-9762-dfd80a6dbf22')\"\n",
       "              title=\"Convert this dataframe to an interactive table.\"\n",
       "              style=\"display:none;\">\n",
       "        \n",
       "  <svg xmlns=\"http://www.w3.org/2000/svg\" height=\"24px\"viewBox=\"0 0 24 24\"\n",
       "       width=\"24px\">\n",
       "    <path d=\"M0 0h24v24H0V0z\" fill=\"none\"/>\n",
       "    <path d=\"M18.56 5.44l.94 2.06.94-2.06 2.06-.94-2.06-.94-.94-2.06-.94 2.06-2.06.94zm-11 1L8.5 8.5l.94-2.06 2.06-.94-2.06-.94L8.5 2.5l-.94 2.06-2.06.94zm10 10l.94 2.06.94-2.06 2.06-.94-2.06-.94-.94-2.06-.94 2.06-2.06.94z\"/><path d=\"M17.41 7.96l-1.37-1.37c-.4-.4-.92-.59-1.43-.59-.52 0-1.04.2-1.43.59L10.3 9.45l-7.72 7.72c-.78.78-.78 2.05 0 2.83L4 21.41c.39.39.9.59 1.41.59.51 0 1.02-.2 1.41-.59l7.78-7.78 2.81-2.81c.8-.78.8-2.07 0-2.86zM5.41 20L4 18.59l7.72-7.72 1.47 1.35L5.41 20z\"/>\n",
       "  </svg>\n",
       "      </button>\n",
       "      \n",
       "  <style>\n",
       "    .colab-df-container {\n",
       "      display:flex;\n",
       "      flex-wrap:wrap;\n",
       "      gap: 12px;\n",
       "    }\n",
       "\n",
       "    .colab-df-convert {\n",
       "      background-color: #E8F0FE;\n",
       "      border: none;\n",
       "      border-radius: 50%;\n",
       "      cursor: pointer;\n",
       "      display: none;\n",
       "      fill: #1967D2;\n",
       "      height: 32px;\n",
       "      padding: 0 0 0 0;\n",
       "      width: 32px;\n",
       "    }\n",
       "\n",
       "    .colab-df-convert:hover {\n",
       "      background-color: #E2EBFA;\n",
       "      box-shadow: 0px 1px 2px rgba(60, 64, 67, 0.3), 0px 1px 3px 1px rgba(60, 64, 67, 0.15);\n",
       "      fill: #174EA6;\n",
       "    }\n",
       "\n",
       "    [theme=dark] .colab-df-convert {\n",
       "      background-color: #3B4455;\n",
       "      fill: #D2E3FC;\n",
       "    }\n",
       "\n",
       "    [theme=dark] .colab-df-convert:hover {\n",
       "      background-color: #434B5C;\n",
       "      box-shadow: 0px 1px 3px 1px rgba(0, 0, 0, 0.15);\n",
       "      filter: drop-shadow(0px 1px 2px rgba(0, 0, 0, 0.3));\n",
       "      fill: #FFFFFF;\n",
       "    }\n",
       "  </style>\n",
       "\n",
       "      <script>\n",
       "        const buttonEl =\n",
       "          document.querySelector('#df-6ae79e33-4f25-4a3e-9762-dfd80a6dbf22 button.colab-df-convert');\n",
       "        buttonEl.style.display =\n",
       "          google.colab.kernel.accessAllowed ? 'block' : 'none';\n",
       "\n",
       "        async function convertToInteractive(key) {\n",
       "          const element = document.querySelector('#df-6ae79e33-4f25-4a3e-9762-dfd80a6dbf22');\n",
       "          const dataTable =\n",
       "            await google.colab.kernel.invokeFunction('convertToInteractive',\n",
       "                                                     [key], {});\n",
       "          if (!dataTable) return;\n",
       "\n",
       "          const docLinkHtml = 'Like what you see? Visit the ' +\n",
       "            '<a target=\"_blank\" href=https://colab.research.google.com/notebooks/data_table.ipynb>data table notebook</a>'\n",
       "            + ' to learn more about interactive tables.';\n",
       "          element.innerHTML = '';\n",
       "          dataTable['output_type'] = 'display_data';\n",
       "          await google.colab.output.renderOutput(dataTable, element);\n",
       "          const docLink = document.createElement('div');\n",
       "          docLink.innerHTML = docLinkHtml;\n",
       "          element.appendChild(docLink);\n",
       "        }\n",
       "      </script>\n",
       "    </div>\n",
       "  </div>\n",
       "  "
      ],
      "text/plain": [
       "                                                SMILES      Group\n",
       "0    CC(C)CC(CC(=O)C(Cc1ccc(OC(F)(F)C(=O)O)cc1)NC(=...  PTP1B Set\n",
       "1    CC1(C)CCC2(C(=O)Nc3ccc(C(=O)O)cc3)CCC3(C)C(=CC...  PTP1B Set\n",
       "2        CCOc1ccc(OC(=O)CSc2nnc(-c3cc(O)c(O)cc3)o2)cc1  PTP1B Set\n",
       "3    CCCOc1ccc(-c2cccc(-c3noc(Cc4c[nH]c5ccccc45)n3)...  PTP1B Set\n",
       "4    O=C(O)COc1ccc(S(=O)(=O)N(Cc2ccc(C(F)(F)P(=O)(O...  PTP1B Set\n",
       "..                                                 ...        ...\n",
       "995     O=C(c1cccc(Cl)c1)N1CCCc2cc(C(O)CN3CCCCC3)ccc21  Generated\n",
       "996                        CC(=O)N1Cc2ccccc2C(C)(C)N1O  Generated\n",
       "997  O=C(O)c1ccc(CN2C(=O)C(=Cc3cccc(Oc4ccccc4)c3)N2...  Generated\n",
       "998  COC(=O)COC(=O)C(C)=CC(C)=Cc1csc(C(Cc2ccc(OCc3c...  Generated\n",
       "999            COC(=O)c1cc(-c2ccc(Nc3cccc(C)c3)cc2)cs1  Generated\n",
       "\n",
       "[2772 rows x 2 columns]"
      ]
     },
     "execution_count": 42,
     "metadata": {},
     "output_type": "execute_result"
    }
   ],
   "source": [
    "df_joined = pd.concat(\n",
    "    [\n",
    "        pd.DataFrame(\n",
    "            {'SMILES' : df_ptp1b.SMILES.tolist(), 'Group': 'PTP1B Set'}\n",
    "        ),\n",
    "        pd.DataFrame(\n",
    "            {'SMILES' : smiles_rl, 'Group': 'Generated'}\n",
    "        )\n",
    "    ]\n",
    ")\n",
    "df_joined"
   ]
  },
  {
   "cell_type": "code",
   "execution_count": 44,
   "id": "c445ab75-22ff-4e85-9b51-423b0c5d5d72",
   "metadata": {
    "colab": {
     "base_uri": "https://localhost:8080/",
     "height": 821
    },
    "id": "c445ab75-22ff-4e85-9b51-423b0c5d5d72",
    "outputId": "8544a99f-9127-4252-c6b7-1506e6d4fd12"
   },
   "outputs": [
    {
     "data": {
      "application/javascript": [
       "(async (port, path, width, height, cache, element) => {\n",
       "    if (!google.colab.kernel.accessAllowed && !cache) {\n",
       "      return;\n",
       "    }\n",
       "    element.appendChild(document.createTextNode(''));\n",
       "    const url = await google.colab.kernel.proxyPort(port, {cache});\n",
       "    const iframe = document.createElement('iframe');\n",
       "    iframe.src = new URL(path, url).toString();\n",
       "    iframe.height = height;\n",
       "    iframe.width = width;\n",
       "    iframe.style.border = 0;\n",
       "    element.appendChild(iframe);\n",
       "  })(9696, \"/\", \"100%\", 800, false, window.element)"
      ],
      "text/plain": [
       "<IPython.core.display.Javascript object>"
      ]
     },
     "metadata": {},
     "output_type": "display_data"
    }
   ],
   "source": [
    "from scaffviz.data.dataset import DataSetTSV\n",
    "\n",
    "dataset = DataSetTSV(\"data/original_and_generated.tsv\", data=df_joined)\n",
    "dataset.addDescriptors([MorganFP(radius=2, nBits=1024)], recalculate=False) \n",
    "\n",
    "plt = Plot(dataset, TSNE())\n",
    "plt.plot(\n",
    "    recalculate=False,\n",
    "    color_by='Group',\n",
    "    viewport_height=800,\n",
    "    port=9696\n",
    ")"
   ]
  },
  {
   "cell_type": "markdown",
   "id": "401e6d46-15ae-433b-b08e-1b5550772560",
   "metadata": {
    "id": "401e6d46-15ae-433b-b08e-1b5550772560"
   },
   "source": [
    "Indeed, there is some overlap between the original data set and the generated structures, but we also manage to generate some compounds outside of these orginal clusters. You can try to vary the `epsilon` parameter and see what happens with desirability and diversity of the molecules. However, maybe there is also some merit to this model. It all depends on the task at hand. But in any case we might want to generate even more compounds with the model and try to verify and screen the generated library with more precise methods (i.e. molecular docking)."
   ]
  },
  {
   "cell_type": "code",
   "execution_count": null,
   "id": "ff999cbf-787d-4b1f-bb22-c5d1f7daf7eb",
   "metadata": {
    "id": "ff999cbf-787d-4b1f-bb22-c5d1f7daf7eb"
   },
   "outputs": [],
   "source": []
  }
 ],
 "metadata": {
  "accelerator": "GPU",
  "colab": {
   "provenance": []
  },
  "gpuClass": "standard",
  "kernelspec": {
   "display_name": "Python 3 (ipykernel)",
   "language": "python",
   "name": "python3"
  },
  "language_info": {
   "codemirror_mode": {
    "name": "ipython",
    "version": 3
   },
   "file_extension": ".py",
   "mimetype": "text/x-python",
   "name": "python",
   "nbconvert_exporter": "python",
   "pygments_lexer": "ipython3",
   "version": "3.9.12"
  },
  "widgets": {
   "application/vnd.jupyter.widget-state+json": {
    "041bd144e36f493bbcfbb6e51cacabc2": {
     "model_module": "@jupyter-widgets/base",
     "model_module_version": "1.2.0",
     "model_name": "LayoutModel",
     "state": {
      "_model_module": "@jupyter-widgets/base",
      "_model_module_version": "1.2.0",
      "_model_name": "LayoutModel",
      "_view_count": null,
      "_view_module": "@jupyter-widgets/base",
      "_view_module_version": "1.2.0",
      "_view_name": "LayoutView",
      "align_content": null,
      "align_items": null,
      "align_self": null,
      "border": null,
      "bottom": null,
      "display": null,
      "flex": null,
      "flex_flow": null,
      "grid_area": null,
      "grid_auto_columns": null,
      "grid_auto_flow": null,
      "grid_auto_rows": null,
      "grid_column": null,
      "grid_gap": null,
      "grid_row": null,
      "grid_template_areas": null,
      "grid_template_columns": null,
      "grid_template_rows": null,
      "height": null,
      "justify_content": null,
      "justify_items": null,
      "left": null,
      "margin": null,
      "max_height": null,
      "max_width": null,
      "min_height": null,
      "min_width": null,
      "object_fit": null,
      "object_position": null,
      "order": null,
      "overflow": null,
      "overflow_x": null,
      "overflow_y": null,
      "padding": null,
      "right": null,
      "top": null,
      "visibility": null,
      "width": null
     }
    },
    "04770d8c88724176a731370b539f643c": {
     "model_module": "@jupyter-widgets/base",
     "model_module_version": "1.2.0",
     "model_name": "LayoutModel",
     "state": {
      "_model_module": "@jupyter-widgets/base",
      "_model_module_version": "1.2.0",
      "_model_name": "LayoutModel",
      "_view_count": null,
      "_view_module": "@jupyter-widgets/base",
      "_view_module_version": "1.2.0",
      "_view_name": "LayoutView",
      "align_content": null,
      "align_items": null,
      "align_self": null,
      "border": null,
      "bottom": null,
      "display": null,
      "flex": null,
      "flex_flow": null,
      "grid_area": null,
      "grid_auto_columns": null,
      "grid_auto_flow": null,
      "grid_auto_rows": null,
      "grid_column": null,
      "grid_gap": null,
      "grid_row": null,
      "grid_template_areas": null,
      "grid_template_columns": null,
      "grid_template_rows": null,
      "height": null,
      "justify_content": null,
      "justify_items": null,
      "left": null,
      "margin": null,
      "max_height": null,
      "max_width": null,
      "min_height": null,
      "min_width": null,
      "object_fit": null,
      "object_position": null,
      "order": null,
      "overflow": null,
      "overflow_x": null,
      "overflow_y": null,
      "padding": null,
      "right": null,
      "top": null,
      "visibility": null,
      "width": null
     }
    },
    "07fdfb221da64e49ae376a15494b5649": {
     "model_module": "@jupyter-widgets/controls",
     "model_module_version": "1.5.0",
     "model_name": "HTMLModel",
     "state": {
      "_dom_classes": [],
      "_model_module": "@jupyter-widgets/controls",
      "_model_module_version": "1.5.0",
      "_model_name": "HTMLModel",
      "_view_count": null,
      "_view_module": "@jupyter-widgets/controls",
      "_view_module_version": "1.5.0",
      "_view_name": "HTMLView",
      "description": "",
      "description_tooltip": null,
      "layout": "IPY_MODEL_a1d419825dea4304abe4bf0790c1ef65",
      "placeholder": "​",
      "style": "IPY_MODEL_f4ecc13474614566bb4609c2c99c70c2",
      "value": " 1/1 [00:04&lt;00:00,  4.00s/it]"
     }
    },
    "092615160c654078b743aa2c48aab6dc": {
     "model_module": "@jupyter-widgets/controls",
     "model_module_version": "1.5.0",
     "model_name": "HBoxModel",
     "state": {
      "_dom_classes": [],
      "_model_module": "@jupyter-widgets/controls",
      "_model_module_version": "1.5.0",
      "_model_name": "HBoxModel",
      "_view_count": null,
      "_view_module": "@jupyter-widgets/controls",
      "_view_module_version": "1.5.0",
      "_view_name": "HBoxView",
      "box_style": "",
      "children": [
       "IPY_MODEL_e74fe94ca494428b9850515c07a68322",
       "IPY_MODEL_7a56a99a8f594eaa859b86c63619400d",
       "IPY_MODEL_491067877c3d432a9913d20841ed799e"
      ],
      "layout": "IPY_MODEL_11b30b135c6b4bbd8e7abefd76d2a846"
     }
    },
    "117be5852ab44eb9bd75ed8ada3edb6c": {
     "model_module": "@jupyter-widgets/controls",
     "model_module_version": "1.5.0",
     "model_name": "ProgressStyleModel",
     "state": {
      "_model_module": "@jupyter-widgets/controls",
      "_model_module_version": "1.5.0",
      "_model_name": "ProgressStyleModel",
      "_view_count": null,
      "_view_module": "@jupyter-widgets/base",
      "_view_module_version": "1.2.0",
      "_view_name": "StyleView",
      "bar_color": null,
      "description_width": ""
     }
    },
    "11b30b135c6b4bbd8e7abefd76d2a846": {
     "model_module": "@jupyter-widgets/base",
     "model_module_version": "1.2.0",
     "model_name": "LayoutModel",
     "state": {
      "_model_module": "@jupyter-widgets/base",
      "_model_module_version": "1.2.0",
      "_model_name": "LayoutModel",
      "_view_count": null,
      "_view_module": "@jupyter-widgets/base",
      "_view_module_version": "1.2.0",
      "_view_name": "LayoutView",
      "align_content": null,
      "align_items": null,
      "align_self": null,
      "border": null,
      "bottom": null,
      "display": null,
      "flex": null,
      "flex_flow": null,
      "grid_area": null,
      "grid_auto_columns": null,
      "grid_auto_flow": null,
      "grid_auto_rows": null,
      "grid_column": null,
      "grid_gap": null,
      "grid_row": null,
      "grid_template_areas": null,
      "grid_template_columns": null,
      "grid_template_rows": null,
      "height": null,
      "justify_content": null,
      "justify_items": null,
      "left": null,
      "margin": null,
      "max_height": null,
      "max_width": null,
      "min_height": null,
      "min_width": null,
      "object_fit": null,
      "object_position": null,
      "order": null,
      "overflow": null,
      "overflow_x": null,
      "overflow_y": null,
      "padding": null,
      "right": null,
      "top": null,
      "visibility": null,
      "width": null
     }
    },
    "17134523c1a743c6a6e38335a8ac7b7c": {
     "model_module": "@jupyter-widgets/base",
     "model_module_version": "1.2.0",
     "model_name": "LayoutModel",
     "state": {
      "_model_module": "@jupyter-widgets/base",
      "_model_module_version": "1.2.0",
      "_model_name": "LayoutModel",
      "_view_count": null,
      "_view_module": "@jupyter-widgets/base",
      "_view_module_version": "1.2.0",
      "_view_name": "LayoutView",
      "align_content": null,
      "align_items": null,
      "align_self": null,
      "border": null,
      "bottom": null,
      "display": null,
      "flex": null,
      "flex_flow": null,
      "grid_area": null,
      "grid_auto_columns": null,
      "grid_auto_flow": null,
      "grid_auto_rows": null,
      "grid_column": null,
      "grid_gap": null,
      "grid_row": null,
      "grid_template_areas": null,
      "grid_template_columns": null,
      "grid_template_rows": null,
      "height": null,
      "justify_content": null,
      "justify_items": null,
      "left": null,
      "margin": null,
      "max_height": null,
      "max_width": null,
      "min_height": null,
      "min_width": null,
      "object_fit": null,
      "object_position": null,
      "order": null,
      "overflow": null,
      "overflow_x": null,
      "overflow_y": null,
      "padding": null,
      "right": null,
      "top": null,
      "visibility": null,
      "width": null
     }
    },
    "1ab3a9a9f2694b8c9a6165fb7a9975e8": {
     "model_module": "@jupyter-widgets/controls",
     "model_module_version": "1.5.0",
     "model_name": "HTMLModel",
     "state": {
      "_dom_classes": [],
      "_model_module": "@jupyter-widgets/controls",
      "_model_module_version": "1.5.0",
      "_model_name": "HTMLModel",
      "_view_count": null,
      "_view_module": "@jupyter-widgets/controls",
      "_view_module_version": "1.5.0",
      "_view_name": "HTMLView",
      "description": "",
      "description_tooltip": null,
      "layout": "IPY_MODEL_586e09e8744c4225b7574b4be9400031",
      "placeholder": "​",
      "style": "IPY_MODEL_c23603f9f58341db81371b88931a9876",
      "value": "Standardizing molecules (batch processing): 100%"
     }
    },
    "2b87a8c7d9924577a54d88b2880b5126": {
     "model_module": "@jupyter-widgets/controls",
     "model_module_version": "1.5.0",
     "model_name": "ProgressStyleModel",
     "state": {
      "_model_module": "@jupyter-widgets/controls",
      "_model_module_version": "1.5.0",
      "_model_name": "ProgressStyleModel",
      "_view_count": null,
      "_view_module": "@jupyter-widgets/base",
      "_view_module_version": "1.2.0",
      "_view_name": "StyleView",
      "bar_color": null,
      "description_width": ""
     }
    },
    "491067877c3d432a9913d20841ed799e": {
     "model_module": "@jupyter-widgets/controls",
     "model_module_version": "1.5.0",
     "model_name": "HTMLModel",
     "state": {
      "_dom_classes": [],
      "_model_module": "@jupyter-widgets/controls",
      "_model_module_version": "1.5.0",
      "_model_name": "HTMLModel",
      "_view_count": null,
      "_view_module": "@jupyter-widgets/controls",
      "_view_module_version": "1.5.0",
      "_view_name": "HTMLView",
      "description": "",
      "description_tooltip": null,
      "layout": "IPY_MODEL_04770d8c88724176a731370b539f643c",
      "placeholder": "​",
      "style": "IPY_MODEL_65186b39f0be42b2bd7ab0031c27b6f1",
      "value": " 1/1 [00:00&lt;00:00,  5.21it/s]"
     }
    },
    "586e09e8744c4225b7574b4be9400031": {
     "model_module": "@jupyter-widgets/base",
     "model_module_version": "1.2.0",
     "model_name": "LayoutModel",
     "state": {
      "_model_module": "@jupyter-widgets/base",
      "_model_module_version": "1.2.0",
      "_model_name": "LayoutModel",
      "_view_count": null,
      "_view_module": "@jupyter-widgets/base",
      "_view_module_version": "1.2.0",
      "_view_name": "LayoutView",
      "align_content": null,
      "align_items": null,
      "align_self": null,
      "border": null,
      "bottom": null,
      "display": null,
      "flex": null,
      "flex_flow": null,
      "grid_area": null,
      "grid_auto_columns": null,
      "grid_auto_flow": null,
      "grid_auto_rows": null,
      "grid_column": null,
      "grid_gap": null,
      "grid_row": null,
      "grid_template_areas": null,
      "grid_template_columns": null,
      "grid_template_rows": null,
      "height": null,
      "justify_content": null,
      "justify_items": null,
      "left": null,
      "margin": null,
      "max_height": null,
      "max_width": null,
      "min_height": null,
      "min_width": null,
      "object_fit": null,
      "object_position": null,
      "order": null,
      "overflow": null,
      "overflow_x": null,
      "overflow_y": null,
      "padding": null,
      "right": null,
      "top": null,
      "visibility": null,
      "width": null
     }
    },
    "6000d313bf28465887cbfe59770a8821": {
     "model_module": "@jupyter-widgets/controls",
     "model_module_version": "1.5.0",
     "model_name": "HBoxModel",
     "state": {
      "_dom_classes": [],
      "_model_module": "@jupyter-widgets/controls",
      "_model_module_version": "1.5.0",
      "_model_name": "HBoxModel",
      "_view_count": null,
      "_view_module": "@jupyter-widgets/controls",
      "_view_module_version": "1.5.0",
      "_view_name": "HBoxView",
      "box_style": "",
      "children": [
       "IPY_MODEL_1ab3a9a9f2694b8c9a6165fb7a9975e8",
       "IPY_MODEL_bb75218c71c6439abd9a2aa74afb6f8f",
       "IPY_MODEL_07fdfb221da64e49ae376a15494b5649"
      ],
      "layout": "IPY_MODEL_d7d63870502246f4bc8692bbc79d1101"
     }
    },
    "65186b39f0be42b2bd7ab0031c27b6f1": {
     "model_module": "@jupyter-widgets/controls",
     "model_module_version": "1.5.0",
     "model_name": "DescriptionStyleModel",
     "state": {
      "_model_module": "@jupyter-widgets/controls",
      "_model_module_version": "1.5.0",
      "_model_name": "DescriptionStyleModel",
      "_view_count": null,
      "_view_module": "@jupyter-widgets/base",
      "_view_module_version": "1.2.0",
      "_view_name": "StyleView",
      "description_width": ""
     }
    },
    "7a56a99a8f594eaa859b86c63619400d": {
     "model_module": "@jupyter-widgets/controls",
     "model_module_version": "1.5.0",
     "model_name": "FloatProgressModel",
     "state": {
      "_dom_classes": [],
      "_model_module": "@jupyter-widgets/controls",
      "_model_module_version": "1.5.0",
      "_model_name": "FloatProgressModel",
      "_view_count": null,
      "_view_module": "@jupyter-widgets/controls",
      "_view_module_version": "1.5.0",
      "_view_name": "ProgressView",
      "bar_style": "success",
      "description": "",
      "description_tooltip": null,
      "layout": "IPY_MODEL_17134523c1a743c6a6e38335a8ac7b7c",
      "max": 1,
      "min": 0,
      "orientation": "horizontal",
      "style": "IPY_MODEL_2b87a8c7d9924577a54d88b2880b5126",
      "value": 1
     }
    },
    "7e738d58f7e446f89b54ed1f02b7da74": {
     "model_module": "@jupyter-widgets/controls",
     "model_module_version": "1.5.0",
     "model_name": "DescriptionStyleModel",
     "state": {
      "_model_module": "@jupyter-widgets/controls",
      "_model_module_version": "1.5.0",
      "_model_name": "DescriptionStyleModel",
      "_view_count": null,
      "_view_module": "@jupyter-widgets/base",
      "_view_module_version": "1.2.0",
      "_view_name": "StyleView",
      "description_width": ""
     }
    },
    "a1d419825dea4304abe4bf0790c1ef65": {
     "model_module": "@jupyter-widgets/base",
     "model_module_version": "1.2.0",
     "model_name": "LayoutModel",
     "state": {
      "_model_module": "@jupyter-widgets/base",
      "_model_module_version": "1.2.0",
      "_model_name": "LayoutModel",
      "_view_count": null,
      "_view_module": "@jupyter-widgets/base",
      "_view_module_version": "1.2.0",
      "_view_name": "LayoutView",
      "align_content": null,
      "align_items": null,
      "align_self": null,
      "border": null,
      "bottom": null,
      "display": null,
      "flex": null,
      "flex_flow": null,
      "grid_area": null,
      "grid_auto_columns": null,
      "grid_auto_flow": null,
      "grid_auto_rows": null,
      "grid_column": null,
      "grid_gap": null,
      "grid_row": null,
      "grid_template_areas": null,
      "grid_template_columns": null,
      "grid_template_rows": null,
      "height": null,
      "justify_content": null,
      "justify_items": null,
      "left": null,
      "margin": null,
      "max_height": null,
      "max_width": null,
      "min_height": null,
      "min_width": null,
      "object_fit": null,
      "object_position": null,
      "order": null,
      "overflow": null,
      "overflow_x": null,
      "overflow_y": null,
      "padding": null,
      "right": null,
      "top": null,
      "visibility": null,
      "width": null
     }
    },
    "b03d629d59af4ffb82c2e24abb7fd747": {
     "model_module": "@jupyter-widgets/base",
     "model_module_version": "1.2.0",
     "model_name": "LayoutModel",
     "state": {
      "_model_module": "@jupyter-widgets/base",
      "_model_module_version": "1.2.0",
      "_model_name": "LayoutModel",
      "_view_count": null,
      "_view_module": "@jupyter-widgets/base",
      "_view_module_version": "1.2.0",
      "_view_name": "LayoutView",
      "align_content": null,
      "align_items": null,
      "align_self": null,
      "border": null,
      "bottom": null,
      "display": null,
      "flex": null,
      "flex_flow": null,
      "grid_area": null,
      "grid_auto_columns": null,
      "grid_auto_flow": null,
      "grid_auto_rows": null,
      "grid_column": null,
      "grid_gap": null,
      "grid_row": null,
      "grid_template_areas": null,
      "grid_template_columns": null,
      "grid_template_rows": null,
      "height": null,
      "justify_content": null,
      "justify_items": null,
      "left": null,
      "margin": null,
      "max_height": null,
      "max_width": null,
      "min_height": null,
      "min_width": null,
      "object_fit": null,
      "object_position": null,
      "order": null,
      "overflow": null,
      "overflow_x": null,
      "overflow_y": null,
      "padding": null,
      "right": null,
      "top": null,
      "visibility": null,
      "width": null
     }
    },
    "bb75218c71c6439abd9a2aa74afb6f8f": {
     "model_module": "@jupyter-widgets/controls",
     "model_module_version": "1.5.0",
     "model_name": "FloatProgressModel",
     "state": {
      "_dom_classes": [],
      "_model_module": "@jupyter-widgets/controls",
      "_model_module_version": "1.5.0",
      "_model_name": "FloatProgressModel",
      "_view_count": null,
      "_view_module": "@jupyter-widgets/controls",
      "_view_module_version": "1.5.0",
      "_view_name": "ProgressView",
      "bar_style": "success",
      "description": "",
      "description_tooltip": null,
      "layout": "IPY_MODEL_041bd144e36f493bbcfbb6e51cacabc2",
      "max": 1,
      "min": 0,
      "orientation": "horizontal",
      "style": "IPY_MODEL_117be5852ab44eb9bd75ed8ada3edb6c",
      "value": 1
     }
    },
    "c23603f9f58341db81371b88931a9876": {
     "model_module": "@jupyter-widgets/controls",
     "model_module_version": "1.5.0",
     "model_name": "DescriptionStyleModel",
     "state": {
      "_model_module": "@jupyter-widgets/controls",
      "_model_module_version": "1.5.0",
      "_model_name": "DescriptionStyleModel",
      "_view_count": null,
      "_view_module": "@jupyter-widgets/base",
      "_view_module_version": "1.2.0",
      "_view_name": "StyleView",
      "description_width": ""
     }
    },
    "d7d63870502246f4bc8692bbc79d1101": {
     "model_module": "@jupyter-widgets/base",
     "model_module_version": "1.2.0",
     "model_name": "LayoutModel",
     "state": {
      "_model_module": "@jupyter-widgets/base",
      "_model_module_version": "1.2.0",
      "_model_name": "LayoutModel",
      "_view_count": null,
      "_view_module": "@jupyter-widgets/base",
      "_view_module_version": "1.2.0",
      "_view_name": "LayoutView",
      "align_content": null,
      "align_items": null,
      "align_self": null,
      "border": null,
      "bottom": null,
      "display": null,
      "flex": null,
      "flex_flow": null,
      "grid_area": null,
      "grid_auto_columns": null,
      "grid_auto_flow": null,
      "grid_auto_rows": null,
      "grid_column": null,
      "grid_gap": null,
      "grid_row": null,
      "grid_template_areas": null,
      "grid_template_columns": null,
      "grid_template_rows": null,
      "height": null,
      "justify_content": null,
      "justify_items": null,
      "left": null,
      "margin": null,
      "max_height": null,
      "max_width": null,
      "min_height": null,
      "min_width": null,
      "object_fit": null,
      "object_position": null,
      "order": null,
      "overflow": null,
      "overflow_x": null,
      "overflow_y": null,
      "padding": null,
      "right": null,
      "top": null,
      "visibility": null,
      "width": null
     }
    },
    "e74fe94ca494428b9850515c07a68322": {
     "model_module": "@jupyter-widgets/controls",
     "model_module_version": "1.5.0",
     "model_name": "HTMLModel",
     "state": {
      "_dom_classes": [],
      "_model_module": "@jupyter-widgets/controls",
      "_model_module_version": "1.5.0",
      "_model_name": "HTMLModel",
      "_view_count": null,
      "_view_module": "@jupyter-widgets/controls",
      "_view_module_version": "1.5.0",
      "_view_name": "HTMLView",
      "description": "",
      "description_tooltip": null,
      "layout": "IPY_MODEL_b03d629d59af4ffb82c2e24abb7fd747",
      "placeholder": "​",
      "style": "IPY_MODEL_7e738d58f7e446f89b54ed1f02b7da74",
      "value": "SequenceCorpus (batch processing): 100%"
     }
    },
    "f4ecc13474614566bb4609c2c99c70c2": {
     "model_module": "@jupyter-widgets/controls",
     "model_module_version": "1.5.0",
     "model_name": "DescriptionStyleModel",
     "state": {
      "_model_module": "@jupyter-widgets/controls",
      "_model_module_version": "1.5.0",
      "_model_name": "DescriptionStyleModel",
      "_view_count": null,
      "_view_module": "@jupyter-widgets/base",
      "_view_module_version": "1.2.0",
      "_view_name": "StyleView",
      "description_width": ""
     }
    }
   }
  }
 },
 "nbformat": 4,
 "nbformat_minor": 5
}
