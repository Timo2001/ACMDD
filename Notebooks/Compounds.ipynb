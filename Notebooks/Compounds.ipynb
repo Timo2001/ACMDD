{
 "cells": [
  {
   "cell_type": "markdown",
   "id": "e4ac33ee",
   "metadata": {},
   "source": [
    "# Compound Activity\n",
    "\n",
    "Aim: Find compounds which activate the target"
   ]
  },
  {
   "cell_type": "markdown",
   "id": "67798aea",
   "metadata": {},
   "source": [
    "## Install Modules"
   ]
  },
  {
   "cell_type": "code",
   "execution_count": 27,
   "id": "01c4ae8e",
   "metadata": {},
   "outputs": [],
   "source": [
    "%%capture\n",
    "try:\n",
    "    from rdkit.Chem import PandasTools\n",
    "    from chembl_webresource_client.new_client import new_client\n",
    "except:\n",
    "    !pip install chembl_webresource_client\n",
    "    !pip install rdkit\n",
    "\n",
    "import math\n",
    "from pathlib import Path\n",
    "from zipfile import ZipFile\n",
    "from tempfile import TemporaryDirectory\n",
    "from rdkit.Chem import PandasTools\n",
    "from chembl_webresource_client.new_client import new_client\n",
    "import numpy as np\n",
    "import pandas as pd\n",
    "from tqdm.auto import tqdm"
   ]
  },
  {
   "cell_type": "code",
   "execution_count": 18,
   "id": "77a52458",
   "metadata": {},
   "outputs": [],
   "source": [
    "HERE = Path(_dh[-1])\n",
    "DATA = HERE / \"data\""
   ]
  },
  {
   "cell_type": "markdown",
   "id": "a3e7366c",
   "metadata": {},
   "source": [
    "## ChEMBL API Setup"
   ]
  },
  {
   "cell_type": "code",
   "execution_count": 19,
   "id": "83d9db22",
   "metadata": {},
   "outputs": [],
   "source": [
    "targets_api = new_client.target\n",
    "compounds_api = new_client.molecule\n",
    "bioactivities_api = new_client.activity"
   ]
  },
  {
   "cell_type": "markdown",
   "id": "d531011b",
   "metadata": {},
   "source": [
    "## Retrieve Target Information"
   ]
  },
  {
   "cell_type": "code",
   "execution_count": 20,
   "id": "e8e6733c",
   "metadata": {},
   "outputs": [],
   "source": [
    "uniprot_id = \"P18031\" #PTP1B (2QBS)"
   ]
  },
  {
   "cell_type": "code",
   "execution_count": 21,
   "id": "5791d2ea",
   "metadata": {},
   "outputs": [
    {
     "name": "stdout",
     "output_type": "stream",
     "text": [
      "The type of the targets is \"<class 'chembl_webresource_client.query_set.QuerySet'>\"\n"
     ]
    }
   ],
   "source": [
    "# Get target information from ChEMBL but restrict it to specified values only\n",
    "targets = targets_api.get(target_components__accession=uniprot_id).only(\n",
    "    \"target_chembl_id\", \"organism\", \"pref_name\", \"target_type\"\n",
    ")\n",
    "print(f'The type of the targets is \"{type(targets)}\"')"
   ]
  },
  {
   "cell_type": "code",
   "execution_count": 22,
   "id": "b3086cad",
   "metadata": {},
   "outputs": [
    {
     "data": {
      "text/html": [
       "<div>\n",
       "<style scoped>\n",
       "    .dataframe tbody tr th:only-of-type {\n",
       "        vertical-align: middle;\n",
       "    }\n",
       "\n",
       "    .dataframe tbody tr th {\n",
       "        vertical-align: top;\n",
       "    }\n",
       "\n",
       "    .dataframe thead th {\n",
       "        text-align: right;\n",
       "    }\n",
       "</style>\n",
       "<table border=\"1\" class=\"dataframe\">\n",
       "  <thead>\n",
       "    <tr style=\"text-align: right;\">\n",
       "      <th></th>\n",
       "      <th>organism</th>\n",
       "      <th>pref_name</th>\n",
       "      <th>target_chembl_id</th>\n",
       "      <th>target_type</th>\n",
       "    </tr>\n",
       "  </thead>\n",
       "  <tbody>\n",
       "    <tr>\n",
       "      <th>0</th>\n",
       "      <td>Homo sapiens</td>\n",
       "      <td>Protein-tyrosine phosphatase 1B</td>\n",
       "      <td>CHEMBL335</td>\n",
       "      <td>SINGLE PROTEIN</td>\n",
       "    </tr>\n",
       "    <tr>\n",
       "      <th>1</th>\n",
       "      <td>Homo sapiens</td>\n",
       "      <td>Protein-tyrosine phosphatase 1B</td>\n",
       "      <td>CHEMBL335</td>\n",
       "      <td>SINGLE PROTEIN</td>\n",
       "    </tr>\n",
       "  </tbody>\n",
       "</table>\n",
       "</div>"
      ],
      "text/plain": [
       "       organism                        pref_name target_chembl_id  \\\n",
       "0  Homo sapiens  Protein-tyrosine phosphatase 1B        CHEMBL335   \n",
       "1  Homo sapiens  Protein-tyrosine phosphatase 1B        CHEMBL335   \n",
       "\n",
       "      target_type  \n",
       "0  SINGLE PROTEIN  \n",
       "1  SINGLE PROTEIN  "
      ]
     },
     "execution_count": 22,
     "metadata": {},
     "output_type": "execute_result"
    }
   ],
   "source": [
    "# Select first entry\n",
    "targets = pd.DataFrame.from_records(targets)\n",
    "targets"
   ]
  },
  {
   "cell_type": "code",
   "execution_count": 23,
   "id": "367d758e",
   "metadata": {},
   "outputs": [
    {
     "data": {
      "text/plain": [
       "organism                               Homo sapiens\n",
       "pref_name           Protein-tyrosine phosphatase 1B\n",
       "target_chembl_id                          CHEMBL335\n",
       "target_type                          SINGLE PROTEIN\n",
       "Name: 0, dtype: object"
      ]
     },
     "execution_count": 23,
     "metadata": {},
     "output_type": "execute_result"
    }
   ],
   "source": [
    "target = targets.iloc[0]\n",
    "target"
   ]
  },
  {
   "cell_type": "code",
   "execution_count": 24,
   "id": "f6304050",
   "metadata": {},
   "outputs": [
    {
     "name": "stdout",
     "output_type": "stream",
     "text": [
      "The target ChEMBL ID is CHEMBL335\n"
     ]
    }
   ],
   "source": [
    "chembl_id = target.target_chembl_id\n",
    "print(f\"The target ChEMBL ID is {chembl_id}\")\n",
    "# NBVAL_CHECK_OUTPUT"
   ]
  },
  {
   "cell_type": "markdown",
   "id": "ccb94342",
   "metadata": {},
   "source": [
    "## Retrieve Bio-activity\n",
    "assay data will be retrieved from the protein target"
   ]
  },
  {
   "cell_type": "code",
   "execution_count": 25,
   "id": "3d049b5d",
   "metadata": {},
   "outputs": [
    {
     "name": "stdout",
     "output_type": "stream",
     "text": [
      "Length and type of bioactivities object: 3437, <class 'chembl_webresource_client.query_set.QuerySet'>\n"
     ]
    }
   ],
   "source": [
    "bioactivities = bioactivities_api.filter(\n",
    "    target_chembl_id=chembl_id, type=\"IC50\", relation=\"=\", assay_type=\"B\"\n",
    ").only(\n",
    "    \"activity_id\",\n",
    "    \"assay_chembl_id\",\n",
    "    \"assay_description\",\n",
    "    \"assay_type\",\n",
    "    \"molecule_chembl_id\",\n",
    "    \"type\",\n",
    "    \"standard_units\",\n",
    "    \"relation\",\n",
    "    \"standard_value\",\n",
    "    \"target_chembl_id\",\n",
    "    \"target_organism\",\n",
    ")\n",
    "\n",
    "print(f\"Length and type of bioactivities object: {len(bioactivities)}, {type(bioactivities)}\")"
   ]
  },
  {
   "cell_type": "code",
   "execution_count": 26,
   "id": "09418451",
   "metadata": {},
   "outputs": [
    {
     "name": "stdout",
     "output_type": "stream",
     "text": [
      "Length and type of first element: 13, <class 'dict'>\n"
     ]
    },
    {
     "data": {
      "text/plain": [
       "{'activity_id': 33473,\n",
       " 'assay_chembl_id': 'CHEMBL772435',\n",
       " 'assay_description': 'In vitro inhibitory activity against recombinant human protein-tyrosine phosphatase 1B (PTP1B) using fluorescein diphosphate (FDP) as a substrate',\n",
       " 'assay_type': 'B',\n",
       " 'molecule_chembl_id': 'CHEMBL301254',\n",
       " 'relation': '=',\n",
       " 'standard_units': 'nM',\n",
       " 'standard_value': '1540.0',\n",
       " 'target_chembl_id': 'CHEMBL335',\n",
       " 'target_organism': 'Homo sapiens',\n",
       " 'type': 'IC50',\n",
       " 'units': 'uM',\n",
       " 'value': '1.54'}"
      ]
     },
     "execution_count": 26,
     "metadata": {},
     "output_type": "execute_result"
    }
   ],
   "source": [
    "print(f\"Length and type of first element: {len(bioactivities[0])}, {type(bioactivities[0])}\")\n",
    "bioactivities[0]"
   ]
  },
  {
   "cell_type": "code",
   "execution_count": 28,
   "id": "577d5086",
   "metadata": {},
   "outputs": [
    {
     "name": "stdout",
     "output_type": "stream",
     "text": [
      "DataFrame shape: (3437, 13)\n"
     ]
    },
    {
     "data": {
      "text/html": [
       "<div>\n",
       "<style scoped>\n",
       "    .dataframe tbody tr th:only-of-type {\n",
       "        vertical-align: middle;\n",
       "    }\n",
       "\n",
       "    .dataframe tbody tr th {\n",
       "        vertical-align: top;\n",
       "    }\n",
       "\n",
       "    .dataframe thead th {\n",
       "        text-align: right;\n",
       "    }\n",
       "</style>\n",
       "<table border=\"1\" class=\"dataframe\">\n",
       "  <thead>\n",
       "    <tr style=\"text-align: right;\">\n",
       "      <th></th>\n",
       "      <th>activity_id</th>\n",
       "      <th>assay_chembl_id</th>\n",
       "      <th>assay_description</th>\n",
       "      <th>assay_type</th>\n",
       "      <th>molecule_chembl_id</th>\n",
       "      <th>relation</th>\n",
       "      <th>standard_units</th>\n",
       "      <th>standard_value</th>\n",
       "      <th>target_chembl_id</th>\n",
       "      <th>target_organism</th>\n",
       "      <th>type</th>\n",
       "      <th>units</th>\n",
       "      <th>value</th>\n",
       "    </tr>\n",
       "  </thead>\n",
       "  <tbody>\n",
       "    <tr>\n",
       "      <th>0</th>\n",
       "      <td>33473</td>\n",
       "      <td>CHEMBL772435</td>\n",
       "      <td>In vitro inhibitory activity against recombina...</td>\n",
       "      <td>B</td>\n",
       "      <td>CHEMBL301254</td>\n",
       "      <td>=</td>\n",
       "      <td>nM</td>\n",
       "      <td>1540.0</td>\n",
       "      <td>CHEMBL335</td>\n",
       "      <td>Homo sapiens</td>\n",
       "      <td>IC50</td>\n",
       "      <td>uM</td>\n",
       "      <td>1.54</td>\n",
       "    </tr>\n",
       "    <tr>\n",
       "      <th>1</th>\n",
       "      <td>33479</td>\n",
       "      <td>CHEMBL772435</td>\n",
       "      <td>In vitro inhibitory activity against recombina...</td>\n",
       "      <td>B</td>\n",
       "      <td>CHEMBL58435</td>\n",
       "      <td>=</td>\n",
       "      <td>nM</td>\n",
       "      <td>10130.0</td>\n",
       "      <td>CHEMBL335</td>\n",
       "      <td>Homo sapiens</td>\n",
       "      <td>IC50</td>\n",
       "      <td>uM</td>\n",
       "      <td>10.13</td>\n",
       "    </tr>\n",
       "    <tr>\n",
       "      <th>2</th>\n",
       "      <td>34712</td>\n",
       "      <td>CHEMBL770122</td>\n",
       "      <td>Inhibition of human Protein-tyrosine phosphata...</td>\n",
       "      <td>B</td>\n",
       "      <td>CHEMBL57157</td>\n",
       "      <td>=</td>\n",
       "      <td>nM</td>\n",
       "      <td>610.0</td>\n",
       "      <td>CHEMBL335</td>\n",
       "      <td>Homo sapiens</td>\n",
       "      <td>IC50</td>\n",
       "      <td>uM</td>\n",
       "      <td>0.61</td>\n",
       "    </tr>\n",
       "    <tr>\n",
       "      <th>3</th>\n",
       "      <td>34713</td>\n",
       "      <td>CHEMBL770122</td>\n",
       "      <td>Inhibition of human Protein-tyrosine phosphata...</td>\n",
       "      <td>B</td>\n",
       "      <td>CHEMBL292444</td>\n",
       "      <td>=</td>\n",
       "      <td>nM</td>\n",
       "      <td>1010.0</td>\n",
       "      <td>CHEMBL335</td>\n",
       "      <td>Homo sapiens</td>\n",
       "      <td>IC50</td>\n",
       "      <td>uM</td>\n",
       "      <td>1.01</td>\n",
       "    </tr>\n",
       "    <tr>\n",
       "      <th>4</th>\n",
       "      <td>34733</td>\n",
       "      <td>CHEMBL772435</td>\n",
       "      <td>In vitro inhibitory activity against recombina...</td>\n",
       "      <td>B</td>\n",
       "      <td>CHEMBL60707</td>\n",
       "      <td>=</td>\n",
       "      <td>nM</td>\n",
       "      <td>1130.0</td>\n",
       "      <td>CHEMBL335</td>\n",
       "      <td>Homo sapiens</td>\n",
       "      <td>IC50</td>\n",
       "      <td>uM</td>\n",
       "      <td>1.13</td>\n",
       "    </tr>\n",
       "  </tbody>\n",
       "</table>\n",
       "</div>"
      ],
      "text/plain": [
       "   activity_id assay_chembl_id  \\\n",
       "0        33473    CHEMBL772435   \n",
       "1        33479    CHEMBL772435   \n",
       "2        34712    CHEMBL770122   \n",
       "3        34713    CHEMBL770122   \n",
       "4        34733    CHEMBL772435   \n",
       "\n",
       "                                   assay_description assay_type  \\\n",
       "0  In vitro inhibitory activity against recombina...          B   \n",
       "1  In vitro inhibitory activity against recombina...          B   \n",
       "2  Inhibition of human Protein-tyrosine phosphata...          B   \n",
       "3  Inhibition of human Protein-tyrosine phosphata...          B   \n",
       "4  In vitro inhibitory activity against recombina...          B   \n",
       "\n",
       "  molecule_chembl_id relation standard_units standard_value target_chembl_id  \\\n",
       "0       CHEMBL301254        =             nM         1540.0        CHEMBL335   \n",
       "1        CHEMBL58435        =             nM        10130.0        CHEMBL335   \n",
       "2        CHEMBL57157        =             nM          610.0        CHEMBL335   \n",
       "3       CHEMBL292444        =             nM         1010.0        CHEMBL335   \n",
       "4        CHEMBL60707        =             nM         1130.0        CHEMBL335   \n",
       "\n",
       "  target_organism  type units  value  \n",
       "0    Homo sapiens  IC50    uM   1.54  \n",
       "1    Homo sapiens  IC50    uM  10.13  \n",
       "2    Homo sapiens  IC50    uM   0.61  \n",
       "3    Homo sapiens  IC50    uM   1.01  \n",
       "4    Homo sapiens  IC50    uM   1.13  "
      ]
     },
     "execution_count": 28,
     "metadata": {},
     "output_type": "execute_result"
    }
   ],
   "source": [
    "bioactivities_df.from_records = pd.DataFrame.from_records(bioactivities)\n",
    "print(f\"DataFrame shape: {bioactivities_df.shape}\")\n",
    "bioactivities_df.head()"
   ]
  },
  {
   "cell_type": "code",
   "execution_count": 29,
   "id": "fece8790",
   "metadata": {},
   "outputs": [
    {
     "data": {
      "text/plain": [
       "array(['uM', 'nM', 'mM', 'ug ml-1', 'microM', 'umol/L', 'umol/ml',\n",
       "       \"10'-5M\", \"10'20 uM\"], dtype=object)"
      ]
     },
     "execution_count": 29,
     "metadata": {},
     "output_type": "execute_result"
    }
   ],
   "source": [
    "bioactivities_df[\"units\"].unique()"
   ]
  },
  {
   "cell_type": "code",
   "execution_count": 30,
   "id": "076a2c16",
   "metadata": {},
   "outputs": [
    {
     "data": {
      "text/html": [
       "<div>\n",
       "<style scoped>\n",
       "    .dataframe tbody tr th:only-of-type {\n",
       "        vertical-align: middle;\n",
       "    }\n",
       "\n",
       "    .dataframe tbody tr th {\n",
       "        vertical-align: top;\n",
       "    }\n",
       "\n",
       "    .dataframe thead th {\n",
       "        text-align: right;\n",
       "    }\n",
       "</style>\n",
       "<table border=\"1\" class=\"dataframe\">\n",
       "  <thead>\n",
       "    <tr style=\"text-align: right;\">\n",
       "      <th></th>\n",
       "      <th>activity_id</th>\n",
       "      <th>assay_chembl_id</th>\n",
       "      <th>assay_description</th>\n",
       "      <th>assay_type</th>\n",
       "      <th>molecule_chembl_id</th>\n",
       "      <th>relation</th>\n",
       "      <th>standard_units</th>\n",
       "      <th>standard_value</th>\n",
       "      <th>target_chembl_id</th>\n",
       "      <th>target_organism</th>\n",
       "      <th>type</th>\n",
       "    </tr>\n",
       "  </thead>\n",
       "  <tbody>\n",
       "    <tr>\n",
       "      <th>0</th>\n",
       "      <td>33473</td>\n",
       "      <td>CHEMBL772435</td>\n",
       "      <td>In vitro inhibitory activity against recombina...</td>\n",
       "      <td>B</td>\n",
       "      <td>CHEMBL301254</td>\n",
       "      <td>=</td>\n",
       "      <td>nM</td>\n",
       "      <td>1540.0</td>\n",
       "      <td>CHEMBL335</td>\n",
       "      <td>Homo sapiens</td>\n",
       "      <td>IC50</td>\n",
       "    </tr>\n",
       "    <tr>\n",
       "      <th>1</th>\n",
       "      <td>33479</td>\n",
       "      <td>CHEMBL772435</td>\n",
       "      <td>In vitro inhibitory activity against recombina...</td>\n",
       "      <td>B</td>\n",
       "      <td>CHEMBL58435</td>\n",
       "      <td>=</td>\n",
       "      <td>nM</td>\n",
       "      <td>10130.0</td>\n",
       "      <td>CHEMBL335</td>\n",
       "      <td>Homo sapiens</td>\n",
       "      <td>IC50</td>\n",
       "    </tr>\n",
       "    <tr>\n",
       "      <th>2</th>\n",
       "      <td>34712</td>\n",
       "      <td>CHEMBL770122</td>\n",
       "      <td>Inhibition of human Protein-tyrosine phosphata...</td>\n",
       "      <td>B</td>\n",
       "      <td>CHEMBL57157</td>\n",
       "      <td>=</td>\n",
       "      <td>nM</td>\n",
       "      <td>610.0</td>\n",
       "      <td>CHEMBL335</td>\n",
       "      <td>Homo sapiens</td>\n",
       "      <td>IC50</td>\n",
       "    </tr>\n",
       "    <tr>\n",
       "      <th>3</th>\n",
       "      <td>34713</td>\n",
       "      <td>CHEMBL770122</td>\n",
       "      <td>Inhibition of human Protein-tyrosine phosphata...</td>\n",
       "      <td>B</td>\n",
       "      <td>CHEMBL292444</td>\n",
       "      <td>=</td>\n",
       "      <td>nM</td>\n",
       "      <td>1010.0</td>\n",
       "      <td>CHEMBL335</td>\n",
       "      <td>Homo sapiens</td>\n",
       "      <td>IC50</td>\n",
       "    </tr>\n",
       "    <tr>\n",
       "      <th>4</th>\n",
       "      <td>34733</td>\n",
       "      <td>CHEMBL772435</td>\n",
       "      <td>In vitro inhibitory activity against recombina...</td>\n",
       "      <td>B</td>\n",
       "      <td>CHEMBL60707</td>\n",
       "      <td>=</td>\n",
       "      <td>nM</td>\n",
       "      <td>1130.0</td>\n",
       "      <td>CHEMBL335</td>\n",
       "      <td>Homo sapiens</td>\n",
       "      <td>IC50</td>\n",
       "    </tr>\n",
       "  </tbody>\n",
       "</table>\n",
       "</div>"
      ],
      "text/plain": [
       "   activity_id assay_chembl_id  \\\n",
       "0        33473    CHEMBL772435   \n",
       "1        33479    CHEMBL772435   \n",
       "2        34712    CHEMBL770122   \n",
       "3        34713    CHEMBL770122   \n",
       "4        34733    CHEMBL772435   \n",
       "\n",
       "                                   assay_description assay_type  \\\n",
       "0  In vitro inhibitory activity against recombina...          B   \n",
       "1  In vitro inhibitory activity against recombina...          B   \n",
       "2  Inhibition of human Protein-tyrosine phosphata...          B   \n",
       "3  Inhibition of human Protein-tyrosine phosphata...          B   \n",
       "4  In vitro inhibitory activity against recombina...          B   \n",
       "\n",
       "  molecule_chembl_id relation standard_units standard_value target_chembl_id  \\\n",
       "0       CHEMBL301254        =             nM         1540.0        CHEMBL335   \n",
       "1        CHEMBL58435        =             nM        10130.0        CHEMBL335   \n",
       "2        CHEMBL57157        =             nM          610.0        CHEMBL335   \n",
       "3       CHEMBL292444        =             nM         1010.0        CHEMBL335   \n",
       "4        CHEMBL60707        =             nM         1130.0        CHEMBL335   \n",
       "\n",
       "  target_organism  type  \n",
       "0    Homo sapiens  IC50  \n",
       "1    Homo sapiens  IC50  \n",
       "2    Homo sapiens  IC50  \n",
       "3    Homo sapiens  IC50  \n",
       "4    Homo sapiens  IC50  "
      ]
     },
     "execution_count": 30,
     "metadata": {},
     "output_type": "execute_result"
    }
   ],
   "source": [
    "# Remove irrelevant data\n",
    "bioactivities_df.drop([\"units\", \"value\"], axis=1, inplace=True)\n",
    "bioactivities_df.head()"
   ]
  },
  {
   "cell_type": "code",
   "execution_count": 31,
   "id": "1a96a461",
   "metadata": {},
   "outputs": [
    {
     "data": {
      "text/plain": [
       "activity_id            int64\n",
       "assay_chembl_id       object\n",
       "assay_description     object\n",
       "assay_type            object\n",
       "molecule_chembl_id    object\n",
       "relation              object\n",
       "standard_units        object\n",
       "standard_value        object\n",
       "target_chembl_id      object\n",
       "target_organism       object\n",
       "type                  object\n",
       "dtype: object"
      ]
     },
     "execution_count": 31,
     "metadata": {},
     "output_type": "execute_result"
    }
   ],
   "source": [
    "bioactivities_df.dtypes"
   ]
  },
  {
   "cell_type": "code",
   "execution_count": 32,
   "id": "bd62d378",
   "metadata": {},
   "outputs": [
    {
     "data": {
      "text/plain": [
       "activity_id             int64\n",
       "assay_chembl_id        object\n",
       "assay_description      object\n",
       "assay_type             object\n",
       "molecule_chembl_id     object\n",
       "relation               object\n",
       "standard_units         object\n",
       "standard_value        float64\n",
       "target_chembl_id       object\n",
       "target_organism        object\n",
       "type                   object\n",
       "dtype: object"
      ]
     },
     "execution_count": 32,
     "metadata": {},
     "output_type": "execute_result"
    }
   ],
   "source": [
    "# Change the type of the IC50 values to float values\n",
    "bioactivities_df = bioactivities_df.astype({\"standard_value\": \"float64\"})\n",
    "bioactivities_df.dtypes"
   ]
  },
  {
   "cell_type": "code",
   "execution_count": 33,
   "id": "9ac61a7e",
   "metadata": {},
   "outputs": [
    {
     "name": "stdout",
     "output_type": "stream",
     "text": [
      "DataFrame shape: (3437, 11)\n"
     ]
    }
   ],
   "source": [
    "bioactivities_df.dropna(axis=0, how=\"any\", inplace=True)\n",
    "print(f\"DataFrame shape: {bioactivities_df.shape}\")"
   ]
  },
  {
   "cell_type": "code",
   "execution_count": 36,
   "id": "df6965dc",
   "metadata": {},
   "outputs": [
    {
     "name": "stdout",
     "output_type": "stream",
     "text": [
      "Units in downloaded data: ['nM']\n",
      "Number of non-nM entries:    0\n",
      "Units after filtering: ['nM']\n",
      "DataFrame shape: (3369, 11)\n"
     ]
    }
   ],
   "source": [
    "# Only keep entries which are measured in nM\n",
    "print(f\"Units in downloaded data: {bioactivities_df['standard_units'].unique()}\")\n",
    "print(\n",
    "    f\"Number of non-nM entries:\\\n",
    "    {bioactivities_df[bioactivities_df['standard_units'] != 'nM'].shape[0]}\"\n",
    ")\n",
    "bioactivities_df = bioactivities_df[bioactivities_df[\"standard_units\"] == \"nM\"]\n",
    "print(f\"Units after filtering: {bioactivities_df['standard_units'].unique()}\")\n",
    "print(f\"DataFrame shape: {bioactivities_df.shape}\")"
   ]
  },
  {
   "cell_type": "markdown",
   "id": "f298250e",
   "metadata": {},
   "source": [
    "There are some double entries in the dataframe so duplicate entries will be averaged"
   ]
  },
  {
   "cell_type": "code",
   "execution_count": 70,
   "id": "dfb9ec09",
   "metadata": {},
   "outputs": [
    {
     "data": {
      "text/html": [
       "<div>\n",
       "<style scoped>\n",
       "    .dataframe tbody tr th:only-of-type {\n",
       "        vertical-align: middle;\n",
       "    }\n",
       "\n",
       "    .dataframe tbody tr th {\n",
       "        vertical-align: top;\n",
       "    }\n",
       "\n",
       "    .dataframe thead th {\n",
       "        text-align: right;\n",
       "    }\n",
       "</style>\n",
       "<table border=\"1\" class=\"dataframe\">\n",
       "  <thead>\n",
       "    <tr style=\"text-align: right;\">\n",
       "      <th></th>\n",
       "      <th>activity_id</th>\n",
       "      <th>assay_chembl_id</th>\n",
       "      <th>assay_description</th>\n",
       "      <th>assay_type</th>\n",
       "      <th>molecule_chembl_id</th>\n",
       "      <th>relation</th>\n",
       "      <th>standard_units</th>\n",
       "      <th>standard_value</th>\n",
       "      <th>target_chembl_id</th>\n",
       "      <th>target_organism</th>\n",
       "      <th>type</th>\n",
       "    </tr>\n",
       "  </thead>\n",
       "  <tbody>\n",
       "    <tr>\n",
       "      <th>91</th>\n",
       "      <td>439847</td>\n",
       "      <td>CHEMBL771320</td>\n",
       "      <td>Inhibitory activity against human Protein-tyro...</td>\n",
       "      <td>B</td>\n",
       "      <td>CHEMBL100267</td>\n",
       "      <td>=</td>\n",
       "      <td>nM</td>\n",
       "      <td>20000000.0</td>\n",
       "      <td>CHEMBL335</td>\n",
       "      <td>Homo sapiens</td>\n",
       "      <td>IC50</td>\n",
       "    </tr>\n",
       "    <tr>\n",
       "      <th>504</th>\n",
       "      <td>1264005</td>\n",
       "      <td>CHEMBL772439</td>\n",
       "      <td>Inhibitory concentration towards recombinant h...</td>\n",
       "      <td>B</td>\n",
       "      <td>CHEMBL101427</td>\n",
       "      <td>=</td>\n",
       "      <td>nM</td>\n",
       "      <td>19000.0</td>\n",
       "      <td>CHEMBL335</td>\n",
       "      <td>Homo sapiens</td>\n",
       "      <td>IC50</td>\n",
       "    </tr>\n",
       "    <tr>\n",
       "      <th>491</th>\n",
       "      <td>1228545</td>\n",
       "      <td>CHEMBL772439</td>\n",
       "      <td>Inhibitory concentration towards recombinant h...</td>\n",
       "      <td>B</td>\n",
       "      <td>CHEMBL102015</td>\n",
       "      <td>=</td>\n",
       "      <td>nM</td>\n",
       "      <td>24000.0</td>\n",
       "      <td>CHEMBL335</td>\n",
       "      <td>Homo sapiens</td>\n",
       "      <td>IC50</td>\n",
       "    </tr>\n",
       "    <tr>\n",
       "      <th>492</th>\n",
       "      <td>1229794</td>\n",
       "      <td>CHEMBL772439</td>\n",
       "      <td>Inhibitory concentration towards recombinant h...</td>\n",
       "      <td>B</td>\n",
       "      <td>CHEMBL103709</td>\n",
       "      <td>=</td>\n",
       "      <td>nM</td>\n",
       "      <td>25000.0</td>\n",
       "      <td>CHEMBL335</td>\n",
       "      <td>Homo sapiens</td>\n",
       "      <td>IC50</td>\n",
       "    </tr>\n",
       "    <tr>\n",
       "      <th>493</th>\n",
       "      <td>1234702</td>\n",
       "      <td>CHEMBL772439</td>\n",
       "      <td>Inhibitory concentration towards recombinant h...</td>\n",
       "      <td>B</td>\n",
       "      <td>CHEMBL103942</td>\n",
       "      <td>=</td>\n",
       "      <td>nM</td>\n",
       "      <td>30000.0</td>\n",
       "      <td>CHEMBL335</td>\n",
       "      <td>Homo sapiens</td>\n",
       "      <td>IC50</td>\n",
       "    </tr>\n",
       "  </tbody>\n",
       "</table>\n",
       "</div>"
      ],
      "text/plain": [
       "     activity_id assay_chembl_id  \\\n",
       "91        439847    CHEMBL771320   \n",
       "504      1264005    CHEMBL772439   \n",
       "491      1228545    CHEMBL772439   \n",
       "492      1229794    CHEMBL772439   \n",
       "493      1234702    CHEMBL772439   \n",
       "\n",
       "                                     assay_description assay_type  \\\n",
       "91   Inhibitory activity against human Protein-tyro...          B   \n",
       "504  Inhibitory concentration towards recombinant h...          B   \n",
       "491  Inhibitory concentration towards recombinant h...          B   \n",
       "492  Inhibitory concentration towards recombinant h...          B   \n",
       "493  Inhibitory concentration towards recombinant h...          B   \n",
       "\n",
       "    molecule_chembl_id relation standard_units  standard_value  \\\n",
       "91        CHEMBL100267        =             nM      20000000.0   \n",
       "504       CHEMBL101427        =             nM         19000.0   \n",
       "491       CHEMBL102015        =             nM         24000.0   \n",
       "492       CHEMBL103709        =             nM         25000.0   \n",
       "493       CHEMBL103942        =             nM         30000.0   \n",
       "\n",
       "    target_chembl_id target_organism  type  \n",
       "91         CHEMBL335    Homo sapiens  IC50  \n",
       "504        CHEMBL335    Homo sapiens  IC50  \n",
       "491        CHEMBL335    Homo sapiens  IC50  \n",
       "492        CHEMBL335    Homo sapiens  IC50  \n",
       "493        CHEMBL335    Homo sapiens  IC50  "
      ]
     },
     "execution_count": 70,
     "metadata": {},
     "output_type": "execute_result"
    }
   ],
   "source": [
    "mean = bioactivities_df.groupby('molecule_chembl_id').mean().reset_index()\n",
    "unique = bioactivities_df.drop_duplicates(\"molecule_chembl_id\", keep=\"first\", inplace=False)\n",
    "unique.sort_values('molecule_chembl_id', inplace=True)\n",
    "unique['standard_value'] = mean['standard_value'].values\n",
    "\n",
    "bioactivities_df = unique\n",
    "bioactivities_df.head()\n"
   ]
  },
  {
   "cell_type": "code",
   "execution_count": 56,
   "id": "02ca8493",
   "metadata": {},
   "outputs": [
    {
     "data": {
      "text/html": [
       "<div>\n",
       "<style scoped>\n",
       "    .dataframe tbody tr th:only-of-type {\n",
       "        vertical-align: middle;\n",
       "    }\n",
       "\n",
       "    .dataframe tbody tr th {\n",
       "        vertical-align: top;\n",
       "    }\n",
       "\n",
       "    .dataframe thead th {\n",
       "        text-align: right;\n",
       "    }\n",
       "</style>\n",
       "<table border=\"1\" class=\"dataframe\">\n",
       "  <thead>\n",
       "    <tr style=\"text-align: right;\">\n",
       "      <th></th>\n",
       "      <th>molecule_chembl_id</th>\n",
       "      <th>activity_id</th>\n",
       "      <th>standard_value</th>\n",
       "    </tr>\n",
       "  </thead>\n",
       "  <tbody>\n",
       "    <tr>\n",
       "      <th>0</th>\n",
       "      <td>CHEMBL100267</td>\n",
       "      <td>439847.0</td>\n",
       "      <td>20000000.0</td>\n",
       "    </tr>\n",
       "    <tr>\n",
       "      <th>1</th>\n",
       "      <td>CHEMBL101427</td>\n",
       "      <td>1264005.0</td>\n",
       "      <td>19000.0</td>\n",
       "    </tr>\n",
       "    <tr>\n",
       "      <th>2</th>\n",
       "      <td>CHEMBL102015</td>\n",
       "      <td>1228545.0</td>\n",
       "      <td>24000.0</td>\n",
       "    </tr>\n",
       "    <tr>\n",
       "      <th>3</th>\n",
       "      <td>CHEMBL103709</td>\n",
       "      <td>1229794.0</td>\n",
       "      <td>25000.0</td>\n",
       "    </tr>\n",
       "    <tr>\n",
       "      <th>4</th>\n",
       "      <td>CHEMBL103942</td>\n",
       "      <td>1234702.0</td>\n",
       "      <td>30000.0</td>\n",
       "    </tr>\n",
       "    <tr>\n",
       "      <th>...</th>\n",
       "      <td>...</td>\n",
       "      <td>...</td>\n",
       "      <td>...</td>\n",
       "    </tr>\n",
       "    <tr>\n",
       "      <th>2984</th>\n",
       "      <td>CHEMBL99271</td>\n",
       "      <td>596568.0</td>\n",
       "      <td>21000.0</td>\n",
       "    </tr>\n",
       "    <tr>\n",
       "      <th>2985</th>\n",
       "      <td>CHEMBL99657</td>\n",
       "      <td>595199.0</td>\n",
       "      <td>24000.0</td>\n",
       "    </tr>\n",
       "    <tr>\n",
       "      <th>2986</th>\n",
       "      <td>CHEMBL99776</td>\n",
       "      <td>592733.0</td>\n",
       "      <td>24000.0</td>\n",
       "    </tr>\n",
       "    <tr>\n",
       "      <th>2987</th>\n",
       "      <td>CHEMBL99971</td>\n",
       "      <td>467482.0</td>\n",
       "      <td>12000000.0</td>\n",
       "    </tr>\n",
       "    <tr>\n",
       "      <th>2988</th>\n",
       "      <td>CHEMBL99972</td>\n",
       "      <td>437228.0</td>\n",
       "      <td>9400000.0</td>\n",
       "    </tr>\n",
       "  </tbody>\n",
       "</table>\n",
       "<p>2989 rows × 3 columns</p>\n",
       "</div>"
      ],
      "text/plain": [
       "     molecule_chembl_id  activity_id  standard_value\n",
       "0          CHEMBL100267     439847.0      20000000.0\n",
       "1          CHEMBL101427    1264005.0         19000.0\n",
       "2          CHEMBL102015    1228545.0         24000.0\n",
       "3          CHEMBL103709    1229794.0         25000.0\n",
       "4          CHEMBL103942    1234702.0         30000.0\n",
       "...                 ...          ...             ...\n",
       "2984        CHEMBL99271     596568.0         21000.0\n",
       "2985        CHEMBL99657     595199.0         24000.0\n",
       "2986        CHEMBL99776     592733.0         24000.0\n",
       "2987        CHEMBL99971     467482.0      12000000.0\n",
       "2988        CHEMBL99972     437228.0       9400000.0\n",
       "\n",
       "[2989 rows x 3 columns]"
      ]
     },
     "execution_count": 56,
     "metadata": {},
     "output_type": "execute_result"
    }
   ],
   "source": [
    "mean"
   ]
  },
  {
   "cell_type": "code",
   "execution_count": 71,
   "id": "45ebb1ef",
   "metadata": {},
   "outputs": [
    {
     "data": {
      "text/html": [
       "<div>\n",
       "<style scoped>\n",
       "    .dataframe tbody tr th:only-of-type {\n",
       "        vertical-align: middle;\n",
       "    }\n",
       "\n",
       "    .dataframe tbody tr th {\n",
       "        vertical-align: top;\n",
       "    }\n",
       "\n",
       "    .dataframe thead th {\n",
       "        text-align: right;\n",
       "    }\n",
       "</style>\n",
       "<table border=\"1\" class=\"dataframe\">\n",
       "  <thead>\n",
       "    <tr style=\"text-align: right;\">\n",
       "      <th></th>\n",
       "      <th>activity_id</th>\n",
       "      <th>assay_chembl_id</th>\n",
       "      <th>assay_description</th>\n",
       "      <th>assay_type</th>\n",
       "      <th>molecule_chembl_id</th>\n",
       "      <th>relation</th>\n",
       "      <th>standard_units</th>\n",
       "      <th>standard_value</th>\n",
       "      <th>target_chembl_id</th>\n",
       "      <th>target_organism</th>\n",
       "      <th>type</th>\n",
       "    </tr>\n",
       "  </thead>\n",
       "  <tbody>\n",
       "    <tr>\n",
       "      <th>0</th>\n",
       "      <td>439847</td>\n",
       "      <td>CHEMBL771320</td>\n",
       "      <td>Inhibitory activity against human Protein-tyro...</td>\n",
       "      <td>B</td>\n",
       "      <td>CHEMBL100267</td>\n",
       "      <td>=</td>\n",
       "      <td>nM</td>\n",
       "      <td>20000000.0</td>\n",
       "      <td>CHEMBL335</td>\n",
       "      <td>Homo sapiens</td>\n",
       "      <td>IC50</td>\n",
       "    </tr>\n",
       "    <tr>\n",
       "      <th>1</th>\n",
       "      <td>1264005</td>\n",
       "      <td>CHEMBL772439</td>\n",
       "      <td>Inhibitory concentration towards recombinant h...</td>\n",
       "      <td>B</td>\n",
       "      <td>CHEMBL101427</td>\n",
       "      <td>=</td>\n",
       "      <td>nM</td>\n",
       "      <td>19000.0</td>\n",
       "      <td>CHEMBL335</td>\n",
       "      <td>Homo sapiens</td>\n",
       "      <td>IC50</td>\n",
       "    </tr>\n",
       "    <tr>\n",
       "      <th>2</th>\n",
       "      <td>1228545</td>\n",
       "      <td>CHEMBL772439</td>\n",
       "      <td>Inhibitory concentration towards recombinant h...</td>\n",
       "      <td>B</td>\n",
       "      <td>CHEMBL102015</td>\n",
       "      <td>=</td>\n",
       "      <td>nM</td>\n",
       "      <td>24000.0</td>\n",
       "      <td>CHEMBL335</td>\n",
       "      <td>Homo sapiens</td>\n",
       "      <td>IC50</td>\n",
       "    </tr>\n",
       "    <tr>\n",
       "      <th>3</th>\n",
       "      <td>1229794</td>\n",
       "      <td>CHEMBL772439</td>\n",
       "      <td>Inhibitory concentration towards recombinant h...</td>\n",
       "      <td>B</td>\n",
       "      <td>CHEMBL103709</td>\n",
       "      <td>=</td>\n",
       "      <td>nM</td>\n",
       "      <td>25000.0</td>\n",
       "      <td>CHEMBL335</td>\n",
       "      <td>Homo sapiens</td>\n",
       "      <td>IC50</td>\n",
       "    </tr>\n",
       "    <tr>\n",
       "      <th>4</th>\n",
       "      <td>1234702</td>\n",
       "      <td>CHEMBL772439</td>\n",
       "      <td>Inhibitory concentration towards recombinant h...</td>\n",
       "      <td>B</td>\n",
       "      <td>CHEMBL103942</td>\n",
       "      <td>=</td>\n",
       "      <td>nM</td>\n",
       "      <td>30000.0</td>\n",
       "      <td>CHEMBL335</td>\n",
       "      <td>Homo sapiens</td>\n",
       "      <td>IC50</td>\n",
       "    </tr>\n",
       "  </tbody>\n",
       "</table>\n",
       "</div>"
      ],
      "text/plain": [
       "   activity_id assay_chembl_id  \\\n",
       "0       439847    CHEMBL771320   \n",
       "1      1264005    CHEMBL772439   \n",
       "2      1228545    CHEMBL772439   \n",
       "3      1229794    CHEMBL772439   \n",
       "4      1234702    CHEMBL772439   \n",
       "\n",
       "                                   assay_description assay_type  \\\n",
       "0  Inhibitory activity against human Protein-tyro...          B   \n",
       "1  Inhibitory concentration towards recombinant h...          B   \n",
       "2  Inhibitory concentration towards recombinant h...          B   \n",
       "3  Inhibitory concentration towards recombinant h...          B   \n",
       "4  Inhibitory concentration towards recombinant h...          B   \n",
       "\n",
       "  molecule_chembl_id relation standard_units  standard_value target_chembl_id  \\\n",
       "0       CHEMBL100267        =             nM      20000000.0        CHEMBL335   \n",
       "1       CHEMBL101427        =             nM         19000.0        CHEMBL335   \n",
       "2       CHEMBL102015        =             nM         24000.0        CHEMBL335   \n",
       "3       CHEMBL103709        =             nM         25000.0        CHEMBL335   \n",
       "4       CHEMBL103942        =             nM         30000.0        CHEMBL335   \n",
       "\n",
       "  target_organism  type  \n",
       "0    Homo sapiens  IC50  \n",
       "1    Homo sapiens  IC50  \n",
       "2    Homo sapiens  IC50  \n",
       "3    Homo sapiens  IC50  \n",
       "4    Homo sapiens  IC50  "
      ]
     },
     "execution_count": 71,
     "metadata": {},
     "output_type": "execute_result"
    }
   ],
   "source": [
    "bioactivities_df.reset_index(drop=True, inplace=True)\n",
    "bioactivities_df.head()"
   ]
  },
  {
   "cell_type": "code",
   "execution_count": 72,
   "id": "39527511",
   "metadata": {},
   "outputs": [
    {
     "data": {
      "text/html": [
       "<div>\n",
       "<style scoped>\n",
       "    .dataframe tbody tr th:only-of-type {\n",
       "        vertical-align: middle;\n",
       "    }\n",
       "\n",
       "    .dataframe tbody tr th {\n",
       "        vertical-align: top;\n",
       "    }\n",
       "\n",
       "    .dataframe thead th {\n",
       "        text-align: right;\n",
       "    }\n",
       "</style>\n",
       "<table border=\"1\" class=\"dataframe\">\n",
       "  <thead>\n",
       "    <tr style=\"text-align: right;\">\n",
       "      <th></th>\n",
       "      <th>activity_id</th>\n",
       "      <th>assay_chembl_id</th>\n",
       "      <th>assay_description</th>\n",
       "      <th>assay_type</th>\n",
       "      <th>molecule_chembl_id</th>\n",
       "      <th>relation</th>\n",
       "      <th>units</th>\n",
       "      <th>IC50</th>\n",
       "      <th>target_chembl_id</th>\n",
       "      <th>target_organism</th>\n",
       "      <th>type</th>\n",
       "    </tr>\n",
       "  </thead>\n",
       "  <tbody>\n",
       "    <tr>\n",
       "      <th>0</th>\n",
       "      <td>439847</td>\n",
       "      <td>CHEMBL771320</td>\n",
       "      <td>Inhibitory activity against human Protein-tyro...</td>\n",
       "      <td>B</td>\n",
       "      <td>CHEMBL100267</td>\n",
       "      <td>=</td>\n",
       "      <td>nM</td>\n",
       "      <td>20000000.0</td>\n",
       "      <td>CHEMBL335</td>\n",
       "      <td>Homo sapiens</td>\n",
       "      <td>IC50</td>\n",
       "    </tr>\n",
       "    <tr>\n",
       "      <th>1</th>\n",
       "      <td>1264005</td>\n",
       "      <td>CHEMBL772439</td>\n",
       "      <td>Inhibitory concentration towards recombinant h...</td>\n",
       "      <td>B</td>\n",
       "      <td>CHEMBL101427</td>\n",
       "      <td>=</td>\n",
       "      <td>nM</td>\n",
       "      <td>19000.0</td>\n",
       "      <td>CHEMBL335</td>\n",
       "      <td>Homo sapiens</td>\n",
       "      <td>IC50</td>\n",
       "    </tr>\n",
       "    <tr>\n",
       "      <th>2</th>\n",
       "      <td>1228545</td>\n",
       "      <td>CHEMBL772439</td>\n",
       "      <td>Inhibitory concentration towards recombinant h...</td>\n",
       "      <td>B</td>\n",
       "      <td>CHEMBL102015</td>\n",
       "      <td>=</td>\n",
       "      <td>nM</td>\n",
       "      <td>24000.0</td>\n",
       "      <td>CHEMBL335</td>\n",
       "      <td>Homo sapiens</td>\n",
       "      <td>IC50</td>\n",
       "    </tr>\n",
       "    <tr>\n",
       "      <th>3</th>\n",
       "      <td>1229794</td>\n",
       "      <td>CHEMBL772439</td>\n",
       "      <td>Inhibitory concentration towards recombinant h...</td>\n",
       "      <td>B</td>\n",
       "      <td>CHEMBL103709</td>\n",
       "      <td>=</td>\n",
       "      <td>nM</td>\n",
       "      <td>25000.0</td>\n",
       "      <td>CHEMBL335</td>\n",
       "      <td>Homo sapiens</td>\n",
       "      <td>IC50</td>\n",
       "    </tr>\n",
       "    <tr>\n",
       "      <th>4</th>\n",
       "      <td>1234702</td>\n",
       "      <td>CHEMBL772439</td>\n",
       "      <td>Inhibitory concentration towards recombinant h...</td>\n",
       "      <td>B</td>\n",
       "      <td>CHEMBL103942</td>\n",
       "      <td>=</td>\n",
       "      <td>nM</td>\n",
       "      <td>30000.0</td>\n",
       "      <td>CHEMBL335</td>\n",
       "      <td>Homo sapiens</td>\n",
       "      <td>IC50</td>\n",
       "    </tr>\n",
       "  </tbody>\n",
       "</table>\n",
       "</div>"
      ],
      "text/plain": [
       "   activity_id assay_chembl_id  \\\n",
       "0       439847    CHEMBL771320   \n",
       "1      1264005    CHEMBL772439   \n",
       "2      1228545    CHEMBL772439   \n",
       "3      1229794    CHEMBL772439   \n",
       "4      1234702    CHEMBL772439   \n",
       "\n",
       "                                   assay_description assay_type  \\\n",
       "0  Inhibitory activity against human Protein-tyro...          B   \n",
       "1  Inhibitory concentration towards recombinant h...          B   \n",
       "2  Inhibitory concentration towards recombinant h...          B   \n",
       "3  Inhibitory concentration towards recombinant h...          B   \n",
       "4  Inhibitory concentration towards recombinant h...          B   \n",
       "\n",
       "  molecule_chembl_id relation units        IC50 target_chembl_id  \\\n",
       "0       CHEMBL100267        =    nM  20000000.0        CHEMBL335   \n",
       "1       CHEMBL101427        =    nM     19000.0        CHEMBL335   \n",
       "2       CHEMBL102015        =    nM     24000.0        CHEMBL335   \n",
       "3       CHEMBL103709        =    nM     25000.0        CHEMBL335   \n",
       "4       CHEMBL103942        =    nM     30000.0        CHEMBL335   \n",
       "\n",
       "  target_organism  type  \n",
       "0    Homo sapiens  IC50  \n",
       "1    Homo sapiens  IC50  \n",
       "2    Homo sapiens  IC50  \n",
       "3    Homo sapiens  IC50  \n",
       "4    Homo sapiens  IC50  "
      ]
     },
     "execution_count": 72,
     "metadata": {},
     "output_type": "execute_result"
    }
   ],
   "source": [
    "bioactivities_df.rename(\n",
    "    columns={\"standard_value\": \"IC50\", \"standard_units\": \"units\"}, inplace=True\n",
    ")\n",
    "bioactivities_df.head()"
   ]
  },
  {
   "cell_type": "code",
   "execution_count": 73,
   "id": "b6408ad1",
   "metadata": {},
   "outputs": [
    {
     "name": "stdout",
     "output_type": "stream",
     "text": [
      "DataFrame shape: (2989, 11)\n"
     ]
    }
   ],
   "source": [
    "print(f\"DataFrame shape: {bioactivities_df.shape}\")"
   ]
  },
  {
   "cell_type": "markdown",
   "id": "8f13098b",
   "metadata": {},
   "source": [
    "## Get Compound Data\n",
    "Molecular data of the compounds will be retrieved, namely the structure"
   ]
  },
  {
   "cell_type": "code",
   "execution_count": 74,
   "id": "8865fe3f",
   "metadata": {},
   "outputs": [],
   "source": [
    "compounds_provider = compounds_api.filter(\n",
    "    molecule_chembl_id__in=list(bioactivities_df[\"molecule_chembl_id\"])\n",
    ").only(\"molecule_chembl_id\", \"molecule_structures\")"
   ]
  },
  {
   "cell_type": "code",
   "execution_count": 75,
   "id": "14f40c4a",
   "metadata": {},
   "outputs": [
    {
     "data": {
      "application/vnd.jupyter.widget-view+json": {
       "model_id": "0e0aea8da1494bdab383446f6f8b0235",
       "version_major": 2,
       "version_minor": 0
      },
      "text/plain": [
       "  0%|          | 0/2989 [00:00<?, ?it/s]"
      ]
     },
     "metadata": {},
     "output_type": "display_data"
    }
   ],
   "source": [
    "compounds = list(tqdm(compounds_provider))"
   ]
  },
  {
   "cell_type": "code",
   "execution_count": 77,
   "id": "2ff21dc6",
   "metadata": {},
   "outputs": [
    {
     "name": "stdout",
     "output_type": "stream",
     "text": [
      "DataFrame shape: (2989, 2)\n"
     ]
    },
    {
     "data": {
      "text/html": [
       "<div>\n",
       "<style scoped>\n",
       "    .dataframe tbody tr th:only-of-type {\n",
       "        vertical-align: middle;\n",
       "    }\n",
       "\n",
       "    .dataframe tbody tr th {\n",
       "        vertical-align: top;\n",
       "    }\n",
       "\n",
       "    .dataframe thead th {\n",
       "        text-align: right;\n",
       "    }\n",
       "</style>\n",
       "<table border=\"1\" class=\"dataframe\">\n",
       "  <thead>\n",
       "    <tr style=\"text-align: right;\">\n",
       "      <th></th>\n",
       "      <th>molecule_chembl_id</th>\n",
       "      <th>molecule_structures</th>\n",
       "    </tr>\n",
       "  </thead>\n",
       "  <tbody>\n",
       "    <tr>\n",
       "      <th>0</th>\n",
       "      <td>CHEMBL408</td>\n",
       "      <td>{'canonical_smiles': 'Cc1c(C)c2c(c(C)c1O)CCC(C...</td>\n",
       "    </tr>\n",
       "    <tr>\n",
       "      <th>1</th>\n",
       "      <td>CHEMBL6518</td>\n",
       "      <td>{'canonical_smiles': 'CCCCCCCC/C(=C/Cn1oc(=O)n...</td>\n",
       "    </tr>\n",
       "    <tr>\n",
       "      <th>2</th>\n",
       "      <td>CHEMBL203751</td>\n",
       "      <td>{'canonical_smiles': 'Cc1oc(-c2ccc(C(F)(F)F)cc...</td>\n",
       "    </tr>\n",
       "    <tr>\n",
       "      <th>3</th>\n",
       "      <td>CHEMBL6845</td>\n",
       "      <td>{'canonical_smiles': 'C/C(=C\\Cn1oc(=O)[nH]c1=O...</td>\n",
       "    </tr>\n",
       "    <tr>\n",
       "      <th>4</th>\n",
       "      <td>CHEMBL265665</td>\n",
       "      <td>{'canonical_smiles': 'CCCCCCCC/C(=C\\Cn1oc(=O)n...</td>\n",
       "    </tr>\n",
       "  </tbody>\n",
       "</table>\n",
       "</div>"
      ],
      "text/plain": [
       "  molecule_chembl_id                                molecule_structures\n",
       "0          CHEMBL408  {'canonical_smiles': 'Cc1c(C)c2c(c(C)c1O)CCC(C...\n",
       "1         CHEMBL6518  {'canonical_smiles': 'CCCCCCCC/C(=C/Cn1oc(=O)n...\n",
       "2       CHEMBL203751  {'canonical_smiles': 'Cc1oc(-c2ccc(C(F)(F)F)cc...\n",
       "3         CHEMBL6845  {'canonical_smiles': 'C/C(=C\\Cn1oc(=O)[nH]c1=O...\n",
       "4       CHEMBL265665  {'canonical_smiles': 'CCCCCCCC/C(=C\\Cn1oc(=O)n..."
      ]
     },
     "execution_count": 77,
     "metadata": {},
     "output_type": "execute_result"
    }
   ],
   "source": [
    "compounds_df = pd.DataFrame.from_records(\n",
    "    compounds,\n",
    ")\n",
    "print(f\"DataFrame shape: {compounds_df.shape}\")\n",
    "compounds_df.head()"
   ]
  },
  {
   "cell_type": "code",
   "execution_count": 78,
   "id": "6fa4b486",
   "metadata": {},
   "outputs": [
    {
     "name": "stdout",
     "output_type": "stream",
     "text": [
      "DataFrame shape: (2983, 2)\n"
     ]
    }
   ],
   "source": [
    "compounds_df.dropna(axis=0, how=\"any\", inplace=True)\n",
    "print(f\"DataFrame shape: {compounds_df.shape}\")"
   ]
  },
  {
   "cell_type": "code",
   "execution_count": 79,
   "id": "5255420e",
   "metadata": {},
   "outputs": [
    {
     "name": "stdout",
     "output_type": "stream",
     "text": [
      "DataFrame shape: (2983, 2)\n"
     ]
    }
   ],
   "source": [
    "compounds_df.drop_duplicates(\"molecule_chembl_id\", keep=\"first\", inplace=True)\n",
    "print(f\"DataFrame shape: {compounds_df.shape}\")"
   ]
  },
  {
   "cell_type": "code",
   "execution_count": 80,
   "id": "65c3dead",
   "metadata": {},
   "outputs": [
    {
     "data": {
      "text/plain": [
       "dict_keys(['canonical_smiles', 'molfile', 'standard_inchi', 'standard_inchi_key'])"
      ]
     },
     "execution_count": 80,
     "metadata": {},
     "output_type": "execute_result"
    }
   ],
   "source": [
    "compounds_df.iloc[0].molecule_structures.keys()"
   ]
  },
  {
   "cell_type": "code",
   "execution_count": 81,
   "id": "c324eb4a",
   "metadata": {},
   "outputs": [
    {
     "name": "stdout",
     "output_type": "stream",
     "text": [
      "DataFrame shape: (2983, 2)\n"
     ]
    }
   ],
   "source": [
    "# Rows not having a canonical smiles structure will be removed\n",
    "canonical_smiles = []\n",
    "\n",
    "for i, compounds in compounds_df.iterrows():\n",
    "    try:\n",
    "        canonical_smiles.append(compounds[\"molecule_structures\"][\"canonical_smiles\"])\n",
    "    except KeyError:\n",
    "        canonical_smiles.append(None)\n",
    "\n",
    "compounds_df[\"smiles\"] = canonical_smiles\n",
    "compounds_df.drop(\"molecule_structures\", axis=1, inplace=True)\n",
    "print(f\"DataFrame shape: {compounds_df.shape}\")"
   ]
  },
  {
   "cell_type": "code",
   "execution_count": 82,
   "id": "c460e059",
   "metadata": {},
   "outputs": [
    {
     "name": "stdout",
     "output_type": "stream",
     "text": [
      "DataFrame shape: (2983, 2)\n"
     ]
    }
   ],
   "source": [
    "compounds_df.dropna(axis=0, how=\"any\", inplace=True)\n",
    "print(f\"DataFrame shape: {compounds_df.shape}\")"
   ]
  },
  {
   "cell_type": "code",
   "execution_count": 85,
   "id": "cdb1ee4f",
   "metadata": {},
   "outputs": [
    {
     "name": "stdout",
     "output_type": "stream",
     "text": [
      "Bioactivities filtered: 2989\n",
      "Compounds filtered: 2983\n"
     ]
    }
   ],
   "source": [
    "print(f\"Bioactivities filtered: {bioactivities_df.shape[0]}\")\n",
    "\n",
    "print(f\"Compounds filtered: {compounds_df.shape[0]}\")\n"
   ]
  },
  {
   "cell_type": "code",
   "execution_count": 86,
   "id": "6caf03c8",
   "metadata": {},
   "outputs": [
    {
     "name": "stdout",
     "output_type": "stream",
     "text": [
      "Dataset with 2983 entries.\n"
     ]
    }
   ],
   "source": [
    "# Merge DataFrames\n",
    "output_df = pd.merge(\n",
    "    bioactivities_df[[\"molecule_chembl_id\", \"IC50\", \"units\"]],\n",
    "    compounds_df,\n",
    "    on=\"molecule_chembl_id\",\n",
    ")\n",
    "\n",
    "# Reset row indices\n",
    "output_df.reset_index(drop=True, inplace=True)\n",
    "\n",
    "print(f\"Dataset with {output_df.shape[0]} entries.\")"
   ]
  },
  {
   "cell_type": "code",
   "execution_count": 88,
   "id": "18210568",
   "metadata": {},
   "outputs": [
    {
     "data": {
      "text/html": [
       "<div>\n",
       "<style scoped>\n",
       "    .dataframe tbody tr th:only-of-type {\n",
       "        vertical-align: middle;\n",
       "    }\n",
       "\n",
       "    .dataframe tbody tr th {\n",
       "        vertical-align: top;\n",
       "    }\n",
       "\n",
       "    .dataframe thead th {\n",
       "        text-align: right;\n",
       "    }\n",
       "</style>\n",
       "<table border=\"1\" class=\"dataframe\">\n",
       "  <thead>\n",
       "    <tr style=\"text-align: right;\">\n",
       "      <th></th>\n",
       "      <th>molecule_chembl_id</th>\n",
       "      <th>IC50</th>\n",
       "      <th>units</th>\n",
       "      <th>smiles</th>\n",
       "    </tr>\n",
       "  </thead>\n",
       "  <tbody>\n",
       "    <tr>\n",
       "      <th>0</th>\n",
       "      <td>CHEMBL100267</td>\n",
       "      <td>20000000.0</td>\n",
       "      <td>nM</td>\n",
       "      <td>COc1ccc2cc(C(=O)O)ccc2c1C(=O)O</td>\n",
       "    </tr>\n",
       "    <tr>\n",
       "      <th>1</th>\n",
       "      <td>CHEMBL101427</td>\n",
       "      <td>19000.0</td>\n",
       "      <td>nM</td>\n",
       "      <td>C[C@H]1CCC[C@@H](C)N1NC(=O)c1ccc(Cl)c(S(=O)(=O...</td>\n",
       "    </tr>\n",
       "    <tr>\n",
       "      <th>2</th>\n",
       "      <td>CHEMBL102015</td>\n",
       "      <td>24000.0</td>\n",
       "      <td>nM</td>\n",
       "      <td>O=C(NS(=O)(=O)Cc1ccccc1)c1ccc2cc(C(F)(F)P(=O)(...</td>\n",
       "    </tr>\n",
       "    <tr>\n",
       "      <th>3</th>\n",
       "      <td>CHEMBL103709</td>\n",
       "      <td>25000.0</td>\n",
       "      <td>nM</td>\n",
       "      <td>O=C(NS(=O)(=O)c1cc(C2(O)NC(=O)c3ccccc32)ccc1Cl...</td>\n",
       "    </tr>\n",
       "    <tr>\n",
       "      <th>4</th>\n",
       "      <td>CHEMBL103942</td>\n",
       "      <td>30000.0</td>\n",
       "      <td>nM</td>\n",
       "      <td>O=C(NS(=O)(=O)c1ccccc1)c1ccc2cc(C(F)(F)P(=O)(O...</td>\n",
       "    </tr>\n",
       "    <tr>\n",
       "      <th>5</th>\n",
       "      <td>CHEMBL105872</td>\n",
       "      <td>45000.0</td>\n",
       "      <td>nM</td>\n",
       "      <td>O=S(=O)(/C=C/c1ccc2ccccc2c1)Nc1nc(-c2ccccc2)c(...</td>\n",
       "    </tr>\n",
       "    <tr>\n",
       "      <th>6</th>\n",
       "      <td>CHEMBL105999</td>\n",
       "      <td>29000.0</td>\n",
       "      <td>nM</td>\n",
       "      <td>CCCc1sc(NS(=O)(=O)/C=C/c2ccc(F)c(F)c2)nc1-c1cc...</td>\n",
       "    </tr>\n",
       "    <tr>\n",
       "      <th>7</th>\n",
       "      <td>CHEMBL106194</td>\n",
       "      <td>58000.0</td>\n",
       "      <td>nM</td>\n",
       "      <td>N#Cc1ccc(/C=C/S(=O)(=O)Nc2nc(-c3ccccc3)c(-c3cc...</td>\n",
       "    </tr>\n",
       "    <tr>\n",
       "      <th>8</th>\n",
       "      <td>CHEMBL106479</td>\n",
       "      <td>85000.0</td>\n",
       "      <td>nM</td>\n",
       "      <td>O=S(=O)(/C=C/c1ccc(F)c(F)c1)Nc1nc(-c2ccccc2)c(...</td>\n",
       "    </tr>\n",
       "    <tr>\n",
       "      <th>9</th>\n",
       "      <td>CHEMBL1076247</td>\n",
       "      <td>65500.0</td>\n",
       "      <td>nM</td>\n",
       "      <td>CCOCC1(CN2CCN(C)CC2)COc2ccc3c(C)cc(=O)oc3c2C1=O</td>\n",
       "    </tr>\n",
       "  </tbody>\n",
       "</table>\n",
       "</div>"
      ],
      "text/plain": [
       "  molecule_chembl_id        IC50 units  \\\n",
       "0       CHEMBL100267  20000000.0    nM   \n",
       "1       CHEMBL101427     19000.0    nM   \n",
       "2       CHEMBL102015     24000.0    nM   \n",
       "3       CHEMBL103709     25000.0    nM   \n",
       "4       CHEMBL103942     30000.0    nM   \n",
       "5       CHEMBL105872     45000.0    nM   \n",
       "6       CHEMBL105999     29000.0    nM   \n",
       "7       CHEMBL106194     58000.0    nM   \n",
       "8       CHEMBL106479     85000.0    nM   \n",
       "9      CHEMBL1076247     65500.0    nM   \n",
       "\n",
       "                                              smiles  \n",
       "0                     COc1ccc2cc(C(=O)O)ccc2c1C(=O)O  \n",
       "1  C[C@H]1CCC[C@@H](C)N1NC(=O)c1ccc(Cl)c(S(=O)(=O...  \n",
       "2  O=C(NS(=O)(=O)Cc1ccccc1)c1ccc2cc(C(F)(F)P(=O)(...  \n",
       "3  O=C(NS(=O)(=O)c1cc(C2(O)NC(=O)c3ccccc32)ccc1Cl...  \n",
       "4  O=C(NS(=O)(=O)c1ccccc1)c1ccc2cc(C(F)(F)P(=O)(O...  \n",
       "5  O=S(=O)(/C=C/c1ccc2ccccc2c1)Nc1nc(-c2ccccc2)c(...  \n",
       "6  CCCc1sc(NS(=O)(=O)/C=C/c2ccc(F)c(F)c2)nc1-c1cc...  \n",
       "7  N#Cc1ccc(/C=C/S(=O)(=O)Nc2nc(-c3ccccc3)c(-c3cc...  \n",
       "8  O=S(=O)(/C=C/c1ccc(F)c(F)c1)Nc1nc(-c2ccccc2)c(...  \n",
       "9    CCOCC1(CN2CCN(C)CC2)COc2ccc3c(C)cc(=O)oc3c2C1=O  "
      ]
     },
     "execution_count": 88,
     "metadata": {},
     "output_type": "execute_result"
    }
   ],
   "source": [
    "output_df.dtypes\n",
    "output_df.head(10)"
   ]
  },
  {
   "cell_type": "code",
   "execution_count": 89,
   "id": "edeb1a72",
   "metadata": {},
   "outputs": [],
   "source": [
    "# For a less crowded distribution, the values will be converted to pIC50\n",
    "def convert_ic50_to_pic50(IC50_value):\n",
    "    pIC50_value = 9 - math.log10(IC50_value)\n",
    "    return pIC50_value"
   ]
  },
  {
   "cell_type": "code",
   "execution_count": 91,
   "id": "7c22a6c3",
   "metadata": {},
   "outputs": [
    {
     "data": {
      "text/html": [
       "<div>\n",
       "<style scoped>\n",
       "    .dataframe tbody tr th:only-of-type {\n",
       "        vertical-align: middle;\n",
       "    }\n",
       "\n",
       "    .dataframe tbody tr th {\n",
       "        vertical-align: top;\n",
       "    }\n",
       "\n",
       "    .dataframe thead th {\n",
       "        text-align: right;\n",
       "    }\n",
       "</style>\n",
       "<table border=\"1\" class=\"dataframe\">\n",
       "  <thead>\n",
       "    <tr style=\"text-align: right;\">\n",
       "      <th></th>\n",
       "      <th>molecule_chembl_id</th>\n",
       "      <th>IC50</th>\n",
       "      <th>units</th>\n",
       "      <th>smiles</th>\n",
       "      <th>pIC50</th>\n",
       "    </tr>\n",
       "  </thead>\n",
       "  <tbody>\n",
       "    <tr>\n",
       "      <th>0</th>\n",
       "      <td>CHEMBL100267</td>\n",
       "      <td>20000000.0</td>\n",
       "      <td>nM</td>\n",
       "      <td>COc1ccc2cc(C(=O)O)ccc2c1C(=O)O</td>\n",
       "      <td>1.698970</td>\n",
       "    </tr>\n",
       "    <tr>\n",
       "      <th>1</th>\n",
       "      <td>CHEMBL101427</td>\n",
       "      <td>19000.0</td>\n",
       "      <td>nM</td>\n",
       "      <td>C[C@H]1CCC[C@@H](C)N1NC(=O)c1ccc(Cl)c(S(=O)(=O...</td>\n",
       "      <td>4.721246</td>\n",
       "    </tr>\n",
       "    <tr>\n",
       "      <th>2</th>\n",
       "      <td>CHEMBL102015</td>\n",
       "      <td>24000.0</td>\n",
       "      <td>nM</td>\n",
       "      <td>O=C(NS(=O)(=O)Cc1ccccc1)c1ccc2cc(C(F)(F)P(=O)(...</td>\n",
       "      <td>4.619789</td>\n",
       "    </tr>\n",
       "    <tr>\n",
       "      <th>3</th>\n",
       "      <td>CHEMBL103709</td>\n",
       "      <td>25000.0</td>\n",
       "      <td>nM</td>\n",
       "      <td>O=C(NS(=O)(=O)c1cc(C2(O)NC(=O)c3ccccc32)ccc1Cl...</td>\n",
       "      <td>4.602060</td>\n",
       "    </tr>\n",
       "    <tr>\n",
       "      <th>4</th>\n",
       "      <td>CHEMBL103942</td>\n",
       "      <td>30000.0</td>\n",
       "      <td>nM</td>\n",
       "      <td>O=C(NS(=O)(=O)c1ccccc1)c1ccc2cc(C(F)(F)P(=O)(O...</td>\n",
       "      <td>4.522879</td>\n",
       "    </tr>\n",
       "  </tbody>\n",
       "</table>\n",
       "</div>"
      ],
      "text/plain": [
       "  molecule_chembl_id        IC50 units  \\\n",
       "0       CHEMBL100267  20000000.0    nM   \n",
       "1       CHEMBL101427     19000.0    nM   \n",
       "2       CHEMBL102015     24000.0    nM   \n",
       "3       CHEMBL103709     25000.0    nM   \n",
       "4       CHEMBL103942     30000.0    nM   \n",
       "\n",
       "                                              smiles     pIC50  \n",
       "0                     COc1ccc2cc(C(=O)O)ccc2c1C(=O)O  1.698970  \n",
       "1  C[C@H]1CCC[C@@H](C)N1NC(=O)c1ccc(Cl)c(S(=O)(=O...  4.721246  \n",
       "2  O=C(NS(=O)(=O)Cc1ccccc1)c1ccc2cc(C(F)(F)P(=O)(...  4.619789  \n",
       "3  O=C(NS(=O)(=O)c1cc(C2(O)NC(=O)c3ccccc32)ccc1Cl...  4.602060  \n",
       "4  O=C(NS(=O)(=O)c1ccccc1)c1ccc2cc(C(F)(F)P(=O)(O...  4.522879  "
      ]
     },
     "execution_count": 91,
     "metadata": {},
     "output_type": "execute_result"
    }
   ],
   "source": [
    "# Apply conversion to each row of the compounds DataFrame\n",
    "output_df[\"pIC50\"] = output_df.apply(lambda x: convert_ic50_to_pic50(x.IC50), axis=1)\n",
    "output_df.head()"
   ]
  },
  {
   "cell_type": "code",
   "execution_count": 92,
   "id": "8494de75",
   "metadata": {},
   "outputs": [
    {
     "data": {
      "text/plain": [
       "array([[<AxesSubplot:title={'center':'pIC50'}>]], dtype=object)"
      ]
     },
     "execution_count": 92,
     "metadata": {},
     "output_type": "execute_result"
    },
    {
     "data": {
      "image/png": "[encoded data removed]",
      "text/plain": [
       "<Figure size 432x288 with 1 Axes>"
      ]
     },
     "metadata": {
      "needs_background": "light"
     },
     "output_type": "display_data"
    }
   ],
   "source": [
    "output_df.hist(column=\"pIC50\")"
   ]
  },
  {
   "cell_type": "code",
   "execution_count": 93,
   "id": "2daf1c96",
   "metadata": {},
   "outputs": [],
   "source": [
    "# Add molecule column\n",
    "PandasTools.AddMoleculeColumnToFrame(output_df, smilesCol=\"smiles\")"
   ]
  },
  {
   "cell_type": "code",
   "execution_count": 94,
   "id": "5e8fbdf9",
   "metadata": {},
   "outputs": [],
   "source": [
    "# Sort molecules by pIC50\n",
    "output_df.sort_values(by=\"pIC50\", ascending=False, inplace=True)\n",
    "\n",
    "# Reset index\n",
    "output_df.reset_index(drop=True, inplace=True)"
   ]
  },
  {
   "cell_type": "code",
   "execution_count": 100,
   "id": "113df470",
   "metadata": {},
   "outputs": [
    {
     "data": {
      "text/html": [
       "<div>\n",
       "<style scoped>\n",
       "    .dataframe tbody tr th:only-of-type {\n",
       "        vertical-align: middle;\n",
       "    }\n",
       "\n",
       "    .dataframe tbody tr th {\n",
       "        vertical-align: top;\n",
       "    }\n",
       "\n",
       "    .dataframe thead th {\n",
       "        text-align: right;\n",
       "    }\n",
       "</style>\n",
       "<table border=\"1\" class=\"dataframe\">\n",
       "  <thead>\n",
       "    <tr style=\"text-align: right;\">\n",
       "      <th></th>\n",
       "      <th>molecule_chembl_id</th>\n",
       "      <th>IC50</th>\n",
       "      <th>units</th>\n",
       "      <th>smiles</th>\n",
       "      <th>pIC50</th>\n",
       "      <th>ROMol</th>\n",
       "    </tr>\n",
       "  </thead>\n",
       "  <tbody>\n",
       "    <tr>\n",
       "      <th>0</th>\n",
       "      <td>CHEMBL4524071</td>\n",
       "      <td>0.42</td>\n",
       "      <td>nM</td>\n",
       "      <td>C/C=C1\\C(=O)N[C@@H](C(=O)O)[C@H](C)C(=O)N[C@@H...</td>\n",
       "      <td>9.376751</td>\n",
       "      <td style=\"text-align: center;\"><div style=\"width: 200px; height: 200px\" data-content=\"rdkit/molecule\"><img src=\"data:image/png;base64,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\" alt=\"Mol\"/></div></td>\n",
       "    </tr>\n",
       "    <tr>\n",
       "      <th>1</th>\n",
       "      <td>CHEMBL505512</td>\n",
       "      <td>0.67</td>\n",
       "      <td>nM</td>\n",
       "      <td>CO[C@H]([C@H](O)CC(=O)[C@@H](C)[C@@H](O)CC[C@@...</td>\n",
       "      <td>9.173925</td>\n",
       "      <td style=\"text-align: center;\"><div style=\"width: 200px; height: 200px\" data-content=\"rdkit/molecule\"><img src=\"data:image/png;base64,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\" alt=\"Mol\"/></div></td>\n",
       "    </tr>\n",
       "    <tr>\n",
       "      <th>2</th>\n",
       "      <td>CHEMBL444092</td>\n",
       "      <td>1.17</td>\n",
       "      <td>nM</td>\n",
       "      <td>C=C1C(=O)N[C@H](C)C(=O)N[C@@H](CC(C)C)C(=O)N[C...</td>\n",
       "      <td>8.931814</td>\n",
       "      <td style=\"text-align: center;\"><div style=\"width: 200px; height: 200px\" data-content=\"rdkit/molecule\"><img src=\"data:image/png;base64,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\" alt=\"Mol\"/></div></td>\n",
       "    </tr>\n",
       "    <tr>\n",
       "      <th>3</th>\n",
       "      <td>CHEMBL430266</td>\n",
       "      <td>1.20</td>\n",
       "      <td>nM</td>\n",
       "      <td>COC[C@@H]([C@H](O)[C@H](O)C(=O)NCC[C@H](C)c1nc...</td>\n",
       "      <td>8.920819</td>\n",
       "      <td style=\"text-align: center;\"><div style=\"width: 200px; height: 200px\" data-content=\"rdkit/molecule\"><img src=\"data:image/png;base64,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\" alt=\"Mol\"/></div></td>\n",
       "    </tr>\n",
       "    <tr>\n",
       "      <th>4</th>\n",
       "      <td>CHEMBL280487</td>\n",
       "      <td>1.24</td>\n",
       "      <td>nM</td>\n",
       "      <td>C=C1[C@@H]([C@@H](O)C[C@H](C)[C@H]2O[C@@]3(CCC...</td>\n",
       "      <td>8.906578</td>\n",
       "      <td style=\"text-align: center;\"><div style=\"width: 200px; height: 200px\" data-content=\"rdkit/molecule\"><img src=\"data:image/png;base64,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\" alt=\"Mol\"/></div></td>\n",
       "    </tr>\n",
       "    <tr>\n",
       "      <th>...</th>\n",
       "      <td>...</td>\n",
       "      <td>...</td>\n",
       "      <td>...</td>\n",
       "      <td>...</td>\n",
       "      <td>...</td>\n",
       "      <td>...</td>\n",
       "    </tr>\n",
       "    <tr>\n",
       "      <th>2978</th>\n",
       "      <td>CHEMBL324473</td>\n",
       "      <td>12200000.00</td>\n",
       "      <td>nM</td>\n",
       "      <td>C=CCOC(=O)/C=C\\c1cccc(C(F)(F)P(=O)(O)O)c1.N.N</td>\n",
       "      <td>1.913640</td>\n",
       "      <td style=\"text-align: center;\"><div style=\"width: 200px; height: 200px\" data-content=\"rdkit/molecule\"><img src=\"data:image/png;base64,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\" alt=\"Mol\"/></div></td>\n",
       "    </tr>\n",
       "    <tr>\n",
       "      <th>2979</th>\n",
       "      <td>CHEMBL169826</td>\n",
       "      <td>13000000.00</td>\n",
       "      <td>nM</td>\n",
       "      <td>CC(=O)N[C@@H](CC(=O)O)C(=O)N[C@@H](C)C(=O)N[C@...</td>\n",
       "      <td>1.886057</td>\n",
       "      <td style=\"text-align: center;\"><div style=\"width: 200px; height: 200px\" data-content=\"rdkit/molecule\"><img src=\"data:image/png;base64,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\" alt=\"Mol\"/></div></td>\n",
       "    </tr>\n",
       "    <tr>\n",
       "      <th>2980</th>\n",
       "      <td>CHEMBL100267</td>\n",
       "      <td>20000000.00</td>\n",
       "      <td>nM</td>\n",
       "      <td>COc1ccc2cc(C(=O)O)ccc2c1C(=O)O</td>\n",
       "      <td>1.698970</td>\n",
       "      <td style=\"text-align: center;\"><div style=\"width: 200px; height: 200px\" data-content=\"rdkit/molecule\"><img src=\"data:image/png;base64,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\" alt=\"Mol\"/></div></td>\n",
       "    </tr>\n",
       "    <tr>\n",
       "      <th>2981</th>\n",
       "      <td>CHEMBL95668</td>\n",
       "      <td>28000000.00</td>\n",
       "      <td>nM</td>\n",
       "      <td>O=S(=O)([O-])c1cccc2c(S(=O)(=O)[O-])cccc12.[Na...</td>\n",
       "      <td>1.552842</td>\n",
       "      <td style=\"text-align: center;\"><div style=\"width: 200px; height: 200px\" data-content=\"rdkit/molecule\"><img src=\"data:image/png;base64,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\" alt=\"Mol\"/></div></td>\n",
       "    </tr>\n",
       "    <tr>\n",
       "      <th>2982</th>\n",
       "      <td>CHEMBL330395</td>\n",
       "      <td>29000000.00</td>\n",
       "      <td>nM</td>\n",
       "      <td>CS(=O)(=O)Nc1cccc2cc(S(=O)(=O)O)ccc12</td>\n",
       "      <td>1.537602</td>\n",
       "      <td style=\"text-align: center;\"><div style=\"width: 200px; height: 200px\" data-content=\"rdkit/molecule\"><img src=\"data:image/png;base64,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\" alt=\"Mol\"/></div></td>\n",
       "    </tr>\n",
       "  </tbody>\n",
       "</table>\n",
       "<p>2983 rows × 6 columns</p>\n",
       "</div>"
      ],
      "text/plain": [
       "     molecule_chembl_id         IC50 units  \\\n",
       "0         CHEMBL4524071         0.42    nM   \n",
       "1          CHEMBL505512         0.67    nM   \n",
       "2          CHEMBL444092         1.17    nM   \n",
       "3          CHEMBL430266         1.20    nM   \n",
       "4          CHEMBL280487         1.24    nM   \n",
       "...                 ...          ...   ...   \n",
       "2978       CHEMBL324473  12200000.00    nM   \n",
       "2979       CHEMBL169826  13000000.00    nM   \n",
       "2980       CHEMBL100267  20000000.00    nM   \n",
       "2981        CHEMBL95668  28000000.00    nM   \n",
       "2982       CHEMBL330395  29000000.00    nM   \n",
       "\n",
       "                                                 smiles     pIC50  \\\n",
       "0     C/C=C1\\C(=O)N[C@@H](C(=O)O)[C@H](C)C(=O)N[C@@H...  9.376751   \n",
       "1     CO[C@H]([C@H](O)CC(=O)[C@@H](C)[C@@H](O)CC[C@@...  9.173925   \n",
       "2     C=C1C(=O)N[C@H](C)C(=O)N[C@@H](CC(C)C)C(=O)N[C...  8.931814   \n",
       "3     COC[C@@H]([C@H](O)[C@H](O)C(=O)NCC[C@H](C)c1nc...  8.920819   \n",
       "4     C=C1[C@@H]([C@@H](O)C[C@H](C)[C@H]2O[C@@]3(CCC...  8.906578   \n",
       "...                                                 ...       ...   \n",
       "2978      C=CCOC(=O)/C=C\\c1cccc(C(F)(F)P(=O)(O)O)c1.N.N  1.913640   \n",
       "2979  CC(=O)N[C@@H](CC(=O)O)C(=O)N[C@@H](C)C(=O)N[C@...  1.886057   \n",
       "2980                     COc1ccc2cc(C(=O)O)ccc2c1C(=O)O  1.698970   \n",
       "2981  O=S(=O)([O-])c1cccc2c(S(=O)(=O)[O-])cccc12.[Na...  1.552842   \n",
       "2982              CS(=O)(=O)Nc1cccc2cc(S(=O)(=O)O)ccc12  1.537602   \n",
       "\n",
       "                                                 ROMol  \n",
       "0     <rdkit.Chem.rdchem.Mol object at 0x7fd6bdf3a340>  \n",
       "1     <rdkit.Chem.rdchem.Mol object at 0x7fd6bdf42f40>  \n",
       "2     <rdkit.Chem.rdchem.Mol object at 0x7fd6bdf363a0>  \n",
       "3     <rdkit.Chem.rdchem.Mol object at 0x7fd6bdf35100>  \n",
       "4     <rdkit.Chem.rdchem.Mol object at 0x7fd6bdf1efa0>  \n",
       "...                                                ...  \n",
       "2978  <rdkit.Chem.rdchem.Mol object at 0x7fd6bdf23400>  \n",
       "2979  <rdkit.Chem.rdchem.Mol object at 0x7fd6bdf88ac0>  \n",
       "2980  <rdkit.Chem.rdchem.Mol object at 0x7fd6bdf9fe80>  \n",
       "2981  <rdkit.Chem.rdchem.Mol object at 0x7fd6bdf4a2e0>  \n",
       "2982  <rdkit.Chem.rdchem.Mol object at 0x7fd6bdf238e0>  \n",
       "\n",
       "[2983 rows x 6 columns]"
      ]
     },
     "execution_count": 100,
     "metadata": {},
     "output_type": "execute_result"
    }
   ],
   "source": [
    "output_df.drop(\"smiles\", axis=1)\n",
    "output_df"
   ]
  },
  {
   "cell_type": "code",
   "execution_count": 101,
   "id": "edcfc725",
   "metadata": {},
   "outputs": [
    {
     "name": "stdout",
     "output_type": "stream",
     "text": [
      "DataFrame shape: (2983, 5)\n"
     ]
    }
   ],
   "source": [
    "# Prepare saving the dataset: Drop the ROMol column\n",
    "output_df = output_df.drop(\"ROMol\", axis=1)\n",
    "print(f\"DataFrame shape: {output_df.shape}\")"
   ]
  },
  {
   "cell_type": "code",
   "execution_count": 103,
   "id": "c51f544e",
   "metadata": {},
   "outputs": [
    {
     "data": {
      "text/html": [
       "<div>\n",
       "<style scoped>\n",
       "    .dataframe tbody tr th:only-of-type {\n",
       "        vertical-align: middle;\n",
       "    }\n",
       "\n",
       "    .dataframe tbody tr th {\n",
       "        vertical-align: top;\n",
       "    }\n",
       "\n",
       "    .dataframe thead th {\n",
       "        text-align: right;\n",
       "    }\n",
       "</style>\n",
       "<table border=\"1\" class=\"dataframe\">\n",
       "  <thead>\n",
       "    <tr style=\"text-align: right;\">\n",
       "      <th></th>\n",
       "      <th>molecule_chembl_id</th>\n",
       "      <th>IC50</th>\n",
       "      <th>units</th>\n",
       "      <th>smiles</th>\n",
       "      <th>pIC50</th>\n",
       "    </tr>\n",
       "  </thead>\n",
       "  <tbody>\n",
       "    <tr>\n",
       "      <th>0</th>\n",
       "      <td>CHEMBL4524071</td>\n",
       "      <td>0.42</td>\n",
       "      <td>nM</td>\n",
       "      <td>C/C=C1\\C(=O)N[C@@H](C(=O)O)[C@H](C)C(=O)N[C@@H...</td>\n",
       "      <td>9.376751</td>\n",
       "    </tr>\n",
       "    <tr>\n",
       "      <th>1</th>\n",
       "      <td>CHEMBL505512</td>\n",
       "      <td>0.67</td>\n",
       "      <td>nM</td>\n",
       "      <td>CO[C@H]([C@H](O)CC(=O)[C@@H](C)[C@@H](O)CC[C@@...</td>\n",
       "      <td>9.173925</td>\n",
       "    </tr>\n",
       "    <tr>\n",
       "      <th>2</th>\n",
       "      <td>CHEMBL444092</td>\n",
       "      <td>1.17</td>\n",
       "      <td>nM</td>\n",
       "      <td>C=C1C(=O)N[C@H](C)C(=O)N[C@@H](CC(C)C)C(=O)N[C...</td>\n",
       "      <td>8.931814</td>\n",
       "    </tr>\n",
       "    <tr>\n",
       "      <th>3</th>\n",
       "      <td>CHEMBL430266</td>\n",
       "      <td>1.20</td>\n",
       "      <td>nM</td>\n",
       "      <td>COC[C@@H]([C@H](O)[C@H](O)C(=O)NCC[C@H](C)c1nc...</td>\n",
       "      <td>8.920819</td>\n",
       "    </tr>\n",
       "    <tr>\n",
       "      <th>4</th>\n",
       "      <td>CHEMBL280487</td>\n",
       "      <td>1.24</td>\n",
       "      <td>nM</td>\n",
       "      <td>C=C1[C@@H]([C@@H](O)C[C@H](C)[C@H]2O[C@@]3(CCC...</td>\n",
       "      <td>8.906578</td>\n",
       "    </tr>\n",
       "  </tbody>\n",
       "</table>\n",
       "</div>"
      ],
      "text/plain": [
       "  molecule_chembl_id  IC50 units  \\\n",
       "0      CHEMBL4524071  0.42    nM   \n",
       "1       CHEMBL505512  0.67    nM   \n",
       "2       CHEMBL444092  1.17    nM   \n",
       "3       CHEMBL430266  1.20    nM   \n",
       "4       CHEMBL280487  1.24    nM   \n",
       "\n",
       "                                              smiles     pIC50  \n",
       "0  C/C=C1\\C(=O)N[C@@H](C(=O)O)[C@H](C)C(=O)N[C@@H...  9.376751  \n",
       "1  CO[C@H]([C@H](O)CC(=O)[C@@H](C)[C@@H](O)CC[C@@...  9.173925  \n",
       "2  C=C1C(=O)N[C@H](C)C(=O)N[C@@H](CC(C)C)C(=O)N[C...  8.931814  \n",
       "3  COC[C@@H]([C@H](O)[C@H](O)C(=O)NCC[C@H](C)c1nc...  8.920819  \n",
       "4  C=C1[C@@H]([C@@H](O)C[C@H](C)[C@H]2O[C@@]3(CCC...  8.906578  "
      ]
     },
     "execution_count": 103,
     "metadata": {},
     "output_type": "execute_result"
    }
   ],
   "source": [
    "# Save dataset for next notebook\n",
    "output_df.to_csv(DATA / \"PTP1B_compounds.csv\")\n",
    "output_df.head()"
   ]
  },
  {
   "cell_type": "code",
   "execution_count": null,
   "id": "857fb56c",
   "metadata": {},
   "outputs": [],
   "source": []
  }
 ],
 "metadata": {
  "kernelspec": {
   "display_name": "Python 3 (ipykernel)",
   "language": "python",
   "name": "python3"
  },
  "language_info": {
   "codemirror_mode": {
    "name": "ipython",
    "version": 3
   },
   "file_extension": ".py",
   "mimetype": "text/x-python",
   "name": "python",
   "nbconvert_exporter": "python",
   "pygments_lexer": "ipython3",
   "version": "3.9.12"
  }
 },
 "nbformat": 4,
 "nbformat_minor": 5
}
