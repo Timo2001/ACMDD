{
 "cells": [
  {
   "cell_type": "markdown",
   "id": "d564960c",
   "metadata": {},
   "source": [
    "# Remove Unwanted Substructures\n",
    "Aim: remove unselective substructures (PAINS) and other unwanted substructures"
   ]
  },
  {
   "cell_type": "markdown",
   "id": "cd967a9d",
   "metadata": {},
   "source": [
    "# Load Modules"
   ]
  },
  {
   "cell_type": "code",
   "execution_count": 1,
   "id": "9abd7619",
   "metadata": {},
   "outputs": [],
   "source": [
    "from pathlib import Path\n",
    "\n",
    "import pandas as pd\n",
    "from tqdm.auto import tqdm\n",
    "from rdkit import Chem\n",
    "from rdkit.Chem import PandasTools\n",
    "from rdkit.Chem.FilterCatalog import FilterCatalog, FilterCatalogParams"
   ]
  },
  {
   "cell_type": "code",
   "execution_count": 2,
   "id": "d984d061",
   "metadata": {},
   "outputs": [],
   "source": [
    "# define paths\n",
    "HERE = Path(_dh[-1])\n",
    "DATA = HERE / \"data\""
   ]
  },
  {
   "cell_type": "code",
   "execution_count": 8,
   "id": "56bebac9",
   "metadata": {},
   "outputs": [
    {
     "name": "stdout",
     "output_type": "stream",
     "text": [
      "Dataframe shape: (872, 10)\n"
     ]
    },
    {
     "data": {
      "text/html": [
       "<div>\n",
       "<style scoped>\n",
       "    .dataframe tbody tr th:only-of-type {\n",
       "        vertical-align: middle;\n",
       "    }\n",
       "\n",
       "    .dataframe tbody tr th {\n",
       "        vertical-align: top;\n",
       "    }\n",
       "\n",
       "    .dataframe thead th {\n",
       "        text-align: right;\n",
       "    }\n",
       "</style>\n",
       "<table border=\"1\" class=\"dataframe\">\n",
       "  <thead>\n",
       "    <tr style=\"text-align: right;\">\n",
       "      <th></th>\n",
       "      <th>SMILES</th>\n",
       "      <th>ro5_fulfilled</th>\n",
       "    </tr>\n",
       "  </thead>\n",
       "  <tbody>\n",
       "    <tr>\n",
       "      <th>0</th>\n",
       "      <td>O=C(c1ccc(O)cc1)N1CCC(Cc2ccccc2)CC1</td>\n",
       "      <td>True</td>\n",
       "    </tr>\n",
       "    <tr>\n",
       "      <th>1</th>\n",
       "      <td>C=C(CCC)C1=CC2=C3C(=O)C(=O)C(=Cc4ccccc4)C2=C(O...</td>\n",
       "      <td>True</td>\n",
       "    </tr>\n",
       "    <tr>\n",
       "      <th>2</th>\n",
       "      <td>COC(=O)C1C(C)=NC(=O)NC1c1ccc(C)cc1</td>\n",
       "      <td>True</td>\n",
       "    </tr>\n",
       "    <tr>\n",
       "      <th>3</th>\n",
       "      <td>O=C(O)C(=O)Nc1ccc(OCc2c(F)cccc2Br)cc1</td>\n",
       "      <td>True</td>\n",
       "    </tr>\n",
       "    <tr>\n",
       "      <th>4</th>\n",
       "      <td>O=C(O)COc1c(C(=O)O)sc(-c2ccccc2)c1Br</td>\n",
       "      <td>True</td>\n",
       "    </tr>\n",
       "  </tbody>\n",
       "</table>\n",
       "</div>"
      ],
      "text/plain": [
       "                                              SMILES  ro5_fulfilled\n",
       "0                O=C(c1ccc(O)cc1)N1CCC(Cc2ccccc2)CC1           True\n",
       "1  C=C(CCC)C1=CC2=C3C(=O)C(=O)C(=Cc4ccccc4)C2=C(O...           True\n",
       "2                 COC(=O)C1C(C)=NC(=O)NC1c1ccc(C)cc1           True\n",
       "3              O=C(O)C(=O)Nc1ccc(OCc2c(F)cccc2Br)cc1           True\n",
       "4               O=C(O)COc1c(C(=O)O)sc(-c2ccccc2)c1Br           True"
      ]
     },
     "execution_count": 8,
     "metadata": {},
     "output_type": "execute_result"
    }
   ],
   "source": [
    "PTP1B_data = pd.read_csv(DATA / \"PTP1B_generated_lipinski.csv\")\n",
    "PTP1B_data = PTP1B_data.iloc[:,1:]\n",
    "\n",
    "# Drop unnecessary information\n",
    "print(\"Dataframe shape:\", PTP1B_data.shape)\n",
    "PTP1B_data.drop(columns=[\"molecular_weight.1\", \"n_hbd.1\", \"n_hba.1\", \"logp.1\", \"molecular_weight\", \"n_hbd\", \"n_hba\", \"logp\"], inplace=True)\n",
    "PTP1B_data.head()"
   ]
  },
  {
   "cell_type": "code",
   "execution_count": 11,
   "id": "fc745d56",
   "metadata": {},
   "outputs": [
    {
     "data": {
      "image/png": "[encoded data removed]",
      "text/plain": [
       "<IPython.core.display.Image object>"
      ]
     },
     "execution_count": 11,
     "metadata": {},
     "output_type": "execute_result"
    }
   ],
   "source": [
    "# Add molecule column\n",
    "PandasTools.AddMoleculeColumnToFrame(PTP1B_data, smilesCol=\"SMILES\")\n",
    "# Draw first 3 molecules\n",
    "Chem.Draw.MolsToGridImage(\n",
    "    list(PTP1B_data.head(3).ROMol)\n",
    ")"
   ]
  },
  {
   "cell_type": "code",
   "execution_count": 12,
   "id": "bae7d74a",
   "metadata": {},
   "outputs": [],
   "source": [
    "# initialize filter\n",
    "params = FilterCatalogParams()\n",
    "params.AddCatalog(FilterCatalogParams.FilterCatalogs.PAINS)\n",
    "catalog = FilterCatalog(params)"
   ]
  },
  {
   "cell_type": "code",
   "execution_count": 15,
   "id": "ec713db6",
   "metadata": {},
   "outputs": [
    {
     "data": {
      "application/vnd.jupyter.widget-view+json": {
       "model_id": "8eef0047c8d04f14811902addbd508c8",
       "version_major": 2,
       "version_minor": 0
      },
      "text/plain": [
       "  0%|          | 0/872 [00:00<?, ?it/s]"
      ]
     },
     "metadata": {},
     "output_type": "display_data"
    }
   ],
   "source": [
    "# search for PAINS\n",
    "matches = []\n",
    "clean = []\n",
    "for index, row in tqdm(PTP1B_data.iterrows(), total=PTP1B_data.shape[0]):\n",
    "    molecule = Chem.MolFromSmiles(row.SMILES)\n",
    "    entry = catalog.GetFirstMatch(molecule)  # Get the first matching PAINS\n",
    "    if entry is not None:\n",
    "        # store PAINS information\n",
    "        matches.append(\n",
    "            {\n",
    "                \"chembl_id\": row.SMILES,\n",
    "                \"rdkit_molecule\": molecule,\n",
    "                \"pains\": entry.GetDescription().capitalize(),\n",
    "            }\n",
    "        )\n",
    "    else:\n",
    "        # collect indices of molecules without PAINS\n",
    "        clean.append(index)\n",
    "\n",
    "matches = pd.DataFrame(matches)\n",
    "PTP1B_data = PTP1B_data.loc[clean]  # keep molecules without PAINS"
   ]
  },
  {
   "cell_type": "code",
   "execution_count": 17,
   "id": "c15b6dab",
   "metadata": {},
   "outputs": [
    {
     "name": "stdout",
     "output_type": "stream",
     "text": [
      "Number of compounds with PAINS: 84\n",
      "Number of compounds without PAINS: 788\n"
     ]
    }
   ],
   "source": [
    "# NBVAL_CHECK_OUTPUT\n",
    "print(f\"Number of compounds with PAINS: {len(matches)}\")\n",
    "print(f\"Number of compounds without PAINS: {len(PTP1B_data)}\")\n",
    "\n",
    "PTP1B_data.to_csv(\"PAINS_removed_generated.csv\")"
   ]
  },
  {
   "cell_type": "markdown",
   "id": "4ff6d8e1",
   "metadata": {},
   "source": [
    "## Unwanted Substructures"
   ]
  },
  {
   "cell_type": "code",
   "execution_count": 18,
   "id": "796556f6",
   "metadata": {},
   "outputs": [
    {
     "name": "stdout",
     "output_type": "stream",
     "text": [
      "Number of unwanted substructures in collection: 104\n"
     ]
    }
   ],
   "source": [
    "substructures = pd.read_csv(DATA / \"unwanted_substructures.csv\", sep=\"\\s+\")\n",
    "substructures[\"rdkit_molecule\"] = substructures.smarts.apply(Chem.MolFromSmarts)\n",
    "print(\"Number of unwanted substructures in collection:\", len(substructures))\n",
    "# NBVAL_CHECK_OUTPUT"
   ]
  },
  {
   "cell_type": "code",
   "execution_count": 20,
   "id": "bb4895d2",
   "metadata": {},
   "outputs": [
    {
     "data": {
      "application/vnd.jupyter.widget-view+json": {
       "model_id": "77fed548ebdb42e9bf821801c1edd033",
       "version_major": 2,
       "version_minor": 0
      },
      "text/plain": [
       "  0%|          | 0/788 [00:00<?, ?it/s]"
      ]
     },
     "metadata": {},
     "output_type": "display_data"
    }
   ],
   "source": [
    "# search for unwanted substructure\n",
    "matches = []\n",
    "clean = []\n",
    "for index, row in tqdm(PTP1B_data.iterrows(), total=PTP1B_data.shape[0]):\n",
    "    molecule = Chem.MolFromSmiles(row.SMILES)\n",
    "    match = False\n",
    "    for _, substructure in substructures.iterrows():\n",
    "        if molecule.HasSubstructMatch(substructure.rdkit_molecule):\n",
    "            matches.append(\n",
    "                {\n",
    "                    \"chembl_id\": row.SMILES,\n",
    "                    \"rdkit_molecule\": molecule,\n",
    "                    \"substructure\": substructure.rdkit_molecule,\n",
    "                    \"substructure_name\": substructure[\"name\"],\n",
    "                }\n",
    "            )\n",
    "            match = True\n",
    "    if not match:\n",
    "        clean.append(index)\n",
    "\n",
    "matches = pd.DataFrame(matches)\n",
    "PTP1B_data = PTP1B_data.loc[clean]"
   ]
  },
  {
   "cell_type": "code",
   "execution_count": 21,
   "id": "f0fbd44d",
   "metadata": {},
   "outputs": [
    {
     "name": "stdout",
     "output_type": "stream",
     "text": [
      "Number of found unwanted substructure: 584\n",
      "Number of compounds without unwanted substructure: 391\n"
     ]
    }
   ],
   "source": [
    "# NBVAL_CHECK_OUTPUT\n",
    "print(f\"Number of found unwanted substructure: {len(matches)}\")\n",
    "print(f\"Number of compounds without unwanted substructure: {len(PTP1B_data)}\")"
   ]
  },
  {
   "cell_type": "code",
   "execution_count": 22,
   "id": "1fc9904a",
   "metadata": {},
   "outputs": [
    {
     "data": {
      "image/png": "[encoded data removed]",
      "text/plain": [
       "<IPython.core.display.Image object>"
      ]
     },
     "execution_count": 22,
     "metadata": {},
     "output_type": "execute_result"
    }
   ],
   "source": [
    "to_highlight = [\n",
    "    row.rdkit_molecule.GetSubstructMatch(row.substructure) for _, row in matches.head(3).iterrows()\n",
    "]\n",
    "Chem.Draw.MolsToGridImage(\n",
    "    list(matches.head(3).rdkit_molecule),\n",
    "    highlightAtomLists=to_highlight,\n",
    "    legends=list(matches.head(3).substructure_name),\n",
    ")"
   ]
  },
  {
   "cell_type": "code",
   "execution_count": 23,
   "id": "ab859a33",
   "metadata": {},
   "outputs": [],
   "source": [
    "PTP1B_data.to_csv(DATA / \"PAINSandUNWANTED_removed_generated.csv\")"
   ]
  },
  {
   "cell_type": "markdown",
   "id": "0b530c74",
   "metadata": {},
   "source": [
    "39.1% of the original De Novo set is left, the compounds will now be evaluated whether they are active"
   ]
  },
  {
   "cell_type": "code",
   "execution_count": null,
   "id": "315dda0f",
   "metadata": {},
   "outputs": [],
   "source": []
  }
 ],
 "metadata": {
  "kernelspec": {
   "display_name": "Python 3 (ipykernel)",
   "language": "python",
   "name": "python3"
  },
  "language_info": {
   "codemirror_mode": {
    "name": "ipython",
    "version": 3
   },
   "file_extension": ".py",
   "mimetype": "text/x-python",
   "name": "python",
   "nbconvert_exporter": "python",
   "pygments_lexer": "ipython3",
   "version": "3.9.12"
  }
 },
 "nbformat": 4,
 "nbformat_minor": 5
}
